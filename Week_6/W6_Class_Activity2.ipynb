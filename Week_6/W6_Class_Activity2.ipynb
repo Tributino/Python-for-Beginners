{
 "cells": [
  {
   "cell_type": "markdown",
   "metadata": {},
   "source": [
    "<img src=\"images/lasalle_logo.png\" style=\"width:375px;height:110px;\">"
   ]
  },
  {
   "cell_type": "markdown",
   "metadata": {},
   "source": [
    "# Week 6 - Regular Expressions\n",
    "\n",
    "### WIM250 - Introduction to Scripting Languages \n",
    "### Instructor: Ivaldo Tributino\n",
    "\n",
    "Source:\n",
    "\n",
    "- Python for Everybody Exploring Data Using Python 3 by Dr. Charles R. Severance\n",
    "- https://medium.com/@chongye225/python-regular-expression-2ac91e084662"
   ]
  },
  {
   "cell_type": "markdown",
   "metadata": {},
   "source": [
    "## Introduction\n",
    "\n",
    "This task of searching and extracting is so common that Python has a very powerful library called `regular expressions` that handles many of these tasks quite elegantly. \n",
    "\n",
    "<img src=\"images/regular_ex.png\" style=\"width:750px;height:400px;\">\n",
    "\n",
    "`Regular Expression`, is a sequence of characters that forms a search pattern. the characters above can be used to check if a string contains a specified search pattern.\n",
    "\n",
    "\n",
    "Regular expressions are almost their own little programming language for searching and parsing strings. In this course, we will only cover the basics of regular expressions. For more detail on regular expressions, see:\n",
    "https://docs.python.org/3/library/re.html\n",
    "\n",
    "The regular expression library `re` must be imported into your program before you can use it. The simplest use of the regular expression library is the `search()` function. The following program demonstrates a trivial use of the search function."
   ]
  },
  {
   "cell_type": "code",
   "execution_count": 6,
   "metadata": {},
   "outputs": [
    {
     "name": "stdout",
     "output_type": "stream",
     "text": [
      "Ivaldo Tributino de Sousa Joined 7/27/2021, 1:28:33 PM\n",
      "Tributino Ivaldo de Sousa Joined 7/27/2021, 1:28:33 PM\n"
     ]
    }
   ],
   "source": [
    "import re  # Importing re module\n",
    "\n",
    "name = 'Ivaldo' # try Ryan, john, Risa ...\n",
    "fhand = open('attendance.txt')\n",
    "for line in fhand:\n",
    "    line = line.rstrip()\n",
    "    if re.search(name,line): \n",
    "        print(line)"
   ]
  },
  {
   "cell_type": "code",
   "execution_count": 7,
   "metadata": {},
   "outputs": [
    {
     "name": "stdout",
     "output_type": "stream",
     "text": [
      "Ivaldo Tributino de Sousa Joined 7/27/2021, 1:28:33 PM\n",
      "Tributino Ivaldo de Sousa Joined 7/27/2021, 1:28:33 PM\n"
     ]
    }
   ],
   "source": [
    "# Using the string method find() \n",
    "fhand = open('attendance.txt')\n",
    "for line in fhand:\n",
    "    line = line.rstrip()\n",
    "    if line.find(name)!= -1:  \n",
    "        print(line)"
   ]
  },
  {
   "cell_type": "markdown",
   "metadata": {},
   "source": [
    "The power of the `regular expressions` comes when we add special characters to the search string that allow us to more precisely control which lines match the string. Adding these special characters to our regular expression allow us to do `sophisticated matching` and extraction while writing very little code.\n",
    "\n",
    "\n",
    "For example, the caret character is used in regular expressions to match “the beginning” of a line. We could change our program to only match lines where\n",
    "“Ivaldo” was at the beginning of the line as follows:"
   ]
  },
  {
   "cell_type": "code",
   "execution_count": 2,
   "metadata": {},
   "outputs": [
    {
     "ename": "NameError",
     "evalue": "name 're' is not defined",
     "output_type": "error",
     "traceback": [
      "\u001b[0;31m---------------------------------------------------------------------------\u001b[0m",
      "\u001b[0;31mNameError\u001b[0m                                 Traceback (most recent call last)",
      "\u001b[0;32m<ipython-input-2-d8983563eeea>\u001b[0m in \u001b[0;36m<module>\u001b[0;34m\u001b[0m\n\u001b[1;32m      4\u001b[0m \u001b[0;32mfor\u001b[0m \u001b[0mline\u001b[0m \u001b[0;32min\u001b[0m \u001b[0mfhand\u001b[0m\u001b[0;34m:\u001b[0m\u001b[0;34m\u001b[0m\u001b[0;34m\u001b[0m\u001b[0m\n\u001b[1;32m      5\u001b[0m     \u001b[0mline\u001b[0m \u001b[0;34m=\u001b[0m \u001b[0mline\u001b[0m\u001b[0;34m.\u001b[0m\u001b[0mrstrip\u001b[0m\u001b[0;34m(\u001b[0m\u001b[0;34m)\u001b[0m\u001b[0;34m\u001b[0m\u001b[0;34m\u001b[0m\u001b[0m\n\u001b[0;32m----> 6\u001b[0;31m     \u001b[0;32mif\u001b[0m \u001b[0mre\u001b[0m\u001b[0;34m.\u001b[0m\u001b[0msearch\u001b[0m\u001b[0;34m(\u001b[0m\u001b[0mname\u001b[0m\u001b[0;34m,\u001b[0m \u001b[0mline\u001b[0m\u001b[0;34m)\u001b[0m\u001b[0;34m:\u001b[0m\u001b[0;34m\u001b[0m\u001b[0;34m\u001b[0m\u001b[0m\n\u001b[0m\u001b[1;32m      7\u001b[0m         \u001b[0mprint\u001b[0m\u001b[0;34m(\u001b[0m\u001b[0mline\u001b[0m\u001b[0;34m)\u001b[0m\u001b[0;34m\u001b[0m\u001b[0;34m\u001b[0m\u001b[0m\n",
      "\u001b[0;31mNameError\u001b[0m: name 're' is not defined"
     ]
    }
   ],
   "source": [
    "fhand = open('attendance.txt')\n",
    "\n",
    "name = '^Ivaldo'\n",
    "for line in fhand:\n",
    "    line = line.rstrip()\n",
    "    if re.search(name, line): \n",
    "        print(line)"
   ]
  },
  {
   "cell_type": "markdown",
   "metadata": {},
   "source": [
    "Now we will only match lines that start with the string “Ivaldo”. This is still a very simple example that we could have done equivalently with the` startswith()` method from the string library. But it serves to introduce the notion that regular expressions contain special action characters that give us more control as to what will match the regular expression."
   ]
  },
  {
   "cell_type": "code",
   "execution_count": 8,
   "metadata": {},
   "outputs": [
    {
     "name": "stdout",
     "output_type": "stream",
     "text": [
      "Ivaldo Tributino de Sousa Joined 7/27/2021, 1:28:33 PM\n"
     ]
    }
   ],
   "source": [
    "# Using the string method startswith() \n",
    "fhand = open('attendance.txt')\n",
    "for line in fhand:\n",
    "    line = line.rstrip()\n",
    "    if line.startswith('Ivaldo'): \n",
    "        print(line)"
   ]
  },
  {
   "cell_type": "markdown",
   "metadata": {},
   "source": [
    "## Character matching in regular expressions\n",
    "\n",
    "There are a number of other special characters that let us build even more powerful regular expressions. The most commonly used special character is the `period` or `full stop`, which matches any character.\n",
    "\n",
    "Example, the regular expression `F..m:` would match any of the strings `“From:”`, `“Fxxm:”`, `“F12m:”`, or `“F!@m:”` since the period characters in the regular expression match any character."
   ]
  },
  {
   "cell_type": "code",
   "execution_count": null,
   "metadata": {},
   "outputs": [],
   "source": [
    "fhand = open('attendance.txt')\n",
    "for line in fhand:\n",
    "    line = line.rstrip()\n",
    "    if re.search('J..n', line): # Try Joined, Join and J..n\n",
    "        print(line)"
   ]
  },
  {
   "cell_type": "markdown",
   "metadata": {},
   "source": [
    "Let's say you don't know how to spell my name 'Ivaldo'. However, you know that my name starts with `\"I\"` and ends with \"`o`\". How can I find my name if I don't know how many characters there are between `\"I\"` and `\"o\"`.\n",
    "\n",
    "## <center>I____o</center>"
   ]
  },
  {
   "cell_type": "code",
   "execution_count": null,
   "metadata": {},
   "outputs": [],
   "source": [
    "fhand = open('attendance.txt')\n",
    "for line in fhand:\n",
    "    line = line.rstrip()\n",
    "    if re.search('I\\S+o', line): #  try I..o and I.+o or I.*o\n",
    "        print(line)"
   ]
  },
  {
   "cell_type": "markdown",
   "metadata": {},
   "source": [
    "It is good to think of the `plus` and `asterisk` characters as “pushy”. For example, the following string would match the last `o` in the string as the .+ pushes outwards, as shown below:"
   ]
  },
  {
   "cell_type": "code",
   "execution_count": null,
   "metadata": {},
   "outputs": [],
   "source": [
    "line1 = 'I am not an impresario' #  produces entertainment, especially the director of an opera company.\n",
    "line2 = 'Ivaldo'\n",
    "lines = [line1, line2]\n",
    "for line in lines:\n",
    "    if re.search('I.*o', line): \n",
    "        print(line)"
   ]
  },
  {
   "cell_type": "markdown",
   "metadata": {},
   "source": [
    "It is possible to tell an asterisk or plus sign not to be so `“greedy”` by adding another character.(matches as many characters as possible.). However in this exaple is better we use `non-whitespace character`."
   ]
  },
  {
   "cell_type": "code",
   "execution_count": null,
   "metadata": {},
   "outputs": [],
   "source": [
    "for line in lines:\n",
    "    if re.search('I\\S*o', line): # try 'I.*o', 'I\\S+o' and 'I\\S+'\n",
    "        print(line)"
   ]
  },
  {
   "cell_type": "markdown",
   "metadata": {},
   "source": [
    "## Extracting data using regular expressions\n",
    "\n",
    "If we want to extract data from a string in Python we can use the `findall()` method to extract all of the `substrings` which match a regular expression. Let’s use the example of wanting to extract anything that looks like an time."
   ]
  },
  {
   "cell_type": "code",
   "execution_count": null,
   "metadata": {},
   "outputs": [],
   "source": [
    "s = 'I joined the meeting at 01:32:24 and left the meeting at 02:56:54'\n",
    "lst = re.findall('[0-9][0-9]', s) # try [0-9], [0-9][0-9], [0-9]+\n",
    "print(lst)"
   ]
  },
  {
   "cell_type": "code",
   "execution_count": null,
   "metadata": {},
   "outputs": [],
   "source": [
    "lst = list(map(int, lst))\n",
    "print(lst)\n",
    "h = (lst[3]-lst[0])*60\n",
    "m = (lst[4]-lst[1])\n",
    "s = (lst[5]-lst[3])/60\n",
    "t = h+m+s     \n",
    "print('I spent %0.2f minutes in the meeting' %t)        "
   ]
  },
  {
   "cell_type": "markdown",
   "metadata": {},
   "source": [
    "Another example from the book Python for Everybody"
   ]
  },
  {
   "cell_type": "code",
   "execution_count": null,
   "metadata": {},
   "outputs": [],
   "source": [
    "s = 'A message from csev@umich.edu to cwen@iupui.edu about meeting @2PM'\n",
    "lst = re.findall('', s) # try '\\s@\\S+', '@+\\S'\n",
    "print(lst)"
   ]
  },
  {
   "cell_type": "markdown",
   "metadata": {},
   "source": [
    "Translating the regular expression, we are looking for substrings that have at least one non-whitespace character, followed by an `@`, followed by at least one more non-whitespace character. The \\S+ matches as many non-whitespace characters as possible.\n",
    "\n",
    "The regular expression would match twice (`csev@umich.edu` and `cwen@iupui.edu`), but it would not match the string “@2PM” because there are no non-blank characters before the at-sign. We can use this regular expression in a program to read all the lines in a file and print out anything that looks like an email address as follows:"
   ]
  },
  {
   "cell_type": "markdown",
   "metadata": {},
   "source": [
    "## Combining searching and extracting\n",
    "\n",
    "Let's translate the code below:"
   ]
  },
  {
   "cell_type": "code",
   "execution_count": null,
   "metadata": {},
   "outputs": [],
   "source": [
    "fhand = open('mbox-short.txt') \n",
    "for line in fhand:\n",
    "    line = line.rstrip()\n",
    "    if re.search('^X\\S*: [0-9.]+', line):\n",
    "        print(line)    "
   ]
  },
  {
   "cell_type": "markdown",
   "metadata": {},
   "source": [
    "`Parentheses` are another special character in regular expressions. When you add `parentheses` to a regular expression, they are ignored when matching the string. But when you are using `findall()`, parentheses indicate that while you want the whole expression to match, you only are interested in `extracting` a portion of the substring that matches the regular expression."
   ]
  },
  {
   "cell_type": "code",
   "execution_count": null,
   "metadata": {},
   "outputs": [],
   "source": [
    "hand = open('mbox-short.txt')\n",
    "for line in hand:\n",
    "    line = line.rstrip()\n",
    "    x = re.findall('^X\\S*: ([0-9.]+)', line) # try ^X\\S*: ([0-9.]+)\n",
    "    if len(x) > 0:\n",
    "        print(x)"
   ]
  },
  {
   "cell_type": "markdown",
   "metadata": {},
   "source": [
    "Now, we were interested in the time of day of each mail message. We looked for lines of the form:\n",
    "\n",
    "```\n",
    "From stephen.marquard@uct.ac.za Sat Jan  5 09:14:16 2008\n",
    "```\n",
    "\n",
    "Now we can use regular expressions to do this following the regular expression:\n",
    "\n",
    "```\n",
    "^From .* [0-9][0-9]:\n",
    "```\n",
    "\n",
    "The translation of this regular expression is that we are looking for lines that start `with From (note the space)`, followed by any number of characters `(.*)`, followed by a space, followed by two digits `[0-9][0-9]`, followed by a colon character. This is the definition of the kinds of lines we are looking for. In order to pull out only the hour using `findall()`, we add parentheses around the two digits as follows:\n",
    "```\n",
    "^From .* ([0-9][0-9]):\n",
    "```"
   ]
  },
  {
   "cell_type": "code",
   "execution_count": null,
   "metadata": {},
   "outputs": [],
   "source": [
    "fhand = open('mbox-short.txt')\n",
    "for line in fhand:\n",
    "    line = line.rstrip()\n",
    "    x = re.findall('^From.* ([0-9][0-9]):', line) \n",
    "    if len(x) > 0: \n",
    "        print(x)"
   ]
  },
  {
   "cell_type": "markdown",
   "metadata": {},
   "source": [
    "Let's redo one of the problems from your midterm exam using the `library re`.\n",
    "\n",
    "**Get the highest number, lowest number, and calculate the sum of the numbers in the list from myList.txt file.**"
   ]
  },
  {
   "cell_type": "code",
   "execution_count": null,
   "metadata": {},
   "outputs": [],
   "source": [
    "with open(\"myList.txt\", \"r\") as file:\n",
    "    data = file.read()\n",
    "data"
   ]
  },
  {
   "cell_type": "code",
   "execution_count": null,
   "metadata": {},
   "outputs": [],
   "source": [
    "print(\"min: %g, max: %g and sum: %g\" %(min(data), max(data), sum(data)))"
   ]
  },
  {
   "cell_type": "markdown",
   "metadata": {},
   "source": [
    "## Escape character\n",
    "\n",
    "\n",
    "Since we use special characters in regular expressions to match the beginning or end of a line or specify wild cards, we need a way to indicate that these characters are “normal” and we want to match the actual character such as a dollar sign, caret or paratheses.\n",
    "\n",
    "We can indicate that we want to simply match a character by prefixing that character with a `backslash`. For example, we can find money amounts with the following regular expression."
   ]
  },
  {
   "cell_type": "code",
   "execution_count": null,
   "metadata": {},
   "outputs": [],
   "source": [
    "comment = '''The view from my window overlooked the wall of another building and the location \n",
    "        was not convenient. But other than that everything was perfect, the whole \n",
    "        staff was very attentive :).'''\n",
    "print(comment)"
   ]
  },
  {
   "cell_type": "code",
   "execution_count": null,
   "metadata": {},
   "outputs": [],
   "source": [
    "x = re.findall(':\\)',comment) \n",
    "x"
   ]
  },
  {
   "cell_type": "markdown",
   "metadata": {},
   "source": [
    "<img src=\"images/sent_analysis.png\" style=\"width:350px;height:175px;\">\n",
    "\n",
    "<center>Image from monkeylearn.com\n",
    "    \n",
    "If you want to know a little more about `Sentiment Analysis`, see: https://monkeylearn.com/sentiment-analysis/    "
   ]
  },
  {
   "cell_type": "code",
   "execution_count": null,
   "metadata": {},
   "outputs": [],
   "source": [
    ":)"
   ]
  },
  {
   "cell_type": "code",
   "execution_count": null,
   "metadata": {},
   "outputs": [],
   "source": []
  }
 ],
 "metadata": {
  "kernelspec": {
   "display_name": "Python 3",
   "language": "python",
   "name": "python3"
  },
  "language_info": {
   "codemirror_mode": {
    "name": "ipython",
    "version": 3
   },
   "file_extension": ".py",
   "mimetype": "text/x-python",
   "name": "python",
   "nbconvert_exporter": "python",
   "pygments_lexer": "ipython3",
   "version": "3.7.9"
  }
 },
 "nbformat": 4,
 "nbformat_minor": 4
}
