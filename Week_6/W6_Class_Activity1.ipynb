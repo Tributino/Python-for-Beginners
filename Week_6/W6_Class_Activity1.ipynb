{
 "cells": [
  {
   "cell_type": "markdown",
   "metadata": {},
   "source": [
    "<img src=\"images/lasalle_logo.png\" style=\"width:375px;height:110px;\">"
   ]
  },
  {
   "cell_type": "markdown",
   "metadata": {},
   "source": [
    "# Week 6 - Lists, Dictionaries and Tuples\n",
    "\n",
    "### WIM250 - Introduction to Scripting Languages \n",
    "### Instructor: Ivaldo Tributino\n",
    "\n",
    "Sources:\n",
    "\n",
    "- Python for Everybody Exploring Data Using Python 3 by Dr. Charles R. Severance\n",
    "\n",
    "- w3schools.com\n",
    "\n",
    "- Automate the boring stuff with Python: practical programming for total beginners by Sweigart, A.\n",
    "\n",
    "- https://docs.python.org/3/tutorial/datastructures"
   ]
  },
  {
   "cell_type": "markdown",
   "metadata": {},
   "source": [
    "## Lists\n",
    "\n",
    "Like a string, a list is a sequence of values. In a string, the values are characters; in a list, they can be `any type`. The values in list are called `elements` or sometimes`items`. In Python, a list is created by placing all the items (elements) inside square brackets `[]`, separated by commas.\n",
    "\n",
    "Create a List:\n",
    "```python\n",
    "x = []  \n",
    "\n",
    "# or\n",
    "\n",
    "x = list()\n",
    "```\n",
    "\n",
    "- List items are `ordered`, `changeable`, and allow `duplicate` values.\n",
    "- If you add new items to a list, the new items will be placed at the end of the list.\n",
    "- List items are indexed, the first item has index `[0]`, the second item has index `[1]` etc."
   ]
  },
  {
   "cell_type": "code",
   "execution_count": null,
   "metadata": {},
   "outputs": [],
   "source": [
    "# The elements of a list don’t have to be the same type. \n",
    "x = []                    # creating a list\n",
    "x.append('string')        # adding a string \n",
    "x.append(134)             # adding a integer\n",
    "x.append([3,5])           # adding a list\n",
    "x"
   ]
  },
  {
   "cell_type": "code",
   "execution_count": null,
   "metadata": {},
   "outputs": [],
   "source": [
    "#The in and not in Operators\n",
    "print('string' in x)\n",
    "print([3,5] not in x)"
   ]
  },
  {
   "cell_type": "code",
   "execution_count": null,
   "metadata": {},
   "outputs": [],
   "source": [
    "# Fiding a Value in a List with index() method\n",
    "animals = [\"Cow\", \"Dog\", \"Dolphin\", \"Honey Bee\", \"Horn Shark\", \"Horse\", \"Ibi\", \"Iguana\", ]\n",
    "\n",
    "animals.index(\"Dog\")"
   ]
  },
  {
   "cell_type": "code",
   "execution_count": null,
   "metadata": {},
   "outputs": [],
   "source": [
    "# Adding Values to List with insert() method.\n",
    "animals.insert(1,\"Fish\")\n",
    "print(animals)"
   ]
  },
  {
   "cell_type": "code",
   "execution_count": null,
   "metadata": {},
   "outputs": [],
   "source": [
    "#Sorting the values in a List with the sort() method\n",
    "animals.sort(reverse=True)\n",
    "print(animals)"
   ]
  },
  {
   "cell_type": "markdown",
   "metadata": {},
   "source": [
    "### Lists are mutable\n",
    "\n",
    "We can change, add, and remove items in a list after it has been created.\n"
   ]
  },
  {
   "cell_type": "code",
   "execution_count": null,
   "metadata": {},
   "outputs": [],
   "source": [
    "print(animals[1])\n",
    "animals[1] = \"Cat\"\n",
    "print(animals)"
   ]
  },
  {
   "cell_type": "code",
   "execution_count": null,
   "metadata": {},
   "outputs": [],
   "source": [
    "animals.remove(\"Fish\") # Remove an item by value\n",
    "print(animals)\n",
    "animals.pop(1)         # Remove an item by index and get its value\n",
    "print(animalName)\n",
    "print(animals)"
   ]
  },
  {
   "cell_type": "markdown",
   "metadata": {},
   "source": [
    "You can also try `clear()` that remove all items or `del statement` that remove items by index or slice:\n",
    "\n",
    "```python\n",
    "l = list(range(10))\n",
    "l.clear()\n",
    "\n",
    "l = [x for x in range(10)]\n",
    "del l[3:5]\n",
    "```\n",
    "\n",
    "To see more methods: https://docs.python.org/3/tutorial/datastructures.html"
   ]
  },
  {
   "cell_type": "code",
   "execution_count": null,
   "metadata": {},
   "outputs": [],
   "source": [
    "# Try the examples above\n",
    "l = [x for x in range(10)]\n",
    "del l[3:5]\n",
    "print(l)"
   ]
  },
  {
   "cell_type": "markdown",
   "metadata": {},
   "source": [
    "### List Comprehensions\n",
    "\n",
    "`List comprehensions` provide a concise way to create lists. Common applications are to make new lists where each element is the result of some operations applied to each member of another sequence or iterable, or to create a subsequence of those elements that satisfy a certain condition. In others words, `list comprehension` is an elegant way to define and create lists based on existing lists.\n",
    "\n",
    "For example, assume we want to create a list of lists, like:\n"
   ]
  },
  {
   "cell_type": "code",
   "execution_count": null,
   "metadata": {},
   "outputs": [],
   "source": [
    "def table_11_to_20(number):\n",
    "    l = []\n",
    "    for i in range(11,21):\n",
    "        l.append(i*number)\n",
    "    return l\n",
    "\n",
    "tableList = []\n",
    "for i in range(2,10):\n",
    "    l = table_11_to_20(i)\n",
    "    tableList.append(l)\n",
    "tableList    "
   ]
  },
  {
   "cell_type": "code",
   "execution_count": null,
   "metadata": {},
   "outputs": [],
   "source": [
    "table_11_to_20(3)"
   ]
  },
  {
   "cell_type": "code",
   "execution_count": null,
   "metadata": {
    "scrolled": true
   },
   "outputs": [],
   "source": [
    "def table_11_to_20(number):\n",
    "    l = [x*number for x in range(11,21)]\n",
    "    return l\n",
    "\n",
    "tableList = list(map(table_11_to_20, range(2,10)))  # map(function, iterables)\n",
    "tableList                                           # Iterable is an object, which one can iterate over."
   ]
  },
  {
   "cell_type": "code",
   "execution_count": null,
   "metadata": {},
   "outputs": [],
   "source": [
    "\"\"\"A lambda function is an anonymous function. In Python, an anonymous function is created with the lambda keyword. \n",
    "More loosely, it may or not be assigned a name.\"\"\"\n",
    "# lambda arguments : expression\n",
    "f = lambda x: 2*x"
   ]
  },
  {
   "cell_type": "code",
   "execution_count": null,
   "metadata": {},
   "outputs": [],
   "source": [
    "f(50)"
   ]
  },
  {
   "cell_type": "code",
   "execution_count": null,
   "metadata": {},
   "outputs": [],
   "source": [
    "g = lambda number: [x*number for x in range(11,21)]"
   ]
  },
  {
   "cell_type": "code",
   "execution_count": null,
   "metadata": {},
   "outputs": [],
   "source": [
    "g(3)"
   ]
  },
  {
   "cell_type": "code",
   "execution_count": null,
   "metadata": {},
   "outputs": [],
   "source": [
    "list(map(lambda number: [x*number for x in range(11,21)], range(2,10)))"
   ]
  },
  {
   "cell_type": "markdown",
   "metadata": {},
   "source": [
    "## Dictionaries\n",
    "\n",
    "- Dictionaries are used to store data values in `key:value` pairs.\n",
    "\n",
    "- A dictionary is a collection which is `unordered`, `changeable` and does `not allow duplicates`.\n",
    "\n",
    "- Dictionaries are written with `curly brackets`.\n",
    "\n",
    "The function dict creates a new dictionary with no items. Because `dict` is the name of a built-in function, you should avoid using it as a variable name.\n",
    "\n",
    "Create a dictionary:\n",
    "```python\n",
    "dic = dict()  \n",
    "\n",
    "# or\n",
    "\n",
    "dic = {}  # curly brackets\n",
    "```\n",
    "\n",
    "This line below creates an item that maps from the key 'one' to the value “uno”. If we print the dictionary again, we see a key-value pair with a colon between the key and value:\n"
   ]
  },
  {
   "cell_type": "code",
   "execution_count": null,
   "metadata": {},
   "outputs": [],
   "source": [
    "eng2sp = {}\n",
    "eng2sp['one'] = 'uno'\n",
    "eng2sp"
   ]
  },
  {
   "cell_type": "code",
   "execution_count": null,
   "metadata": {},
   "outputs": [],
   "source": [
    "# Let's add few elements \n",
    "eng2sp['two'] = 'dos'\n",
    "eng2sp['three'] = 'tres'\n",
    "eng2sp                      "
   ]
  },
  {
   "cell_type": "code",
   "execution_count": null,
   "metadata": {},
   "outputs": [],
   "source": [
    "eng2sp['one']"
   ]
  },
  {
   "cell_type": "markdown",
   "metadata": {},
   "source": [
    "In general, the order of items in a dictionary is `unpredictable`. But that’s not a problem because the elements of a dictionary are never indexed with integer indices. Instead, you use the keys to look up the corresponding values:"
   ]
  },
  {
   "cell_type": "code",
   "execution_count": null,
   "metadata": {},
   "outputs": [],
   "source": [
    "def fibonacci_dic(n):\n",
    "    assert n >= 0, \"n is a value greater than or equal to zero\"\n",
    "    dic = {}\n",
    "    x_1 = 0\n",
    "    x_2 = 1\n",
    "      \n",
    "    dic['F_0'] = x_1\n",
    "\n",
    "    if n>=1:\n",
    "        dic['F_0'] = x_1\n",
    "        dic['F_1'] = x_2\n",
    "    if n>=2:   \n",
    "        for i in range(2,n+1):\n",
    "            dic['F_%d'%i] = x_1+x_2\n",
    "            x_1 = x_2\n",
    "            x_2 = dic['F_%d'%i]\n",
    "        \n",
    "    return dic\n",
    "        \n",
    "dic_fibo = fibonacci_dic(10)\n",
    "print(dic_fibo)"
   ]
  },
  {
   "cell_type": "code",
   "execution_count": null,
   "metadata": {},
   "outputs": [],
   "source": [
    "dic_fibo['F_16'] \n",
    "dic_fibo.get('F_16',-1) # like string method find()"
   ]
  },
  {
   "cell_type": "markdown",
   "metadata": {},
   "source": [
    "### Dictionary `get()` Method\n",
    "\n",
    "Dictionaries have a method called `get()` that takes a key and a default value. If the key appears in the dictionary, get returns the corresponding value; otherwise it returns the default value. \n",
    "\n",
    "**Syntax**\n",
    "```python\n",
    "dictionary.get(keyname, value)\n",
    "```\n",
    "\n",
    "**Parameter\tDescription**\n",
    "- The keyname of the item you want to return the value from\n",
    "- A value to return if the specified key does not exist. Default value None"
   ]
  },
  {
   "cell_type": "markdown",
   "metadata": {},
   "source": [
    "Let's see the importance of the `get()` method in the following example.\n",
    "\n",
    "```python\n",
    "college = 'lasalle college vancouver' \n",
    "d = dict()\n",
    "for c in college:\n",
    "    if c not in d: \n",
    "        d[c] = 1\n",
    "    else:\n",
    "        d[c] = d[c] + 1\n",
    "print(d)\n",
    "```\n",
    "The for loop traverses the string. Each time through the loop, if the character `c` is not in the dictionary, we create a new item with key `c` and the initial value `1` (since we have seen this letter once). If `c` is already in the dictionary we increment `d[c]`.\n",
    "Here’s the output of the program:\n",
    "```\n",
    "{'l': 5, 'a': 3, 's': 1, 'e': 4, ' ': 2, 'c': 2, 'o': 2, 'g': 1, 'v': 2, 'n': 1, 'u': 1, 'r': 1}\n",
    "```\n",
    "We can use `get()` to write our histogram loop more concisely. Because the get method automatically handles the case where a key is not in a dictionary, we can reduce four lines down to one and eliminate the if statement.\n"
   ]
  },
  {
   "cell_type": "code",
   "execution_count": null,
   "metadata": {},
   "outputs": [],
   "source": [
    "college = 'lasalle college vancouver' \n",
    "d = dict()\n",
    "for c in college:\n",
    "    d[c] = d.get(c,0) + 1\n",
    "print(d)"
   ]
  },
  {
   "cell_type": "markdown",
   "metadata": {},
   "source": [
    "### Looping and dictionaries  \n",
    "\n",
    "\n",
    "If you use a dictionary as the sequence in a for statement, it traverses the keys of the dictionary."
   ]
  },
  {
   "cell_type": "code",
   "execution_count": null,
   "metadata": {},
   "outputs": [],
   "source": [
    "dic_capital = {'Canada': 'Ottawa', 'Brazil': 'Brazilian', 'China': 'Beijing', 'Japan': 'Tokio'}\n",
    "\n",
    "for idx in dic_capital:\n",
    "    print(idx)"
   ]
  },
  {
   "cell_type": "markdown",
   "metadata": {},
   "source": [
    "To iterates through the values, we need to use `.values()`, which returns a view with the values of the dictionary:"
   ]
  },
  {
   "cell_type": "code",
   "execution_count": null,
   "metadata": {},
   "outputs": [],
   "source": [
    "for value in dic_capital.values():\n",
    "    print(value)"
   ]
  },
  {
   "cell_type": "markdown",
   "metadata": {},
   "source": [
    "But the most useful ways to iterate through a dictionary in Python is by using `.items()`, which is a method that returns the tuples (key, value):"
   ]
  },
  {
   "cell_type": "code",
   "execution_count": null,
   "metadata": {},
   "outputs": [],
   "source": [
    "for key,value in dic_capital.items():\n",
    "    print(key,value)"
   ]
  },
  {
   "cell_type": "markdown",
   "metadata": {},
   "source": [
    "## Tuples\n",
    "\n",
    "A tuple is a sequence of values much like a list. The values stored in a tuple can be any type, and they are indexed by integers. The important difference is that tuples are `immutable`. Tuples are also `comparable` and `hashable` so we can sort lists of them and use tuples as key values in Python dictionaries.\n",
    "Syntactically, a tuple is a comma-separated list of values:\n",
    "\n",
    "Although it is not necessary, it is common to enclose tuples in parentheses to help\n",
    "us quickly identify tuples when we look at Python code:"
   ]
  },
  {
   "cell_type": "code",
   "execution_count": null,
   "metadata": {},
   "outputs": [],
   "source": [
    "t1 = ('a', 'b', 'c', 'd', 'e')\n",
    "t2 = 'a', 'b', 'c', 'd', 'e'\n",
    "t1 == t2"
   ]
  },
  {
   "cell_type": "code",
   "execution_count": null,
   "metadata": {},
   "outputs": [],
   "source": [
    "# Without the comma Python treats ('a') as an expression with a string in parentheses that evaluates to a string:\n",
    "t3 = ('a',)\n",
    "s = ('a')\n",
    "type(t3) is type(s)"
   ]
  },
  {
   "cell_type": "markdown",
   "metadata": {},
   "source": [
    "Because tuple is the name of a `constructor`, you should avoid using it as a variable name.\n",
    "```\n",
    "tuple = () # try not to do that!\n",
    "```"
   ]
  },
  {
   "cell_type": "code",
   "execution_count": null,
   "metadata": {},
   "outputs": [],
   "source": [
    "t = tuple(college) # college = 'lasalle college vancouver' "
   ]
  },
  {
   "cell_type": "code",
   "execution_count": null,
   "metadata": {},
   "outputs": [],
   "source": [
    "print('The bracket operator indexes an element:')\n",
    "print(t[3])\n",
    "print('And the slice operator selects a range of elements:')\n",
    "print(t[8:15])"
   ]
  },
  {
   "cell_type": "code",
   "execution_count": null,
   "metadata": {},
   "outputs": [],
   "source": [
    "print('But if you try to modify one of the elements of the tuple, you get an error:')\n",
    "t[0] = 'L'"
   ]
  },
  {
   "cell_type": "markdown",
   "metadata": {},
   "source": [
    "### When to use tuples instead of lists?\n",
    "\n",
    "Lists are more common than tuples, mostly because they are mutable. But there are a few cases where you might prefer tuples:\n",
    "\n",
    "- 1. In some contexts, like a return statement, it is syntactically simpler to create a tuple than a list. In other contexts, you might prefer a list.\n",
    "- 2. If you want to use a sequence as a dictionary key, you have to use an immutable type like a tuple or string.\n",
    "- 3. If you are passing a sequence as an argument to a function, using tuples reduces the potential for unexpected behavior due to aliasing."
   ]
  },
  {
   "cell_type": "code",
   "execution_count": null,
   "metadata": {},
   "outputs": [],
   "source": [
    "\n"
   ]
  },
  {
   "cell_type": "code",
   "execution_count": null,
   "metadata": {},
   "outputs": [],
   "source": []
  }
 ],
 "metadata": {
  "kernelspec": {
   "display_name": "Python 3",
   "language": "python",
   "name": "python3"
  },
  "language_info": {
   "codemirror_mode": {
    "name": "ipython",
    "version": 3
   },
   "file_extension": ".py",
   "mimetype": "text/x-python",
   "name": "python",
   "nbconvert_exporter": "python",
   "pygments_lexer": "ipython3",
   "version": "3.7.9"
  }
 },
 "nbformat": 4,
 "nbformat_minor": 4
}
