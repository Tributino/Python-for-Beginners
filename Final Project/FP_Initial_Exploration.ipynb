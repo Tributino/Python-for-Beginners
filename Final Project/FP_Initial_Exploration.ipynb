{
 "cells": [
  {
   "cell_type": "markdown",
   "id": "b2cae00c",
   "metadata": {},
   "source": [
    "# 📊 Final Project – Stage 1: Dataset Selection and Initial Exploration\n",
    "\n",
    "Welcome to the first stage of your final project! Each group has been assigned a unique dataset from Kaggle. Your task is to explore the dataset and begin identifying questions or problems you may want to investigate.\n",
    "\n",
    "## Group Assignments and Datasets\n",
    "\n",
    "###  Group 1: Anais Serrano Fragoso & Valeria Mora Silva  \n",
    "**Dataset:** [Student Stress Monitoring Datasets ](https://www.kaggle.com/datasets/mdsultanulislamovi/student-stress-monitoring-datasets) \\\n",
    "Explore physiological and behavioral indicators related to student stress.\n",
    "\n",
    "---\n",
    "\n",
    "###  Group 2: Sofia Belinda Curi Pachas & Ava Sofia Leon Macias  \n",
    "**Dataset:** [AI vs Human Content Detection – 1000+ Records in 2025](https://www.kaggle.com/datasets/pratyushpuri/ai-vs-human-content-detection-1000-record-in-2025)  \\\n",
    "Analyze patterns in AI-generated vs human-written content.\n",
    "\n",
    "---\n",
    "\n",
    "###  Group 3: Quoc Anh Nguyen  \n",
    "**Dataset:** [Food Preferences](https://www.kaggle.com/datasets/vijayashreer/food-preferences)\\\n",
    "Preferences in food choices across different demographics.\n",
    "\n",
    "---\n",
    "\n",
    "##  Instructions\n",
    "\n",
    "1. **Visit the dataset link** assigned to your group.\n",
    "2. **Read the dataset description** and download the CSV file.\n",
    "3. **Load the dataset** in this notebook using `pandas`.\n",
    "4. Perform initial exploration using:\n",
    "   - `df.head()`\n",
    "   - `df.info()`\n",
    "   - `df.describe()`\n",
    "5. **Create visualizations** such as histograms to understand data distributions.\n",
    "6. **Write your observations** in markdown cells:\n",
    "   - Describe the dataset and its features.\n",
    "   - Identify potential questions or problems to explore.\n",
    "\n",
    "📁 Make sure to save your notebook and include the dataset file when submitting.\n",
    "\n",
    "Good luck and enjoy exploring your data!\n"
   ]
  },
  {
   "cell_type": "markdown",
   "id": "e0c23825",
   "metadata": {},
   "source": [
    "### Step 1: Load the Dataset\n",
    "Import all libraries and modules that will be used."
   ]
  },
  {
   "cell_type": "code",
   "execution_count": null,
   "id": "eb8aad7f",
   "metadata": {},
   "outputs": [],
   "source": []
  },
  {
   "cell_type": "markdown",
   "id": "3acaeb1b-1f39-4a9e-8dcc-c9fae23a51c4",
   "metadata": {},
   "source": [
    "### Step 2: Load the Dataset\n",
    "Use `pd.read_csv()` to load the dataset."
   ]
  },
  {
   "cell_type": "code",
   "execution_count": null,
   "id": "87960dc8-7ff2-4641-a5e3-ddb85f166533",
   "metadata": {},
   "outputs": [],
   "source": []
  },
  {
   "cell_type": "markdown",
   "id": "c5bb7ea8",
   "metadata": {},
   "source": [
    "### Step 2: Initial Exploration\n",
    "Use `.info()` and `.describe()` to understand the dataset."
   ]
  },
  {
   "cell_type": "code",
   "execution_count": null,
   "id": "cc1c58ab",
   "metadata": {},
   "outputs": [],
   "source": []
  },
  {
   "cell_type": "code",
   "execution_count": null,
   "id": "f55a7cad",
   "metadata": {},
   "outputs": [],
   "source": []
  },
  {
   "cell_type": "markdown",
   "id": "104111fa",
   "metadata": {},
   "source": [
    "### Step 3: Observations\n",
    "Write your observations below:\n",
    "- Number of rows and columns\n",
    "- Types of data\n",
    "- Missing values\n",
    "- Initial impressions"
   ]
  },
  {
   "cell_type": "code",
   "execution_count": null,
   "id": "ccdac7ef-9f53-4f4d-b18b-fe316508d169",
   "metadata": {},
   "outputs": [],
   "source": []
  },
  {
   "cell_type": "markdown",
   "id": "69637773",
   "metadata": {},
   "source": [
    "### Step 4: Dataset Description\n",
    "Provide a brief description of the dataset and its features. In a markdown cell, write a short paragraph:\n",
    "- What is the dataset about?\n",
    "- What are the key features (columns)?\n",
    "- What kind of data does it contain?"
   ]
  },
  {
   "cell_type": "code",
   "execution_count": null,
   "id": "63c58f84-9cce-404b-b5c5-f1b65cb2b0b8",
   "metadata": {},
   "outputs": [],
   "source": []
  },
  {
   "cell_type": "markdown",
   "id": "9073e44a",
   "metadata": {},
   "source": [
    "### Step 5: Potential Questions or Problems\n",
    "List 2–3 questions or problems you want to explore using this dataset.\n",
    "\n",
    "**Think critically about what can be explored. Examples:**\n",
    "\n",
    "- Are there trends over time?\n",
    "- Are there correlations between variables?\n",
    "- Can we predict an outcome based on features?"
   ]
  },
  {
   "cell_type": "markdown",
   "id": "81e01b34",
   "metadata": {},
   "source": [
    "### Step 6: Basic Visualizations\n",
    "Create histograms to visualize the distribution of numerical columns."
   ]
  },
  {
   "cell_type": "code",
   "execution_count": null,
   "id": "195c4007",
   "metadata": {},
   "outputs": [],
   "source": [
    "# Plot histograms for all numerical columns\n"
   ]
  },
  {
   "cell_type": "code",
   "execution_count": null,
   "id": "2e71281c",
   "metadata": {},
   "outputs": [],
   "source": [
    "# Using seaborn to plot a histogram for a specific column\n",
    "\n"
   ]
  },
  {
   "cell_type": "markdown",
   "id": "5538d673",
   "metadata": {},
   "source": [
    "### Step 7: Interpretation of Visualizations\n",
    "Explain what you observe from the histograms:\n",
    "- Are the distributions normal, skewed, or bimodal?\n",
    "- Are there any outliers?\n",
    "- What insights can you gain?"
   ]
  },
  {
   "cell_type": "markdown",
   "id": "c67d0586-c336-4aa3-a47a-b098bddb4cde",
   "metadata": {},
   "source": [
    "## 📦 Deliverables\n",
    "\n",
    "#### 1. Jupyter Notebook with:\n",
    "\n",
    "- Dataset loaded and displayed\n",
    "- .head(), .info(), .describe() outputs\n",
    "- Comments or markdown cells explaining observations\n",
    "- Brief dataset description\n",
    "- List of potential questions/problems\n",
    "#### 2. Dataset file in .csv or .json format"
   ]
  },
  {
   "cell_type": "code",
   "execution_count": null,
   "id": "86c122b2-8950-457e-bcc3-105e4378eb43",
   "metadata": {},
   "outputs": [],
   "source": []
  }
 ],
 "metadata": {
  "kernelspec": {
   "display_name": "anaconda-panel-2023.05-py310",
   "language": "python",
   "name": "conda-env-anaconda-panel-2023.05-py310-py"
  },
  "language_info": {
   "codemirror_mode": {
    "name": "ipython",
    "version": 3
   },
   "file_extension": ".py",
   "mimetype": "text/x-python",
   "name": "python",
   "nbconvert_exporter": "python",
   "pygments_lexer": "ipython3",
   "version": "3.11.5"
  }
 },
 "nbformat": 4,
 "nbformat_minor": 5
}
