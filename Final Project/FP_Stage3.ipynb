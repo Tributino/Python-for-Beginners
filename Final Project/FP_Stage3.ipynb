{
 "cells": [
  {
   "cell_type": "markdown",
   "id": "294b41de",
   "metadata": {},
   "source": [
    "\n",
    "# 📊 Final Project – Stage 3: Modeling, Insights & Final Presentation\n",
    "**Deadline: September 19, 2025**\n",
    "\n",
    "Welcome to the final stage of your project! Follow the steps below to complete your analysis and prepare your final submission.\n",
    "\n",
    "## Group Assignments and Datasets\n",
    "\n",
    "###  Group 1: Anais Serrano Fragoso & Valeria Mora Silva  \n",
    "**Dataset:** [Student Stress Monitoring Datasets ](https://www.kaggle.com/datasets/mdsultanulislamovi/student-stress-monitoring-datasets) \\\n",
    "Explore physiological and behavioral indicators related to student stress.\n",
    "\n",
    "For some ideas se the notebook by [ErimCENGIZ](https://www.kaggle.com/code/erimcengiz/student-mental-health-rf-svm-lr)\n",
    "\n",
    "---\n",
    "\n",
    "###  Group 2: Sofia Belinda Curi Pachas & Ava Sofia Leon Macias  \n",
    "**Dataset:** [AI vs Human Content Detection – 1000+ Records in 2025](https://www.kaggle.com/datasets/pratyushpuri/ai-vs-human-content-detection-1000-record-in-2025)  \\\n",
    "Analyze patterns in AI-generated vs human-written content.\n",
    "\n",
    "For some ideas se the notebook by [Omar Essa](https://www.kaggle.com/code/jockeroika/ai-vs-human-2025)\n",
    "\n",
    "---\n",
    "\n",
    "###  Group 3: Quoc Anh Nguyen  \n",
    "**Dataset:** [Food Preferences](https://www.kaggle.com/datasets/vijayashreer/food-preferences)\\\n",
    "Preferences in food choices across different demographics.\n",
    "\n",
    "For some ideas se the notebook by [Gabriel Atkin](https://www.kaggle.com/code/gcdatkin/predicting-age-from-food-preference)\n",
    "\n",
    "---\n",
    "\n",
    "###  Objectives:\n",
    "\n",
    "1. **Apply a Model**  \n",
    "   Use **at least one** machine learning algorithm or statistical model to analyze your dataset.\n",
    "\n",
    "2. **Extract Insights**  \n",
    "   Summarize the **key findings** from your analysis. What patterns did you discover?\n",
    "\n",
    "3. **Reflect on the Process**  \n",
    "   Briefly discuss:\n",
    "   - Challenges you faced\n",
    "   - What you learned\n",
    "   - How your understanding evolved\n",
    "\n",
    "4. **Cite Your Sources**  \n",
    "   Include proper citations for:\n",
    "   - Kaggle notebooks or datasets\n",
    "   - AI tools (e.g., Copilot, ChatGPT)\n",
    "   - Any external code or references\n",
    "\n",
    "### Deliverables:\n",
    "Submit a **.zip folder** containing:\n",
    "\n",
    "1. **Final Jupyter Notebook**  \n",
    "  - Well-organized and commented  \n",
    "  - Includes all code, outputs, and explanations\n",
    "\n",
    "2. **Dataset File(s)**  \n",
    "  - Include the original or cleaned dataset used in your analysis\n",
    "\n",
    "3. **Bibliography or References Section**  \n",
    "  - A markdown cell or separate file listing all sources\n",
    " \n",
    "### Tips for Completing Stage 3\n",
    "\n",
    "- **Choose the Right Model**  \n",
    "  Match your model to your data type and project question. For example:\n",
    "  - Classification: Logistic Regression, Decision Trees\n",
    "  - Regression: Linear Regression, Ridge/Lasso\n",
    "  - Clustering: K-Means, DBSCAN\n",
    "  - Statistical: t-tests, ANOVA\n",
    "\n",
    "- **Explain Your Steps Clearly**  \n",
    "  Use markdown cells to describe:\n",
    "  - Why you chose a model\n",
    "  - How you prepared the data\n",
    "  - What the results mean\n",
    "\n",
    "- **Visualize Your Results**  \n",
    "  Include graphs or charts to support your insights (e.g., confusion matrix, scatter plots, bar charts).\n",
    "\n",
    "- **Keep It Clean**  \n",
    "  Remove unused code, test cells, or irrelevant outputs. Make it easy to follow.\n",
    "\n",
    "- **Reflect Honestly**  \n",
    "  Your reflection doesn’t need to be perfect—just thoughtful. What surprised you? What would you do differently?\n",
    "\n",
    "- **Check Your Citations**  \n",
    "  Use APA or MLA format, or just be consistent. Cite tools like this:  \n",
    "  > \"Analysis supported by Copilot (Microsoft AI Assistant).\""
   ]
  },
  {
   "cell_type": "markdown",
   "id": "623c6004",
   "metadata": {},
   "source": [
    "\n",
    "## Step 1: Load Your Dataset\n",
    "Upload and load the dataset you will use for modeling.\n"
   ]
  },
  {
   "cell_type": "code",
   "execution_count": null,
   "id": "2763aac7",
   "metadata": {},
   "outputs": [],
   "source": []
  },
  {
   "cell_type": "markdown",
   "id": "66e4babc",
   "metadata": {},
   "source": [
    "## Step 2: Data Preprocessing\n",
    "Clean and prepare your data for modeling."
   ]
  },
  {
   "cell_type": "code",
   "execution_count": null,
   "id": "87ab1558",
   "metadata": {},
   "outputs": [],
   "source": []
  },
  {
   "cell_type": "markdown",
   "id": "d1b4a918",
   "metadata": {},
   "source": [
    "\n",
    "## Step 3: Apply a Machine Learning or Statistical Model\n",
    "Choose and apply a model that fits your data and project goals.\n"
   ]
  },
  {
   "cell_type": "code",
   "execution_count": null,
   "id": "3d2fb5d5",
   "metadata": {},
   "outputs": [],
   "source": [
    "\n",
    "\n"
   ]
  },
  {
   "cell_type": "markdown",
   "id": "c03ffd58",
   "metadata": {},
   "source": [
    "\n",
    "## Step 4: Summarize Key Insights\n",
    "Describe the main findings from your analysis.\n"
   ]
  },
  {
   "cell_type": "markdown",
   "id": "2c77229a-39bd-45b4-83bb-089bb16eb4d6",
   "metadata": {},
   "source": [
    "\n"
   ]
  },
  {
   "cell_type": "markdown",
   "id": "8dc88224",
   "metadata": {},
   "source": [
    "\n",
    "## Step 5: Reflect on Challenges and Learning\n",
    "Write a short reflection on what you learned and any challenges you faced.\n"
   ]
  },
  {
   "cell_type": "markdown",
   "id": "2488264d-3f5c-426f-b03e-dae57d74a8bb",
   "metadata": {},
   "source": [
    "\n"
   ]
  },
  {
   "cell_type": "markdown",
   "id": "1562006e",
   "metadata": {},
   "source": [
    "\n",
    "## Step 6: Cite Your Sources\n",
    "List all external sources used (e.g., Kaggle notebooks, AI tools).\n"
   ]
  },
  {
   "cell_type": "code",
   "execution_count": null,
   "id": "2a3bddec",
   "metadata": {},
   "outputs": [],
   "source": [
    "\n",
    "# Example citation:\n",
    "# - Dataset from Kaggle: https://www.kaggle.com/dataset-name\n",
    "# - Analysis supported by Copilot (Microsoft AI Assistant)\n"
   ]
  },
  {
   "cell_type": "markdown",
   "id": "9596551f",
   "metadata": {},
   "source": [
    "\n",
    "## 📦 Final Checklist\n",
    "- [ ] Final Jupyter Notebook is clean and commented\n",
    "- [ ] Dataset file(s) included\n",
    "- [ ] Bibliography or references section completed\n",
    "- [ ] All code runs without errors\n",
    "\n",
    "Zip all files and submit before **September 19, 2025**.\n"
   ]
  }
 ],
 "metadata": {
  "kernelspec": {
   "display_name": "anaconda-panel-2023.05-py310",
   "language": "python",
   "name": "conda-env-anaconda-panel-2023.05-py310-py"
  },
  "language_info": {
   "codemirror_mode": {
    "name": "ipython",
    "version": 3
   },
   "file_extension": ".py",
   "mimetype": "text/x-python",
   "name": "python",
   "nbconvert_exporter": "python",
   "pygments_lexer": "ipython3",
   "version": "3.11.5"
  }
 },
 "nbformat": 4,
 "nbformat_minor": 5
}
