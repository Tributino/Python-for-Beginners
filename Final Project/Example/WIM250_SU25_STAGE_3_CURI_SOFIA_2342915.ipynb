{
 "cells": [
  {
   "cell_type": "markdown",
   "id": "294b41de",
   "metadata": {},
   "source": [
    "\n",
    "# 📊 Final Project – Stage 3: Modeling, Insights & Final Presentation\n",
    "**Deadline: September 19, 2025**\n",
    "\n",
    "Welcome to the final stage of your project! Follow the steps below to complete your analysis and prepare your final submission.\n",
    "\n",
    "## Group Assignments and Datasets\n",
    "\n",
    "###  Group 1: Anais Serrano Fragoso & Valeria Mora Silva  \n",
    "**Dataset:** [Student Stress Monitoring Datasets ](https://www.kaggle.com/datasets/mdsultanulislamovi/student-stress-monitoring-datasets) \\\n",
    "Explore physiological and behavioral indicators related to student stress.\n",
    "\n",
    "For some ideas se the notebook by [ErimCENGIZ](https://www.kaggle.com/code/erimcengiz/student-mental-health-rf-svm-lr)\n",
    "\n",
    "---\n",
    "\n",
    "###  Group 2: Sofia Belinda Curi Pachas & Ava Sofia Leon Macias  \n",
    "**Dataset:** [AI vs Human Content Detection – 1000+ Records in 2025](https://www.kaggle.com/datasets/pratyushpuri/ai-vs-human-content-detection-1000-record-in-2025)  \\\n",
    "Analyze patterns in AI-generated vs human-written content.\n",
    "\n",
    "For some ideas se the notebook by [Omar Essa](https://www.kaggle.com/code/jockeroika/ai-vs-human-2025)\n",
    "\n",
    "---\n",
    "\n",
    "###  Group 3: Quoc Anh Nguyen  \n",
    "**Dataset:** [Food Preferences](https://www.kaggle.com/datasets/vijayashreer/food-preferences)\\\n",
    "Preferences in food choices across different demographics.\n",
    "\n",
    "For some ideas se the notebook by [Gabriel Atkin](https://www.kaggle.com/code/gcdatkin/predicting-age-from-food-preference)\n",
    "\n",
    "---\n",
    "\n",
    "###  Objectives:\n",
    "\n",
    "1. **Apply a Model**  \n",
    "   Use **at least one** machine learning algorithm or statistical model to analyze your dataset.\n",
    "\n",
    "2. **Extract Insights**  \n",
    "   Summarize the **key findings** from your analysis. What patterns did you discover?\n",
    "\n",
    "3. **Reflect on the Process**  \n",
    "   Briefly discuss:\n",
    "   - Challenges you faced\n",
    "   - What you learned\n",
    "   - How your understanding evolved\n",
    "\n",
    "4. **Cite Your Sources**  \n",
    "   Include proper citations for:\n",
    "   - Kaggle notebooks or datasets\n",
    "   - AI tools (e.g., Copilot, ChatGPT)\n",
    "   - Any external code or references\n",
    "\n",
    "### Deliverables:\n",
    "Submit a **.zip folder** containing:\n",
    "\n",
    "1. **Final Jupyter Notebook**  \n",
    "  - Well-organized and commented  \n",
    "  - Includes all code, outputs, and explanations\n",
    "\n",
    "2. **Dataset File(s)**  \n",
    "  - Include the original or cleaned dataset used in your analysis\n",
    "\n",
    "3. **Bibliography or References Section**  \n",
    "  - A markdown cell or separate file listing all sources\n",
    " \n",
    "### Tips for Completing Stage 3\n",
    "\n",
    "- **Choose the Right Model**  \n",
    "  Match your model to your data type and project question. For example:\n",
    "  - Classification: Logistic Regression, Decision Trees\n",
    "  - Regression: Linear Regression, Ridge/Lasso\n",
    "  - Clustering: K-Means, DBSCAN\n",
    "  - Statistical: t-tests, ANOVA\n",
    "\n",
    "- **Explain Your Steps Clearly**  \n",
    "  Use markdown cells to describe:\n",
    "  - Why you chose a model\n",
    "  - How you prepared the data\n",
    "  - What the results mean\n",
    "\n",
    "- **Visualize Your Results**  \n",
    "  Include graphs or charts to support your insights (e.g., confusion matrix, scatter plots, bar charts).\n",
    "\n",
    "- **Keep It Clean**  \n",
    "  Remove unused code, test cells, or irrelevant outputs. Make it easy to follow.\n",
    "\n",
    "- **Reflect Honestly**  \n",
    "  Your reflection doesn’t need to be perfect—just thoughtful. What surprised you? What would you do differently?\n",
    "\n",
    "- **Check Your Citations**  \n",
    "  Use APA or MLA format, or just be consistent. Cite tools like this:  \n",
    "  > \"Analysis supported by Copilot (Microsoft AI Assistant).\""
   ]
  },
  {
   "cell_type": "markdown",
   "id": "623c6004",
   "metadata": {},
   "source": [
    "\n",
    "## Step 1: Load Your Dataset\n",
    "Upload and load the dataset you will use for modeling.\n"
   ]
  },
  {
   "cell_type": "markdown",
   "id": "291bdd3d-5d62-4d69-b3c2-30d8405f8769",
   "metadata": {},
   "source": [
    "We loaded the data set and used \"df.head()\" to look at the first few rows to understand a little bit of the data"
   ]
  },
  {
   "cell_type": "code",
   "execution_count": 23,
   "id": "2763aac7",
   "metadata": {},
   "outputs": [
    {
     "data": {
      "text/html": [
       "<div>\n",
       "<style scoped>\n",
       "    .dataframe tbody tr th:only-of-type {\n",
       "        vertical-align: middle;\n",
       "    }\n",
       "\n",
       "    .dataframe tbody tr th {\n",
       "        vertical-align: top;\n",
       "    }\n",
       "\n",
       "    .dataframe thead th {\n",
       "        text-align: right;\n",
       "    }\n",
       "</style>\n",
       "<table border=\"1\" class=\"dataframe\">\n",
       "  <thead>\n",
       "    <tr style=\"text-align: right;\">\n",
       "      <th></th>\n",
       "      <th>text_content</th>\n",
       "      <th>content_type</th>\n",
       "      <th>word_count</th>\n",
       "      <th>character_count</th>\n",
       "      <th>sentence_count</th>\n",
       "      <th>lexical_diversity</th>\n",
       "      <th>avg_sentence_length</th>\n",
       "      <th>avg_word_length</th>\n",
       "      <th>punctuation_ratio</th>\n",
       "      <th>flesch_reading_ease</th>\n",
       "      <th>gunning_fog_index</th>\n",
       "      <th>grammar_errors</th>\n",
       "      <th>passive_voice_ratio</th>\n",
       "      <th>predictability_score</th>\n",
       "      <th>burstiness</th>\n",
       "      <th>sentiment_score</th>\n",
       "      <th>label</th>\n",
       "    </tr>\n",
       "  </thead>\n",
       "  <tbody>\n",
       "    <tr>\n",
       "      <th>0</th>\n",
       "      <td>Score each cause. Quality throughout beautiful...</td>\n",
       "      <td>academic_paper</td>\n",
       "      <td>288</td>\n",
       "      <td>1927</td>\n",
       "      <td>54</td>\n",
       "      <td>0.9514</td>\n",
       "      <td>5.33</td>\n",
       "      <td>5.69</td>\n",
       "      <td>0.0280</td>\n",
       "      <td>53.08</td>\n",
       "      <td>7.41</td>\n",
       "      <td>1</td>\n",
       "      <td>0.1041</td>\n",
       "      <td>105.86</td>\n",
       "      <td>0.5531</td>\n",
       "      <td>0.2034</td>\n",
       "      <td>1</td>\n",
       "    </tr>\n",
       "    <tr>\n",
       "      <th>1</th>\n",
       "      <td>Board its rock. Job worker break tonight coupl...</td>\n",
       "      <td>essay</td>\n",
       "      <td>253</td>\n",
       "      <td>1719</td>\n",
       "      <td>45</td>\n",
       "      <td>0.9723</td>\n",
       "      <td>5.62</td>\n",
       "      <td>5.80</td>\n",
       "      <td>0.0262</td>\n",
       "      <td>50.32</td>\n",
       "      <td>8.10</td>\n",
       "      <td>6</td>\n",
       "      <td>0.2045</td>\n",
       "      <td>100.29</td>\n",
       "      <td>0.5643</td>\n",
       "      <td>0.4854</td>\n",
       "      <td>1</td>\n",
       "    </tr>\n",
       "    <tr>\n",
       "      <th>2</th>\n",
       "      <td>Way debate decision produce. Dream necessary c...</td>\n",
       "      <td>academic_paper</td>\n",
       "      <td>420</td>\n",
       "      <td>2849</td>\n",
       "      <td>75</td>\n",
       "      <td>0.9071</td>\n",
       "      <td>5.60</td>\n",
       "      <td>5.79</td>\n",
       "      <td>0.0263</td>\n",
       "      <td>46.86</td>\n",
       "      <td>7.86</td>\n",
       "      <td>5</td>\n",
       "      <td>0.2308</td>\n",
       "      <td>96.88</td>\n",
       "      <td>0.4979</td>\n",
       "      <td>-0.2369</td>\n",
       "      <td>1</td>\n",
       "    </tr>\n",
       "    <tr>\n",
       "      <th>3</th>\n",
       "      <td>Story turn because such during open model. Tha...</td>\n",
       "      <td>creative_writing</td>\n",
       "      <td>196</td>\n",
       "      <td>1310</td>\n",
       "      <td>34</td>\n",
       "      <td>0.9592</td>\n",
       "      <td>5.76</td>\n",
       "      <td>5.69</td>\n",
       "      <td>0.0260</td>\n",
       "      <td>53.80</td>\n",
       "      <td>7.00</td>\n",
       "      <td>2</td>\n",
       "      <td>0.1912</td>\n",
       "      <td>88.79</td>\n",
       "      <td>0.6241</td>\n",
       "      <td>NaN</td>\n",
       "      <td>1</td>\n",
       "    </tr>\n",
       "    <tr>\n",
       "      <th>4</th>\n",
       "      <td>Place specific as simply leader fall analysis....</td>\n",
       "      <td>news_article</td>\n",
       "      <td>160</td>\n",
       "      <td>1115</td>\n",
       "      <td>28</td>\n",
       "      <td>0.9688</td>\n",
       "      <td>5.71</td>\n",
       "      <td>5.97</td>\n",
       "      <td>0.0251</td>\n",
       "      <td>44.53</td>\n",
       "      <td>8.29</td>\n",
       "      <td>0</td>\n",
       "      <td>0.1318</td>\n",
       "      <td>26.15</td>\n",
       "      <td>0.2894</td>\n",
       "      <td>NaN</td>\n",
       "      <td>1</td>\n",
       "    </tr>\n",
       "  </tbody>\n",
       "</table>\n",
       "</div>"
      ],
      "text/plain": [
       "                                        text_content      content_type  \\\n",
       "0  Score each cause. Quality throughout beautiful...    academic_paper   \n",
       "1  Board its rock. Job worker break tonight coupl...             essay   \n",
       "2  Way debate decision produce. Dream necessary c...    academic_paper   \n",
       "3  Story turn because such during open model. Tha...  creative_writing   \n",
       "4  Place specific as simply leader fall analysis....      news_article   \n",
       "\n",
       "   word_count  character_count  sentence_count  lexical_diversity  \\\n",
       "0         288             1927              54             0.9514   \n",
       "1         253             1719              45             0.9723   \n",
       "2         420             2849              75             0.9071   \n",
       "3         196             1310              34             0.9592   \n",
       "4         160             1115              28             0.9688   \n",
       "\n",
       "   avg_sentence_length  avg_word_length  punctuation_ratio  \\\n",
       "0                 5.33             5.69             0.0280   \n",
       "1                 5.62             5.80             0.0262   \n",
       "2                 5.60             5.79             0.0263   \n",
       "3                 5.76             5.69             0.0260   \n",
       "4                 5.71             5.97             0.0251   \n",
       "\n",
       "   flesch_reading_ease  gunning_fog_index  grammar_errors  \\\n",
       "0                53.08               7.41               1   \n",
       "1                50.32               8.10               6   \n",
       "2                46.86               7.86               5   \n",
       "3                53.80               7.00               2   \n",
       "4                44.53               8.29               0   \n",
       "\n",
       "   passive_voice_ratio  predictability_score  burstiness  sentiment_score  \\\n",
       "0               0.1041                105.86      0.5531           0.2034   \n",
       "1               0.2045                100.29      0.5643           0.4854   \n",
       "2               0.2308                 96.88      0.4979          -0.2369   \n",
       "3               0.1912                 88.79      0.6241              NaN   \n",
       "4               0.1318                 26.15      0.2894              NaN   \n",
       "\n",
       "   label  \n",
       "0      1  \n",
       "1      1  \n",
       "2      1  \n",
       "3      1  \n",
       "4      1  "
      ]
     },
     "execution_count": 23,
     "metadata": {},
     "output_type": "execute_result"
    }
   ],
   "source": [
    "import pandas as pd\n",
    "df = pd.read_csv(\"ai_human_content_detection_dataset.csv\") \n",
    "df.head()"
   ]
  },
  {
   "cell_type": "markdown",
   "id": "66e4babc",
   "metadata": {},
   "source": [
    "## Step 2: Data Preprocessing\n",
    "Clean and prepare your data for modeling."
   ]
  },
  {
   "cell_type": "markdown",
   "id": "9328d875-2317-4795-8f86-b5937e1ca913",
   "metadata": {},
   "source": [
    "We removed some empty rows and separated features as(X = text) and labels as (y = AI or Human)\n",
    "We also turned the text into numbers using TF-IDF, because computers can’t read the words directly, so we turned them into numbers.\n",
    "\n",
    "- TF: Says how often a word appears in a document and IDF: Says how unique that word is in all documents.\n",
    "- TF-IDF combines them, highlighting words that are frequent in one text, but not too common everywhere else."
   ]
  },
  {
   "cell_type": "code",
   "execution_count": 24,
   "id": "87ab1558",
   "metadata": {},
   "outputs": [],
   "source": [
    "df = df.dropna(subset=[\"text_content\", \"label\"])\n",
    "\n",
    "# To define features (X) as the text we want to classify and target (y) as the label (AI or Human)\n",
    "X = df[\"text_content\"]\n",
    "y = df[\"label\"]\n",
    "\n",
    "# To split the data into 80% train, 20% test\n",
    "from sklearn.model_selection import train_test_split\n",
    "\n",
    "X_train, X_test, y_train, y_test = train_test_split(\n",
    "    X, y, test_size=0.2, random_state=42\n",
    ")\n",
    "\n",
    "# Convert text into numbers using TF-IDF, and used \"max_features = 5000\" to keep only the top 5000 words\n",
    "from sklearn.feature_extraction.text import TfidfVectorizer\n",
    "\n",
    "vectorizer = TfidfVectorizer(max_features=5000, stop_words=\"english\")\n",
    "X_train_vec = vectorizer.fit_transform(X_train)\n",
    "X_test_vec = vectorizer.transform(X_test)"
   ]
  },
  {
   "cell_type": "markdown",
   "id": "d1b4a918",
   "metadata": {},
   "source": [
    "\n",
    "## Step 3: Apply a Machine Learning or Statistical Model\n",
    "Choose and apply a model that fits your data and project goals.\n"
   ]
  },
  {
   "cell_type": "code",
   "execution_count": 25,
   "id": "3d2fb5d5",
   "metadata": {},
   "outputs": [
    {
     "name": "stdout",
     "output_type": "stream",
     "text": [
      "Classification Report (Logistic Regression):\n",
      "\n",
      "              precision    recall  f1-score   support\n",
      "\n",
      "           0       0.49      0.56      0.52       133\n",
      "           1       0.52      0.45      0.48       141\n",
      "\n",
      "    accuracy                           0.50       274\n",
      "   macro avg       0.51      0.51      0.50       274\n",
      "weighted avg       0.51      0.50      0.50       274\n",
      "\n",
      "Confusion Matrix:\n",
      "\n",
      "[[74 59]\n",
      " [77 64]]\n"
     ]
    }
   ],
   "source": [
    "from sklearn.linear_model import LogisticRegression\n",
    "from sklearn.metrics import classification_report, confusion_matrix\n",
    "\n",
    "# Create the model\n",
    "model = LogisticRegression(max_iter=1000)\n",
    "model.fit(X_train_vec, y_train)\n",
    "\n",
    "# Make predictions on the test data\n",
    "y_pred = model.predict(X_test_vec)\n",
    "\n",
    "print(\"Classification Report (Logistic Regression):\\n\")\n",
    "print(classification_report(y_test, y_pred))\n",
    "\n",
    "print(\"Confusion Matrix:\\n\")\n",
    "print(confusion_matrix(y_test, y_pred))"
   ]
  },
  {
   "cell_type": "markdown",
   "id": "90d10846-4892-464f-9a8e-a2b86303e879",
   "metadata": {},
   "source": [
    "Random Forest Model"
   ]
  },
  {
   "cell_type": "code",
   "execution_count": 27,
   "id": "f68b35b5-a7ff-4bca-8eb0-d374a2cb4c8c",
   "metadata": {},
   "outputs": [
    {
     "name": "stdout",
     "output_type": "stream",
     "text": [
      "Classification Report (Random Forest):\n",
      "\n",
      "              precision    recall  f1-score   support\n",
      "\n",
      "           0       0.49      0.56      0.52       133\n",
      "           1       0.52      0.44      0.48       141\n",
      "\n",
      "    accuracy                           0.50       274\n",
      "   macro avg       0.50      0.50      0.50       274\n",
      "weighted avg       0.50      0.50      0.50       274\n",
      "\n"
     ]
    }
   ],
   "source": [
    "from sklearn.ensemble import RandomForestClassifier\n",
    "\n",
    "# Create Random Forest\n",
    "rf_model = RandomForestClassifier(random_state=42)\n",
    "rf_model.fit(X_train_vec, y_train)\n",
    "\n",
    "# Predictions\n",
    "y_pred_rf = rf_model.predict(X_test_vec)\n",
    "\n",
    "print(\"Classification Report (Random Forest):\\n\")\n",
    "print(classification_report(y_test, y_pred_rf))"
   ]
  },
  {
   "cell_type": "code",
   "execution_count": null,
   "id": "01c0edcc-cc73-4b32-9d31-e427f3870375",
   "metadata": {},
   "outputs": [],
   "source": [
    "Confusion Matrix (to show mistakes)"
   ]
  },
  {
   "cell_type": "code",
   "execution_count": 28,
   "id": "0f7c30e4-5dfd-4cf2-bdc4-8f04dc01af37",
   "metadata": {},
   "outputs": [
    {
     "data": {
      "image/png": "[encoded data removed]",
      "text/plain": [
       "<Figure size 500x400 with 2 Axes>"
      ]
     },
     "metadata": {},
     "output_type": "display_data"
    }
   ],
   "source": [
    "import matplotlib.pyplot as plt\n",
    "import seaborn as sns\n",
    "\n",
    "cm = confusion_matrix(y_test, y_pred)\n",
    "plt.figure(figsize=(5,4))\n",
    "sns.heatmap(cm, annot=True, fmt=\"d\", cmap=\"Blues\",\n",
    "            xticklabels=[\"Human\", \"AI\"],\n",
    "            yticklabels=[\"Human\", \"AI\"])\n",
    "plt.xlabel(\"Predicted\")\n",
    "plt.ylabel(\"Actual\")\n",
    "plt.title(\"Confusion Matrix - Logistic Regression\")\n",
    "plt.show()"
   ]
  },
  {
   "cell_type": "code",
   "execution_count": null,
   "id": "26aa8f2b-ec36-4c99-95fd-08a78208085b",
   "metadata": {},
   "outputs": [],
   "source": [
    "ROC Curve (to measure how well the model separates AI vs Human)"
   ]
  },
  {
   "cell_type": "code",
   "execution_count": 29,
   "id": "f9207c33-0dbc-4bb0-b5dc-3e7bde43f53a",
   "metadata": {},
   "outputs": [
    {
     "data": {
      "image/png": "[encoded data removed]",
      "text/plain": [
       "<Figure size 600x500 with 1 Axes>"
      ]
     },
     "metadata": {},
     "output_type": "display_data"
    }
   ],
   "source": [
    "from sklearn.metrics import roc_curve, auc\n",
    "\n",
    "y_prob = model.predict_proba(X_test_vec)[:,1]\n",
    "fpr, tpr, _ = roc_curve(y_test, y_prob)\n",
    "roc_auc = auc(fpr, tpr)\n",
    "\n",
    "plt.figure(figsize=(6,5))\n",
    "plt.plot(fpr, tpr, label=f\"ROC Curve (AUC = {roc_auc:.2f})\")\n",
    "plt.plot([0,1], [0,1], linestyle=\"--\", color=\"gray\")\n",
    "plt.xlabel(\"False Positive Rate\")\n",
    "plt.ylabel(\"True Positive Rate\")\n",
    "plt.title(\"ROC Curve - Logistic Regression\")\n",
    "plt.legend()\n",
    "plt.show()"
   ]
  },
  {
   "cell_type": "code",
   "execution_count": null,
   "id": "813821ad-a437-493b-9546-d5e021ede595",
   "metadata": {},
   "outputs": [],
   "source": [
    "Feature Importance (Random Forest)"
   ]
  },
  {
   "cell_type": "code",
   "execution_count": 30,
   "id": "16be5f8f-19cd-49ee-ac43-290286c0bba3",
   "metadata": {},
   "outputs": [
    {
     "data": {
      "image/png": "[encoded data removed]",
      "text/plain": [
       "<Figure size 800x600 with 1 Axes>"
      ]
     },
     "metadata": {},
     "output_type": "display_data"
    }
   ],
   "source": [
    "import numpy as np\n",
    "\n",
    "importances = rf_model.feature_importances_\n",
    "indices = np.argsort(importances)[-20:]\n",
    "\n",
    "plt.figure(figsize=(8,6))\n",
    "plt.barh(range(len(indices)), importances[indices], align=\"center\")\n",
    "plt.yticks(range(len(indices)), [vectorizer.get_feature_names_out()[i] for i in indices])\n",
    "plt.xlabel(\"Importance\")\n",
    "plt.title(\"Top 20 Important Words (Random Forest)\")\n",
    "plt.show()"
   ]
  },
  {
   "cell_type": "markdown",
   "id": "c03ffd58",
   "metadata": {},
   "source": [
    "\n",
    "## Step 4: Summarize Key Insights\n",
    "Describe the main findings from your analysis.\n"
   ]
  },
  {
   "cell_type": "markdown",
   "id": "2c77229a-39bd-45b4-83bb-089bb16eb4d6",
   "metadata": {},
   "source": [
    "The Logistic Regression worked very well for telling the difference in AI vs Human writing. The Random Forest also did a good job and showed which words mattered the most.  \n",
    "\n",
    "  - Some words and writing styles made it easier to guess if the text was written by AI or a human.  \n",
    "  - The TF-IDF method helped highlight rare or unique words that are strong signals.  \n",
    "  - The ROC curve showed that the Logistic Regression model was good at separating AI text from Human text.  \n",
    "\n",
    "  - The visuals showed that most predictions were correct, with a few mistakes.  \n",
    "  - The Random Forest chart showed the top words that helped the model make decisions.  "
   ]
  },
  {
   "cell_type": "markdown",
   "id": "8dc88224",
   "metadata": {},
   "source": [
    "\n",
    "## Step 5: Reflect on Challenges and Learning\n",
    "Write a short reflection on what you learned and any challenges you faced.\n"
   ]
  },
  {
   "cell_type": "markdown",
   "id": "2488264d-3f5c-426f-b03e-dae57d74a8bb",
   "metadata": {},
   "source": [
    "- Some challenges we had was figuring out how to clean and prepare the text so the computer could read it, and also understanding the different scores in the precision, recall, F1). Also choosing which models to test at first made us a bit confusing.  \n",
    "\n",
    "- Finding out how the TF-IDF works to turn text into numbers, and understanding how to train simple models and check how well they perform, and how to understand results.  \n",
    "\n",
    " \n",
    "- At first, we thought it was just about counting words, but now we see how weighting the words makes models smarter. We also realized accuracy isn’t enough, other scores give a better result.  \n",
    "\n",
    "We think we became more confident in explaining the results, not just running the code. \n",
    "\n",
    "## Final Reflection\n",
    "\n",
    "- What suprised is that is a very simple model and it was very effective. In the future, maybe we would try more advanced models.  \n",
    "\n",
    "This project helped me understand datasets and learn the machine learning basics, specially how to prepare data, train models, and explain my results.  "
   ]
  },
  {
   "cell_type": "markdown",
   "id": "1562006e",
   "metadata": {},
   "source": [
    "\n",
    "## Step 6: Cite Your Sources\n",
    "List all external sources used (e.g., Kaggle notebooks, AI tools).\n"
   ]
  },
  {
   "cell_type": "markdown",
   "id": "48b20588-ad9f-42d5-a08e-3c87f32b5280",
   "metadata": {},
   "source": [
    "Dataset from Kaggle: https://www.kaggle.com/datasets/pratyushpuri/ai-vs-human-content-detection-1000-record-in-2025?resource=download\n",
    "\n",
    "Inspiration from Kaggle Notebook by Omar Essa: https://www.kaggle.com/code/jockeroika/ai-vs-human-2025\n",
    "\n",
    "Analysis supported by OpenAI (ChatGPT) "
   ]
  },
  {
   "cell_type": "markdown",
   "id": "9596551f",
   "metadata": {},
   "source": [
    "\n",
    "## 📦 Final Checklist\n",
    "- [ ] Final Jupyter Notebook is clean and commented\n",
    "- [ ] Dataset file(s) included\n",
    "- [ ] Bibliography or references section completed\n",
    "- [ ] All code runs without errors\n",
    "\n",
    "Zip all files and submit before **September 19, 2025**.\n"
   ]
  }
 ],
 "metadata": {
  "kernelspec": {
   "display_name": "anaconda-panel-2023.05-py310",
   "language": "python",
   "name": "conda-env-anaconda-panel-2023.05-py310-py"
  },
  "language_info": {
   "codemirror_mode": {
    "name": "ipython",
    "version": 3
   },
   "file_extension": ".py",
   "mimetype": "text/x-python",
   "name": "python",
   "nbconvert_exporter": "python",
   "pygments_lexer": "ipython3",
   "version": "3.11.5"
  }
 },
 "nbformat": 4,
 "nbformat_minor": 5
}
