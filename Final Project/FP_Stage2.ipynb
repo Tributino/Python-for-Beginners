{
 "cells": [
  {
   "cell_type": "markdown",
   "id": "c2376faa",
   "metadata": {},
   "source": [
    "# 📊 Final Project – Stage 2: Data Cleaning, Visualization & Feature Engineering\n",
    "**Deadline:** Sep 05, 2025\n",
    "\n",
    "## Group Assignments and Datasets\n",
    "\n",
    "###  Group 1: Anais Serrano Fragoso & Valeria Mora Silva  \n",
    "**Dataset:** [Student Stress Monitoring Datasets ](https://www.kaggle.com/datasets/mdsultanulislamovi/student-stress-monitoring-datasets) \\\n",
    "Explore physiological and behavioral indicators related to student stress.\n",
    "\n",
    "For some ideas se the notebook by [Denver Magtibay](https://www.kaggle.com/code/denvermagtibay/ai-powered-student-stress-detection)\n",
    "\n",
    "---\n",
    "\n",
    "###  Group 2: Sofia Belinda Curi Pachas & Ava Sofia Leon Macias  \n",
    "**Dataset:** [AI vs Human Content Detection – 1000+ Records in 2025](https://www.kaggle.com/datasets/pratyushpuri/ai-vs-human-content-detection-1000-record-in-2025)  \\\n",
    "Analyze patterns in AI-generated vs human-written content.\n",
    "\n",
    "For some ideas se the notebook by [Raayen](https://www.kaggle.com/code/rushildhingra25/human-vs-ai-text-classification)\n",
    "\n",
    "---\n",
    "\n",
    "###  Group 3: Quoc Anh Nguyen  \n",
    "**Dataset:** [Food Preferences](https://www.kaggle.com/datasets/vijayashreer/food-preferences)\\\n",
    "Preferences in food choices across different demographics.\n",
    "\n",
    "For some ideas se the notebook by [Rohith Mahadevan](https://www.kaggle.com/code/rohithmahadevan/exploratory-data-analysis-of-food-preference)\n",
    "\n",
    "---\n",
    "\n",
    "###  Objectives:\n",
    "- Clean the dataset (handle missing values, duplicates, outliers, etc.).\n",
    "- Create meaningful visualizations (e.g., histograms, scatter plots, box plots).\n",
    "- Perform feature engineering (create new variables or transform existing ones).\n",
    "- Begin identifying patterns or trends in the data.\n",
    "\n",
    "### Deliverables:\n",
    "- Updated Jupyter Notebook with:\n",
    "  - Data cleaning steps and explanations.\n",
    "  - At least 3 different types of visualizations.\n",
    "  - Feature engineering examples.\n",
    "  - Clear comments explaining your process and findings.\n",
    " \n",
    "### Tips for Completing Stage 2\n",
    "\n",
    "- **Explore Examples**: Kaggle is a great resource not just for datasets, but also for learning from others. Check out public notebooks related to your dataset to see how others approach data cleaning, visualization, and feature engineering.\n",
    "- **Be Curious**: Don’t just clean the data—ask yourself *why* certain values are missing or *how* outliers might affect your analysis.\n",
    "- **Visualize Often**: Use different types of plots to uncover patterns. Sometimes a scatter plot or box plot can reveal insights that summary statistics miss.\n",
    "- **Document Your Work**: Use markdown cells to explain your decisions and findings. Clear documentation helps others understand your process—and helps you stay organized.\n",
    "- **Ask Questions**: What trends are emerging? Are there relationships between variables? What features might be useful for prediction or classification?\n",
    "\n",
    "Happy exploring! \n"
   ]
  },
  {
   "cell_type": "code",
   "execution_count": null,
   "id": "194721c3",
   "metadata": {},
   "outputs": [],
   "source": [
    "import pandas as pd\n",
    "import numpy as np\n",
    "import matplotlib.pyplot as plt\n",
    "import seaborn as sns\n",
    "\n",
    "# Load your dataset\n"
   ]
  },
  {
   "cell_type": "markdown",
   "id": "5d3aae3f",
   "metadata": {},
   "source": [
    "## Step 1: Data Cleaning\n",
    "Handle missing values, duplicates, and outliers below."
   ]
  },
  {
   "cell_type": "code",
   "execution_count": null,
   "id": "6fbbaeb3",
   "metadata": {},
   "outputs": [],
   "source": [
    "# Check for missing values\n"
   ]
  },
  {
   "cell_type": "code",
   "execution_count": null,
   "id": "13c2abc4",
   "metadata": {},
   "outputs": [],
   "source": [
    "# Drop or fill missing values\n"
   ]
  },
  {
   "cell_type": "code",
   "execution_count": null,
   "id": "877354fb",
   "metadata": {},
   "outputs": [],
   "source": [
    "# Remove duplicates\n"
   ]
  },
  {
   "cell_type": "code",
   "execution_count": null,
   "id": "a63b573e",
   "metadata": {},
   "outputs": [],
   "source": [
    "# Detect outliers using IQR\n"
   ]
  },
  {
   "cell_type": "markdown",
   "id": "3d96dc0c",
   "metadata": {},
   "source": [
    "## Step 2: Visualizations\n",
    "Create at least three types of visualizations to explore the data."
   ]
  },
  {
   "cell_type": "code",
   "execution_count": null,
   "id": "8a012a10",
   "metadata": {},
   "outputs": [],
   "source": [
    "# Histogram\n"
   ]
  },
  {
   "cell_type": "code",
   "execution_count": null,
   "id": "030b44ed",
   "metadata": {},
   "outputs": [],
   "source": [
    "# Scatter plot\n"
   ]
  },
  {
   "cell_type": "code",
   "execution_count": null,
   "id": "37d41536",
   "metadata": {},
   "outputs": [],
   "source": [
    "# Box plot\n"
   ]
  },
  {
   "cell_type": "markdown",
   "id": "95db40f7",
   "metadata": {},
   "source": [
    "## Step 3: Feature Engineering\n",
    "Create new features or transform existing ones."
   ]
  },
  {
   "cell_type": "code",
   "execution_count": null,
   "id": "1e32a361",
   "metadata": {},
   "outputs": [],
   "source": [
    "# Example: Create a new feature\n"
   ]
  },
  {
   "cell_type": "code",
   "execution_count": null,
   "id": "08b1825a",
   "metadata": {},
   "outputs": [],
   "source": [
    "# Example: Transform a feature\n"
   ]
  },
  {
   "cell_type": "markdown",
   "id": "a2cdb990",
   "metadata": {},
   "source": [
    "## Step 4: Observations and Findings\n",
    "Use this section to explain your process and summarize your findings from cleaning, visualization, and feature engineering."
   ]
  }
 ],
 "metadata": {
  "kernelspec": {
   "display_name": "anaconda-panel-2023.05-py310",
   "language": "python",
   "name": "conda-env-anaconda-panel-2023.05-py310-py"
  },
  "language_info": {
   "codemirror_mode": {
    "name": "ipython",
    "version": 3
   },
   "file_extension": ".py",
   "mimetype": "text/x-python",
   "name": "python",
   "nbconvert_exporter": "python",
   "pygments_lexer": "ipython3",
   "version": "3.11.5"
  }
 },
 "nbformat": 4,
 "nbformat_minor": 5
}
