{
 "cells": [
  {
   "cell_type": "markdown",
   "metadata": {},
   "source": [
    "<img src=\"images/lasalle_logo.png\" style=\"width:375px;height:110px;\">\n",
    "<p style=  \"text-align: right; color: blue;\"> WIM250 - Summer 2025</p>"
   ]
  },
  {
   "cell_type": "markdown",
   "metadata": {},
   "source": [
    "# Week 7 - CSV files \n",
    "\n",
    "### WIM250 - Introduction to Scripting Languages \n",
    "### Instructor: Ivaldo Tributino\n",
    "\n",
    "Sources:\n",
    "    \n",
    "- Automate The Boring Stuff With Python by AL Sweigart.\n",
    "- Python for Everybody Exploring Data Using Python 3 by Dr. Charles R. Severance.\n",
    "- Hands-on machine learning with scikit-learn and tensorflow by Géron, Aurélien."
   ]
  },
  {
   "cell_type": "markdown",
   "metadata": {},
   "source": [
    "## The CSV Module\n",
    "\n",
    "A comma-separated values (CSV) file is a delimited text file that uses a comma to separate values. Each line of the file is a data record. Each record consists of one or more fields, separated by commas. The use of the comma as a field separator is the source of the name for this file format. A CSV file typically stores tabular data (numbers and text) in plain text, in which case each line will have the same number of fields.\n",
    "\n",
    "<img src=\"images/csv.png\" style=\"width:500px;height:300px;\">\n",
    "\n",
    "Python’s` csv module` makes it easy to parse CSV files. Also, we can make use of a powerful library called pandas for data manipulation and analysis. In particular, it offers data structures and operations for manipulating numerical tables and time series.\n",
    "\n",
    "Let's take a look at the file named `exaple.csv`. We will import the csv module, open and read the file."
   ]
  },
  {
   "cell_type": "code",
   "execution_count": null,
   "metadata": {},
   "outputs": [],
   "source": [
    "import csv"
   ]
  },
  {
   "cell_type": "code",
   "execution_count": null,
   "metadata": {},
   "outputs": [],
   "source": [
    "# Use a context manager to open the CSV file safely\n",
    "with open('example.csv', mode='r', newline='', encoding='utf-8') as exampleFile:\n",
    "    # Create a CSV reader object\n",
    "    exampleReader = csv.reader(exampleFile)\n",
    "\n",
    "    # Convert the reader object to a list of rows\n",
    "    exampleData = list(exampleReader)\n",
    "\n",
    "# Display the entire data read from the CSV file\n",
    "exampleData"
   ]
  },
  {
   "cell_type": "markdown",
   "metadata": {},
   "source": [
    "Now that you have the CSV file as a list of lists, you can access the value at a particular row and column with the expression `exampleData[row][col]`."
   ]
  },
  {
   "cell_type": "code",
   "execution_count": null,
   "metadata": {},
   "outputs": [],
   "source": [
    "exampleData[2][1] == 'Pears' # third row and 2 columns"
   ]
  },
  {
   "cell_type": "markdown",
   "metadata": {},
   "source": [
    "After you import the csv module and make a reader object from the CSV file, you can loop through the rows in the reader object. Each row is a list of values, with each value representing a cell."
   ]
  },
  {
   "cell_type": "code",
   "execution_count": null,
   "metadata": {},
   "outputs": [],
   "source": [
    "# Open the CSV file using a context manager to ensure it's properly closed after reading\n",
    "with open('example.csv', mode='r', newline='', encoding='utf-8') as exampleFile:\n",
    "    # Create a CSV reader object\n",
    "    exampleReader = csv.reader(exampleFile)\n",
    "\n",
    "    # Print the type of the reader object \n",
    "    print(f\"Type of exampleReader: {type(exampleReader)}\")\n",
    "\n",
    "    # Iterate over each row in the CSV file\n",
    "    for row in exampleReader:\n",
    "        # Print the current line number and the row content\n",
    "        print(f\"Row #{exampleReader.line_num}: {row}\")\n"
   ]
  },
  {
   "cell_type": "markdown",
   "metadata": {},
   "source": [
    "### Pandas \n",
    "\n",
    "In computer programming, `pandas` is a software library written for the Python programming language `for data manipulation and analysis`. In particular, it offers data structures and operations for manipulating numerical tables and time series. It is free software released under the three-clause BSD license. The name is derived from the term \"panel data\".\n",
    "\n",
    "<img src=\"images/pandas.png\" style=\"width:300px;height:300px;\">"
   ]
  },
  {
   "cell_type": "code",
   "execution_count": null,
   "metadata": {},
   "outputs": [],
   "source": [
    "# import pandas\n"
   ]
  },
  {
   "cell_type": "code",
   "execution_count": null,
   "metadata": {},
   "outputs": [],
   "source": [
    "df_housing = pd.read_csv('housing.csv') # Data Frame"
   ]
  },
  {
   "cell_type": "markdown",
   "metadata": {},
   "source": [
    "The `df.head()` This function returns the first `n` rows for the object based on position"
   ]
  },
  {
   "cell_type": "code",
   "execution_count": null,
   "metadata": {},
   "outputs": [],
   "source": []
  },
  {
   "cell_type": "code",
   "execution_count": null,
   "metadata": {},
   "outputs": [],
   "source": [
    "print(\"Total Row Number: {0} \\nTotal Columns Number: {1}\".format(df_housing.shape[0], df_housing.shape[1]))"
   ]
  },
  {
   "cell_type": "markdown",
   "metadata": {},
   "source": [
    "The `df.info()` method is useful to get a quick description of the data, in particular the total number of rows, and each attribute’s type and number of non-null values"
   ]
  },
  {
   "cell_type": "code",
   "execution_count": null,
   "metadata": {},
   "outputs": [],
   "source": []
  },
  {
   "cell_type": "markdown",
   "metadata": {},
   "source": [
    "The `df.hist()` method on the whole dataset, and it will plot a histogram for each numerical attribute"
   ]
  },
  {
   "cell_type": "code",
   "execution_count": null,
   "metadata": {},
   "outputs": [],
   "source": [
    "df_housing.hist() # see https://pandas.pydata.org/pandas-docs/stable/reference/api/pandas.DataFrame.hist.html"
   ]
  },
  {
   "cell_type": "code",
   "execution_count": null,
   "metadata": {},
   "outputs": [],
   "source": [
    "# Matplotlib comprehensive library for creating static, animated, and interactive visualizations in Python.\n"
   ]
  },
  {
   "cell_type": "markdown",
   "metadata": {},
   "source": [
    "Let's use the `value_counts()` in one of the columns to get a Series containing counts of unique values. "
   ]
  },
  {
   "cell_type": "code",
   "execution_count": null,
   "metadata": {},
   "outputs": [],
   "source": [
    "# Create a Boolean mask for rows where 'housing_median_age' is greater than 50\n",
    "\n",
    "\n",
    "# Use the mask to filter the DataFrame, then count the occurrences of each unique value in 'ocean_proximity'\n",
    "\n",
    "\n",
    "# Display the result\n",
    "\n"
   ]
  },
  {
   "cell_type": "code",
   "execution_count": null,
   "metadata": {},
   "outputs": [],
   "source": [
    "# Create Boolean masks for filtering the DataFrame\n",
    "mask1 =\n",
    "mask2 = \n",
    "\n",
    "# Apply both masks using the operator (&) and count unique values in 'ocean_proximity'\n",
    "ocean_proximity_counts = \n",
    "\n",
    "# Display the result\n",
    "print(ocean_proximity_counts)\n"
   ]
  },
  {
   "cell_type": "markdown",
   "metadata": {},
   "source": [
    "Pandas `dataframe.groupby()` function is used to split the data into groups based on some criteria. pandas objects can be split on any of their axes. "
   ]
  },
  {
   "cell_type": "code",
   "execution_count": null,
   "metadata": {
    "scrolled": true
   },
   "outputs": [],
   "source": [
    "grouped_df = \n"
   ]
  },
  {
   "cell_type": "code",
   "execution_count": null,
   "metadata": {},
   "outputs": [],
   "source": [
    "# Plot the average median house value for each ocean proximity category as a bar chart\n"
   ]
  },
  {
   "cell_type": "markdown",
   "metadata": {},
   "source": [
    "### Box Plot with Seaborn\n",
    "\n",
    "We often evaluate a property by its location. So let's investigate the price of the house by location using `box plot`.\n",
    "A `box plot` shows the distribution of quantitative data in a way that facilitates comparisons between variables or across levels of a categorical variable. The box shows the quartiles of the dataset while the whiskers extend to show the rest of the distribution, except for points that are determined to be “outliers” using a method that is a function of the inter-quartile range.\n",
    "for more information about boxenplot, see: https://towardsdatascience.com/understanding-boxplots-5e2df7bcbd51\n",
    "\n",
    "To draw the `box plot`, we will use `Seaborn`. `Seaborn` is a Python data visualization library based on matplotlib. It provides a high-level interface for drawing attractive and informative statistical graphics.\n",
    "\n",
    "for more information about `Seaborn` see: https://seaborn.pydata.org/"
   ]
  },
  {
   "cell_type": "code",
   "execution_count": null,
   "metadata": {},
   "outputs": [],
   "source": [
    "import seaborn as sns\n",
    "\n",
    "# Set the figure size for better readability of the plot\n",
    "\n",
    "\n",
    "# Create a boxen plot to show the distribution of median house values across ocean proximity categories\n",
    "\n",
    "\n",
    "# Add a title to the plot\n",
    "\n",
    "\n",
    "# Display the plot\n",
    "\n"
   ]
  },
  {
   "cell_type": "markdown",
   "metadata": {},
   "source": [
    "### Looking for Correlations\n",
    "\n",
    "The correlation coefficient ranges from –1 to 1. When it is close to 1, it means that there is a strong positive correlation; for example, the median house value tends to go up when the median income goes up. When the coefficient is close to –1, it means that there is a strong negative correlation; you can see a small negative correlation between the latitude and the median house value (i.e., prices have a slight tendency to go down when you go north). Finally, coefficients close to zero mean that there is no linear correlation.\n",
    "\n",
    "<img src=\"images/correlation.png\" style=\"width:700px;height:200px;\">"
   ]
  },
  {
   "cell_type": "code",
   "execution_count": null,
   "metadata": {},
   "outputs": [],
   "source": [
    "import numpy as np \n",
    "\n",
    "# Compute pairwise correlation of all numerical columns, excluding NA/null values\n",
    "corr = df_housing.corr()\n",
    "\n",
    "# Set up the figure size for better readability\n",
    "plt.subplots(1, 1, figsize=(15, 10))\n",
    "\n",
    "# Generate a mask for the upper triangle to avoid redundant information\n",
    "mask = np.triu(np.ones_like(corr, dtype=bool))\n",
    "\n",
    "# Create a heatmap of the correlation matrix with annotations and styling\n",
    "sns.heatmap(corr, \n",
    "            annot=True,        # Show correlation coefficients\n",
    "            mask=mask,         # Apply the upper triangle mask\n",
    "            linewidths=1,      # Add lines between cells\n",
    "            cmap=\"YlGnBu\")     # Use a visually appealing color map\n",
    "\n",
    "# Display the plot\n",
    "plt.show()\n"
   ]
  },
  {
   "cell_type": "markdown",
   "metadata": {},
   "source": [
    "### Feature Engineering\n",
    "\n",
    "`Feature engineering` is the process of using domain knowledge to extract features from raw data via data mining techniques. These features can be used to improve the performance of machine learning algorithms.\n",
    "\n",
    "**Let's divide the data in homogeneous subgroups:**\n",
    "- The following code create an income category attribute by dividing the median income by 1.5 (to limit the number of income categories). \n",
    "- rounding up using ceil (to have discrete categories), and then merging all the categories greater than 5 into category 5.\n",
    "\n",
    "**For this task it will be important to know DataFrame.where, so let's take a look at the syntax.**\n",
    "\n",
    "```\n",
    "Syntax:\n",
    "DataFrame.where(cond, other=nan, inplace=False) \n",
    " \n",
    "Parameters:\n",
    "cond: One or more condition to check data frame for.\n",
    "other: Replace rows which don’t satisfy the condition with user defined object, Default is NaN\n",
    "inplace: Boolean value, Makes changes in data frame itself if True\n",
    "```"
   ]
  },
  {
   "cell_type": "code",
   "execution_count": null,
   "metadata": {},
   "outputs": [],
   "source": [
    "# Create a new column 'income_categorical' by dividing 'median_income' by 3 and applying the ceiling function\n",
    "# This groups income into categories (e.g., 0–3, 3–6, etc.). Max median_income is 15, so 15/3 = 5\n",
    "\n",
    "\n",
    "# Cap the income categories at 5.0 to avoid having values greater than 5\n",
    "\n",
    "\n",
    "# Display the first few rows of the updated DataFrame\n",
    "\n"
   ]
  },
  {
   "cell_type": "code",
   "execution_count": null,
   "metadata": {},
   "outputs": [],
   "source": [
    "# How income influences the House median value.\n",
    "import matplotlib.pyplot as plt\n",
    "\n",
    "# Group the data by income category and calculate the mean of median house values\n",
    "# Then plot the result as a bar chart\n",
    "df_housing.groupby('income_categorical')['median_house_value'].mean().plot(\n",
    "\n",
    "\n",
    "# Add a title to the plot for context\n",
    "\n",
    "\n",
    "# Display the plot\n",
    "\n"
   ]
  },
  {
   "cell_type": "markdown",
   "metadata": {},
   "source": [
    "### Missing Values in Data\n",
    "\n",
    "It is important to understand the concept of missing values in order to successfully manage data. If the missing values are not handled properly by the researcher, he may end up making an inaccurate inference about the data. \n",
    "\n",
    "<img src=\"images/missing.png\" style=\"width:550px;height:300px;\">"
   ]
  },
  {
   "cell_type": "code",
   "execution_count": null,
   "metadata": {},
   "outputs": [],
   "source": [
    "# Creating a data frame to check the amount of missing values .\n",
    "df_missing = \n",
    "df_missing"
   ]
  },
  {
   "cell_type": "code",
   "execution_count": null,
   "metadata": {},
   "outputs": [],
   "source": []
  }
 ],
 "metadata": {
  "kernelspec": {
   "display_name": "anaconda-2022.05-py39",
   "language": "python",
   "name": "conda-env-anaconda-2022.05-py39-py"
  },
  "language_info": {
   "codemirror_mode": {
    "name": "ipython",
    "version": 3
   },
   "file_extension": ".py",
   "mimetype": "text/x-python",
   "name": "python",
   "nbconvert_exporter": "python",
   "pygments_lexer": "ipython3",
   "version": "3.9.12"
  }
 },
 "nbformat": 4,
 "nbformat_minor": 4
}
