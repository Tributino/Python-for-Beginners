{
 "cells": [
  {
   "cell_type": "markdown",
   "metadata": {},
   "source": [
    "<img src=\"images/lasalle_logo.png\" style=\"width:375px;height:110px;\">"
   ]
  },
  {
   "cell_type": "markdown",
   "metadata": {},
   "source": [
    "# Week 10 - Data Models and Relational SQL\n",
    "\n",
    "### WIM250 - Introduction to Scripting Languages \n",
    "### Instructor: Ivaldo Tributino\n",
    "\n",
    "Sources:\n",
    "- Python for Everybody Exploring Data Using Python 3 by Dr. Charles R. Severance.\n",
    "- [Filemaker/Many-to-many relationships](https://fmhelp.filemaker.com/help/18/fmp/en/index.html#page/FMP_Help/many-to-many-relationships.html)\n"
   ]
  },
  {
   "cell_type": "markdown",
   "metadata": {},
   "source": [
    "## Data modeling\n",
    "\n",
    "The real power of a relational database is when we `create multiple tables` and make `links between those tables`. The act of deciding how to break up your application data into multiple tables and establishing the relationships between the tables is called `data modeling`. The design document that shows the tables and their relationships is called a `data model`.\n",
    "\n",
    "<img src=\"images/relational.png\" style=\"width:375px;height:300px;\">\n",
    "\n",
    "For more detail on data modeling you can start with: [Relational Data Model in DBMS: Concepts, Constraints, Example](https://www.guru99.com/relational-data-model-dbms.html)\n",
    "\n",
    "\n",
    "In the last week, we created a Database with only one table called `Daily` and columns: `city_name, longitude, latitude and max_tem`. For this week, we will create more tables to contain extra data such as temperatures and country of each city. For that, we need to establish a relationship with these tables."
   ]
  },
  {
   "cell_type": "code",
   "execution_count": null,
   "metadata": {},
   "outputs": [],
   "source": [
    "import json\n",
    "daily = [json.loads(line) for line in open('daily_14.json', encoding=\"utf8\")]"
   ]
  },
  {
   "cell_type": "code",
   "execution_count": null,
   "metadata": {},
   "outputs": [],
   "source": [
    "# Let's take a look at this list.\n",
    "daily[0]['city']"
   ]
  },
  {
   "cell_type": "code",
   "execution_count": null,
   "metadata": {},
   "outputs": [],
   "source": [
    "daily[0]['data'][0]"
   ]
  },
  {
   "cell_type": "code",
   "execution_count": null,
   "metadata": {},
   "outputs": [],
   "source": [
    "# Let's collect the data we are interested in.\n",
    "data = []\n",
    "for city in daily:\n",
    "    dic = {}\n",
    "    temperature = []\n",
    "    dic['city'] = city['city']\n",
    "    for temp in city['data']:\n",
    "        dic_temp = {}\n",
    "        dic_temp['dt'] = temp['dt']\n",
    "        dic_temp['temp_min'] = temp['temp']['min']\n",
    "        dic_temp['temp_max'] = temp['temp']['max']\n",
    "        dic_temp['temp_night'] = temp['temp']['night']\n",
    "        dic_temp['temp_eve'] = temp['temp']['eve']\n",
    "        dic_temp['temp_morn'] = temp['temp']['morn']\n",
    "        temperature.append(dic_temp)\n",
    "    dic['data'] = temperature    \n",
    "    data.append(dic)   "
   ]
  },
  {
   "cell_type": "code",
   "execution_count": null,
   "metadata": {},
   "outputs": [],
   "source": [
    "data[0]"
   ]
  },
  {
   "cell_type": "markdown",
   "metadata": {},
   "source": [
    "Let's create two tables named `Country` and `City`. \n",
    "\n",
    "We should never put the same string data in the database more than once, `Duplication of string` is a data violation. If we need the data more than once, we create a `numeric key` for the data and reference the actual data using this key. The reason is because, in practical terms, a string takes up much more space than an integer on our computer's disk and memory and takes more time for the processor to compare and sort.\n",
    "\n",
    "The City table needs an additional column to store the numeric key associated with the row for this Countries. SQLite has a feature that automatically adds the key value for any row we insert into a table using a special type of data column **(INTEGER PRIMARY KEY)**.\n",
    "\n",
    "```SQL\n",
    "CREATE TABLE Country (id INTEGER PRIMARY KEY, country_code TEXT UNIQUE);\n",
    "CREATE TABLE City (id INTEGER PRIMARY KEY, city_name TEXT, country_id INTEGER, latitude FLOAT, longitude FLOAT)\n",
    "```\n",
    "\n",
    "We also add the keyword **UNIQUE** to indicate that we will not allow SQLite to insert two rows with the same value for name.\n",
    "\n",
    "<img src=\"images/tables.png\" style=\"width:400px;height:350px;\">"
   ]
  },
  {
   "cell_type": "code",
   "execution_count": null,
   "metadata": {},
   "outputs": [],
   "source": [
    "import sqlite3\n",
    "\n",
    "conn = sqlite3.connect('daily.sqlite')\n",
    "cur = conn.cursor()\n",
    "\n",
    "# Make some fresh tables using executescript()\n",
    "cur.executescript('''\n",
    "DROP TABLE IF EXISTS Country;\n",
    "DROP TABLE IF EXISTS City;\n",
    "\n",
    "CREATE TABLE Country (\n",
    "    id             INTEGER PRIMARY KEY UNIQUE,\n",
    "    country_code   TEXT UNIQUE\n",
    ");\n",
    "\n",
    "\n",
    "CREATE TABLE City (\n",
    "    id             INTEGER PRIMARY KEY UNIQUE,\n",
    "    city_name      TEXT,\n",
    "    country_id     INTEGER,\n",
    "    latitude       REAL,\n",
    "    longitude      REAL\n",
    "\n",
    ")''')\n",
    "\n",
    "# Only the first 20 cities.\n",
    "for dic in data[:20]:\n",
    "    \n",
    "    city_id = dic['city']['id']\n",
    "    city_name = dic['city']['name']\n",
    "    country = dic['city']['country']\n",
    "    lon = dic['city']['coord']['lon']\n",
    "    lat = dic['city']['coord']['lat']\n",
    "  \n",
    "    \n",
    "    cur.execute('''INSERT OR IGNORE INTO Country (country_code) \n",
    "        VALUES ( ? )''', (country,) )\n",
    "    cur.execute('SELECT id FROM Country WHERE country_code = ? ', (country, ))\n",
    "    country_id = cur.fetchone()[0] # retrieve the record \n",
    "        \n",
    "    cur.execute('''INSERT OR IGNORE INTO City (id, city_name, country_id, latitude, longitude) \n",
    "        VALUES ( ?, ?, ?, ?, ? )''', (city_id, city_name, country_id, lat, lon) )\n",
    "\n",
    "\n",
    "conn.commit() #  force the database to really be updated"
   ]
  },
  {
   "cell_type": "markdown",
   "metadata": {},
   "source": [
    "We added the **OR IGNORE** clause to our **INSERT** statement to indicate that if this particular **INSERT** would cause a violation of the “Unique” rule, the database system is allowed to ignore the **INSERT**.\n",
    "\n",
    "### It is time to add the last table, the temperature table.\n",
    "\n",
    "<img src=\"images/temp_table.png\" style=\"width:300px;height:375px;\">"
   ]
  },
  {
   "cell_type": "code",
   "execution_count": null,
   "metadata": {},
   "outputs": [],
   "source": [
    "from datetime import datetime\n",
    "\n",
    "conn = sqlite3.connect('daily.sqlite')\n",
    "cur = conn.cursor()\n",
    "\n",
    "# Make some fresh tables using executescript()\n",
    "cur.executescript('''\n",
    "DROP TABLE IF EXISTS Country;\n",
    "DROP TABLE IF EXISTS City;\n",
    "DROP TABLE IF EXISTS Temperature;\n",
    "\n",
    "CREATE TABLE Country (\n",
    "    id             INTEGER PRIMARY KEY UNIQUE,\n",
    "    country_code   TEXT UNIQUE\n",
    ");\n",
    "\n",
    "\n",
    "CREATE TABLE City (\n",
    "    id             INTEGER PRIMARY KEY UNIQUE,\n",
    "    city_name      TEXT,\n",
    "    country_id     INTEGER,\n",
    "    latitude       FLOAT,\n",
    "    longitude      FLOAT\n",
    "\n",
    ");\n",
    "\n",
    "CREATE TABLE Temperature (\n",
    "    city_id     INTEGER,\n",
    "    time        INTEGER,\n",
    "    tem_min     FLOAT,\n",
    "    tem_max     FLOAT,\n",
    "    tem_night   FLOAT,\n",
    "    tem_eve     FLOAT,\n",
    "    tem_morn    FLOAT\n",
    ")''')\n",
    "\n",
    "\n",
    "for dic in data[:20]:\n",
    "\n",
    "    city_id = dic['city']['id']\n",
    "    city_name = dic['city']['name']\n",
    "    country = dic['city']['country']\n",
    "    lon = dic['city']['coord']['lon']\n",
    "    lat = dic['city']['coord']['lat']\n",
    "  \n",
    "    \n",
    "    cur.execute('''INSERT OR IGNORE INTO Country (country_code) \n",
    "        VALUES ( ? )''', (country,) )\n",
    "    cur.execute('SELECT id FROM Country WHERE country_code = ? ', (country, ))\n",
    "    country_id = cur.fetchone()[0] # retrieve the record \n",
    "        \n",
    "    cur.execute('''INSERT OR IGNORE INTO City (id, city_name, country_id, latitude, longitude) \n",
    "        VALUES ( ?, ?, ?, ?, ? )''', (city_id, city_name, country_id, lat, lon) )\n",
    "    \n",
    "    for tem in dic['data']:    \n",
    "        \n",
    "        time = datetime.fromtimestamp(tem['dt'])\n",
    "        tem_min = tem['temp_min']\n",
    "        tem_max = tem['temp_max']\n",
    "        tem_night = tem['temp_night']\n",
    "        tem_eve = tem['temp_eve']\n",
    "        tem_morn = tem['temp_morn']\n",
    "        \n",
    "\n",
    "\n",
    "        cur.execute('''INSERT OR REPLACE INTO Temperature\n",
    "            (city_id, time, tem_min, tem_max, tem_night, tem_eve, tem_morn) \n",
    "            VALUES ( ?, ?, ?, ?, ?, ?, ?)''', \n",
    "            ( city_id, time, tem_min, tem_max, tem_night, tem_eve, tem_morn ) )\n",
    "\n",
    "conn.commit()"
   ]
  },
  {
   "cell_type": "markdown",
   "metadata": {},
   "source": [
    "## Many-to-many relationships (Student's Assignment)\n",
    "\n",
    "A `many-to-many relationship` occurs when multiple records in a table are associated with multiple records in another table. For example, a `many-to-many relationship` exists between customers and products: customers can purchase multiple products, and products can be purchased by many customers.\n",
    "\n",
    "Another example of a many-to-many relationship is one between students and classes. A student can register for many classes, and a class can include many students.\n",
    "\n",
    "<img src=\"images/many_to_many.png\" style=\"width:625px;height:300px;\">\n",
    "\n",
    "[<center>Many-to-many relationships</center>](https://fmhelp.filemaker.com/help/16/fmp/en/#page/FMP_Help%2Fmany-to-many-relationships.html%23)\n",
    "\n",
    "To break the many-to-many relationship into two one-to-many relationships we use a third table, called a `join table`. Each record in a `join table` includes a match field that contains the value of the `primary keys` of the two tables it joins. (In the join table, these match fields are `foreign keys`.) "
   ]
  },
  {
   "cell_type": "code",
   "execution_count": null,
   "metadata": {},
   "outputs": [],
   "source": [
    "# Let's take a look at the json file that will be used in your assignment.\n",
    "with open('assignment.json', 'r') as myfile:\n",
    "    students = json.load(myfile)\n",
    "        \n",
    "students = json.loads(students)    "
   ]
  },
  {
   "cell_type": "code",
   "execution_count": null,
   "metadata": {},
   "outputs": [],
   "source": [
    "students"
   ]
  },
  {
   "cell_type": "code",
   "execution_count": null,
   "metadata": {},
   "outputs": [],
   "source": [
    "for st in students:\n",
    "    print(st['studentId'],st['firstName'], st['lastName'])"
   ]
  },
  {
   "cell_type": "code",
   "execution_count": null,
   "metadata": {},
   "outputs": [],
   "source": [
    "for idx, st in enumerate(students):\n",
    "    print('Student' + str(idx+1))\n",
    "    for course in st['courses']:\n",
    "        print('Title: ', course['title'])"
   ]
  },
  {
   "cell_type": "code",
   "execution_count": null,
   "metadata": {},
   "outputs": [],
   "source": [
    "students[6]['courses'][2]['description']"
   ]
  },
  {
   "cell_type": "code",
   "execution_count": null,
   "metadata": {},
   "outputs": [],
   "source": [
    "' '.join(students[6]['courses'][2]['description'].replace(\"\\n\", \" \").split())"
   ]
  },
  {
   "cell_type": "markdown",
   "metadata": {},
   "source": [
    "# Using JOIN to retrieve data\n",
    "\n",
    "```SQL\n",
    "SELECT * FROM City JOIN Temperature ON Temperature.city_id = City.id\n",
    "\n",
    "SELECT * FROM City JOIN Temperature ON Temperature.city_id = City.id WHERE Temperature.time = '2017-03-20 23:00:00'\n",
    "\n",
    "\n",
    "SELECT  City.city_name, Temperature.tem_max  \n",
    "FROM City JOIN Temperature \n",
    "ON Temperature.city_id = City.id \n",
    "WHERE Temperature.time = '2017-03-20 23:00:00'\n",
    "\n",
    "\n",
    "SELECT  Country.country_code, City.city_name, Temperature.tem_max  \n",
    "FROM Country JOIN City JOIN Temperature \n",
    "ON  City.country_id = Country.id AND Temperature.city_id = City.id \n",
    "WHERE Temperature.time = '2017-03-20 23:00:00'\n",
    "                        \n",
    "\n",
    "```"
   ]
  },
  {
   "cell_type": "code",
   "execution_count": null,
   "metadata": {},
   "outputs": [],
   "source": [
    "import sqlite3\n",
    "\n",
    "conn = sqlite3.connect('daily.sqlite')\n",
    "cur = conn.cursor()\n",
    "\n",
    "cur.execute('''SELECT  Country.country_code, City.city_name, Temperature.tem_max  \n",
    "               FROM Country JOIN City JOIN Temperature \n",
    "               ON  City.country_id = Country.id AND Temperature.city_id = City.id \n",
    "               WHERE Temperature.time = ?''', ('2017-03-20 23:00:00',))\n",
    "count = 0\n",
    "print('city:')\n",
    "for row in cur:\n",
    "    if count < 20: print(row)\n",
    "    count = count + 1\n",
    "print(count, 'rows.')\n",
    "\n",
    "cur.close()"
   ]
  },
  {
   "cell_type": "markdown",
   "metadata": {},
   "source": [
    "## Import functions/Classes from another `.ipynb` file"
   ]
  },
  {
   "cell_type": "code",
   "execution_count": null,
   "metadata": {},
   "outputs": [],
   "source": [
    "# You need to install ipynb package. Try: pip install ipynb \n",
    "# (see : https://stackoverflow.com/questions/20186344/importing-an-ipynb-file-from-another-ipynb-file)\n",
    "from ipynb.fs.full.classes_functions import get_keys\n",
    "from ipynb.fs.full.classes_functions import database"
   ]
  },
  {
   "cell_type": "code",
   "execution_count": null,
   "metadata": {},
   "outputs": [],
   "source": [
    "get_keys(data)"
   ]
  },
  {
   "cell_type": "code",
   "execution_count": null,
   "metadata": {},
   "outputs": [],
   "source": [
    "data_SQlite = database(data)"
   ]
  },
  {
   "cell_type": "code",
   "execution_count": null,
   "metadata": {},
   "outputs": [],
   "source": [
    "dir(data_SQlite)"
   ]
  },
  {
   "cell_type": "code",
   "execution_count": null,
   "metadata": {},
   "outputs": [],
   "source": [
    "type(data_SQlite.data)"
   ]
  },
  {
   "cell_type": "code",
   "execution_count": null,
   "metadata": {},
   "outputs": [],
   "source": [
    "dir(data_SQlite.data[0])"
   ]
  },
  {
   "cell_type": "code",
   "execution_count": null,
   "metadata": {},
   "outputs": [],
   "source": [
    "dir(data_SQlite.data[0].country)"
   ]
  },
  {
   "cell_type": "code",
   "execution_count": null,
   "metadata": {},
   "outputs": [],
   "source": [
    "data_SQlite.data[0].country.countryInfo()"
   ]
  },
  {
   "cell_type": "code",
   "execution_count": null,
   "metadata": {},
   "outputs": [],
   "source": [
    "dir(data_SQlite.data[0].city)"
   ]
  },
  {
   "cell_type": "code",
   "execution_count": null,
   "metadata": {},
   "outputs": [],
   "source": [
    "data_SQlite.data[0].city.cityInfo(2)"
   ]
  },
  {
   "cell_type": "code",
   "execution_count": null,
   "metadata": {},
   "outputs": [],
   "source": [
    "type(data_SQlite.data[0].temp)"
   ]
  },
  {
   "cell_type": "code",
   "execution_count": null,
   "metadata": {},
   "outputs": [],
   "source": [
    "dir(data_SQlite.data[0].temp[0])"
   ]
  },
  {
   "cell_type": "code",
   "execution_count": null,
   "metadata": {},
   "outputs": [],
   "source": [
    "data_SQlite.data[0].temp[0].tempInfo()"
   ]
  },
  {
   "cell_type": "code",
   "execution_count": null,
   "metadata": {},
   "outputs": [],
   "source": [
    "conn = sqlite3.connect('daily_1.sqlite')\n",
    "cur = conn.cursor()\n",
    "\n",
    "# Make some fresh tables using executescript()\n",
    "cur.executescript(data_SQlite.script().replace(\"\\n\", \" \"))\n",
    "\n",
    "for data in data_SQlite.data:\n",
    "        \n",
    "    cur.execute(data.country.countryInfo()[0], data.country.countryInfo()[1])\n",
    "    cur.execute('SELECT id FROM Country WHERE country_code = ? ', (data.country.countryInfo()[1][0],))\n",
    "    country_id = cur.fetchone()[0] # retrieve the record \n",
    "        \n",
    "    cur.execute(data.city.cityInfo(country_id)[0], data.city.cityInfo(country_id)[1])\n",
    "\n",
    "    for temp in data.temp:\n",
    "\n",
    "        cur.execute(temp.tempInfo()[0], temp.tempInfo()[1])\n",
    "\n",
    "conn.commit()"
   ]
  },
  {
   "cell_type": "code",
   "execution_count": null,
   "metadata": {},
   "outputs": [],
   "source": [
    "import sqlite3\n",
    "\n",
    "conn = sqlite3.connect('daily_1.sqlite')\n",
    "cur = conn.cursor()\n",
    "\n",
    "cur.execute('''SELECT  Country.country_code, City.city_name, Temperature.tem_max  \n",
    "               FROM Country JOIN City JOIN Temperature \n",
    "               ON  City.country_id = Country.id AND Temperature.city_id = City.id \n",
    "               WHERE Temperature.time = ?''', ('2017-03-20 23:00:00',))\n",
    "count = 0\n",
    "print('city:')\n",
    "for row in cur:\n",
    "    if count < 15: print(row)\n",
    "    count = count + 1\n",
    "print(count, 'rows.')\n",
    "\n",
    "cur.close()"
   ]
  },
  {
   "cell_type": "code",
   "execution_count": null,
   "metadata": {},
   "outputs": [],
   "source": []
  },
  {
   "cell_type": "code",
   "execution_count": null,
   "metadata": {},
   "outputs": [],
   "source": []
  },
  {
   "cell_type": "code",
   "execution_count": null,
   "metadata": {},
   "outputs": [],
   "source": []
  }
 ],
 "metadata": {
  "kernelspec": {
   "display_name": "Python 3",
   "language": "python",
   "name": "python3"
  },
  "language_info": {
   "codemirror_mode": {
    "name": "ipython",
    "version": 3
   },
   "file_extension": ".py",
   "mimetype": "text/x-python",
   "name": "python",
   "nbconvert_exporter": "python",
   "pygments_lexer": "ipython3",
   "version": "3.7.9"
  }
 },
 "nbformat": 4,
 "nbformat_minor": 4
}
