{
 "cells": [
  {
   "cell_type": "markdown",
   "metadata": {},
   "source": [
    "<img src=\"images/lasalle_logo.png\" style=\"width:375px;height:110px;\">\n",
    "\n",
    "# <center>WIM250 / WDIM150 - Introduction to Scripting Languages</center>\n",
    "<center>Instructor: Ivaldo Tributino</center>\n",
    "\n",
    "## Final Exam\n",
    "\n",
    "### Exam instruction\n",
    "- The exam must be submitted by **2:00 pm** on **June 14**.\n",
    "- Allow adequate time to complete this exam before the due date and time. Late submissions will not be accepted.\n",
    "- Each question presents its own score, the sum of all scores is **100**.\n",
    "- **Rename** this Notebook to your name.\n",
    "- You must submit this **Notebook(.ipynb)** and the **SQlite file**. \n",
    "\n",
    "### Examination Conduct\n",
    "\n",
    "- You are not permitted to obtain assistance by improper means or ask for help from or give help to any other person. \n",
    "- You are not permitted to take screenshots, record the screen, copy and paste questions or answers or otherwise attempt to take any of the content of this exam out of the exam for any purpose. "
   ]
  },
  {
   "cell_type": "code",
   "execution_count": null,
   "metadata": {},
   "outputs": [],
   "source": [
    "### Student declaration\n",
    "\n",
    "student_name = ''            \n",
    "student_number = ''          \n",
    "\n",
    "print('''By attempting this exam, I, %s, have read and understand the examination conduct requirements for this exam, \n",
    "and I understand that submitting another’s work as my own can result in grade zero for this assignment. \n",
    "'''%student_name)"
   ]
  },
  {
   "cell_type": "markdown",
   "metadata": {},
   "source": [
    "### 1. (10 points)\n",
    "**Get the highest, lowest number and calculate the sum of the numbers in trapList.txt file.**"
   ]
  },
  {
   "cell_type": "code",
   "execution_count": null,
   "metadata": {},
   "outputs": [],
   "source": []
  },
  {
   "cell_type": "markdown",
   "metadata": {},
   "source": [
    "### 2. (10 points)\n",
    "\n",
    "**Extract the tweets from the `trump_tweets.txt` file and replace the emojis using the `emoji` dictionary and the library `re`. The final result should be as shown below:**\n",
    "\n",
    "```\n",
    "Embrace the gold standard year-round. Shop @TrumpStore’s St. Patrick's Day Collection with 17% savings now through tomorrow at midnight! Shamrock.\n",
    "Transporting ourselves to @TrumpGolfLA this wintery weekend, where vivid Pacific Ocean sunsets take place daily. Experience the magic yourself, book a tee time at  Flag in hole️.\n",
    "This Christmas Eve, we’re featuring @TrumpNewYork’s longtime Bellman, Jesus, who is known for entertaining hotel guests with his delightful voice. Enjoy him singing a classic! Sparkles.\n",
    "We’ve once again reached the time of year to witness our favorite and most stunning scene: Autumn in Central Park. Maple leaf.\n",
    "There’s more to @TrumpJupiter than meets the eye. This Audubon Certified Sanctuary is home to four on-course beehives with 200,000 to 250,000 honey bees that have produced 785 pounds of naturally-derived honey to date. Honey pot.\n",
    "```"
   ]
  },
  {
   "cell_type": "code",
   "execution_count": null,
   "metadata": {},
   "outputs": [],
   "source": [
    "import re\n",
    "\n",
    "emoji = {'☘️': ' Shamrock','⛳': ' Flag in hole','✨': ' Sparkles','🍁': ' Maple leaf','🍯': ' Honey pot'}\n",
    "\n",
    "fhand = open('trump_tweets.txt', encoding=\"utf-8\")\n",
    "fread = fhand.read()\n"
   ]
  },
  {
   "cell_type": "markdown",
   "metadata": {},
   "source": [
    "### 3. (10 points)\n",
    "\n",
    "**Create a json file called `teachers.json` that will contain a dictionary where the keys will be the names of the following teachers:**\n",
    "```\n",
    "['corrie-heringa', 'marcel-casarini', 'susanne-tabata', 'angel-torrella']\n",
    "```\n",
    "**and the values will be the description of each one of them. You will extract the descriptions of the teachers scraping the urls:**\n",
    "- https://www.lasallecollegevancouver.com/about-us/our-professors/corrie-heringa \n",
    "- https://www.lasallecollegevancouver.com/about-us/our-professors/marcel-casarini \n",
    "- https://www.lasallecollegevancouver.com/about-us/our-professors/susanne-tabata \n",
    "- https://www.lasallecollegevancouver.com/about-us/our-professors/angel-torrella "
   ]
  },
  {
   "cell_type": "code",
   "execution_count": null,
   "metadata": {},
   "outputs": [],
   "source": []
  },
  {
   "cell_type": "code",
   "execution_count": null,
   "metadata": {},
   "outputs": [],
   "source": []
  },
  {
   "cell_type": "markdown",
   "metadata": {},
   "source": [
    "### 4. (5 points)\n",
    "\n",
    "**`Open` and `load` the JSON file called `students_cities.json` to get a dictionary where keys are student names and values are lists of 30 cities. Also, `assign` the dictionary to a variable called `dic`. Finally using your name print your 30 cities.**"
   ]
  },
  {
   "cell_type": "code",
   "execution_count": null,
   "metadata": {},
   "outputs": [],
   "source": []
  },
  {
   "cell_type": "markdown",
   "metadata": {},
   "source": [
    "### 5. (10 points)\n",
    "\n",
    "**Use the `daily_14.json` file to obtain the coordinate: longitude and latitude of your cities (`dic['your_name']`) and thus create a dictionary where the `keys` are the names of the cities and the `values` are the coordinates of the cities.**"
   ]
  },
  {
   "cell_type": "code",
   "execution_count": null,
   "metadata": {},
   "outputs": [],
   "source": [
    "# import json to open and load the data from daily_14.json\n",
    "data = [json.loads(line) for line in open('daily_14.json', encoding=\"utf8\")]  \n"
   ]
  },
  {
   "cell_type": "markdown",
   "metadata": {},
   "source": [
    "Considering you have your **30 coordinates in hand**, use them to get [Current Weather Data](https://openweathermap.org/current) from the OpenWeather API .\n",
    "\n",
    "### 6. (15 points)\n",
    "\n",
    "**Use your `30 coordinates` and `API key` to get data from OpenWeather One Call API.** Hint: see the notebook `W8_class_activity_JSON` as reference and use the following `serviceurl` and `parms`:\n",
    "\n",
    "```python\n",
    "serviceurl = 'https://api.openweathermap.org/data/2.5/weather?'\n",
    "parms = 'lat=%g&lon=%g&units=metric&appid=%s' %(coord['lat'], coord['lon'], API_KEY) #Parameters\n",
    "```    "
   ]
  },
  {
   "cell_type": "code",
   "execution_count": null,
   "metadata": {},
   "outputs": [],
   "source": []
  },
  {
   "cell_type": "code",
   "execution_count": null,
   "metadata": {},
   "outputs": [],
   "source": [
    "print(len(cwdList))\n",
    "cwdList[0]"
   ]
  },
  {
   "cell_type": "markdown",
   "metadata": {},
   "source": [
    "### 7. (20 points)\n",
    "\n",
    "**Create a database, `your_name.sqlite`, containing the tables:**\n",
    "\n",
    "- `Table:` Country, `columns:` id, name; \n",
    "- `Table:` City, `columns:` id, country_id, name, longitude, latitude; \n",
    "- `Table:` Temperature, `columns:` city_id, temp, feels_like, temp_min, temp_max;\n",
    "- `Table:` Weather, `columns:` city_id, main, description.\n",
    "\n",
    "**Fill your tables with the items of the list, `cwdList`, created by the API calls.**\n",
    "\n",
    "<img src=\"images/tables.png\" style=\"width:900px;height:500px;\">"
   ]
  },
  {
   "cell_type": "code",
   "execution_count": null,
   "metadata": {},
   "outputs": [],
   "source": []
  },
  {
   "cell_type": "markdown",
   "metadata": {},
   "source": [
    "### 8. (5 points )\n",
    "\n",
    "**Using SQL commands, select `Country.name`, `City.name`, `Temperature.temp_max` and `Weather.description` columns from `Country JOIN City JOIN Temperature JOIN Weather` table `WHERE Weather.main = 'Clear'`. The output should look like:**\n",
    "\n",
    "\n",
    "```\n",
    "('IR', 'Bojnourd', 2.0, 'clear sky')\n",
    ".\n",
    ".\n",
    ".\n",
    "('VN', 'Yen Vinh', 21.33, 'clear sky')\n",
    "\n",
    "```"
   ]
  },
  {
   "cell_type": "code",
   "execution_count": null,
   "metadata": {},
   "outputs": [],
   "source": [
    "import sqlite3\n",
    "\n",
    "conn = sqlite3.connect('your_name.sqlite') \n",
    "cur = conn.cursor()\n",
    "\n",
    "cur.execute('''SELECT  Country.name, City.name, Temperature.temp_max, Weather.description  \n",
    "               FROM Country JOIN City JOIN Temperature JOIN Weather \n",
    "               ON  City.country_id = Country.id AND Temperature.city_id = City.id AND Weather.city_id = City.id \n",
    "               WHERE Weather.main = 'Clear' ''')\n",
    "\n",
    "for row in cur:\n",
    "    print(row)\n",
    "\n",
    "cur.close()"
   ]
  },
  {
   "cell_type": "markdown",
   "metadata": {},
   "source": [
    "### 9. (5 points)\n",
    "\n",
    "**Export the tables as `csv` files and save them in the folder named csv. Then, Import the pandas library as `pd` and use the `.read_csv` method to create the dataframes below.**\n",
    "\n",
    "<img src=\"images/export.png\" style=\"width:450px;height:200px;\">"
   ]
  },
  {
   "cell_type": "code",
   "execution_count": null,
   "metadata": {},
   "outputs": [],
   "source": [
    "import pandas as pd\n",
    "\n",
    "df_country = \n",
    "df_city = \n",
    "df_temp = \n",
    "df_weather = "
   ]
  },
  {
   "cell_type": "markdown",
   "metadata": {},
   "source": [
    "### 10. (10 points)\n",
    "\n",
    "**Merge `df_city` with `df_temp` using the columns `id` from `df_city` an` city_id` from `df_temp`. Use the image below as a reference**\n",
    "\n",
    "<img src=\"images/mergeDF.png\" style=\"width:475px;height:225px;\">\n",
    "\n",
    "See: [Join And Merge Pandas Dataframe](https://pandas.pydata.org/docs/user_guide/merging.html)."
   ]
  },
  {
   "cell_type": "code",
   "execution_count": null,
   "metadata": {},
   "outputs": [],
   "source": [
    "df = \n",
    "df"
   ]
  },
  {
   "cell_type": "markdown",
   "metadata": {},
   "source": [
    "**Finally, you can view your data; city coordinates and temperature on a world map.`(Just run the cell)`**"
   ]
  },
  {
   "cell_type": "code",
   "execution_count": null,
   "metadata": {},
   "outputs": [],
   "source": [
    "import matplotlib.image as mpimg\n",
    "import numpy as np\n",
    "import matplotlib.pyplot as plt\n",
    "import seaborn as sns\n",
    "%matplotlib inline\n",
    "\n",
    "world_img = mpimg.imread('./images/world.png')\n",
    "ax = df.plot(kind=\"scatter\", x=\"longitude\", y=\"latitude\", figsize=(18,8),\n",
    "                       c=\"temp_max\", s=100, cmap=plt.get_cmap(\"jet\"),\n",
    "                       colorbar=True, alpha=0.8,\n",
    "                      )\n",
    "\n",
    "plt.imshow(world_img, extent=[-180.00, 180.00, -90.00, 90.00])\n",
    "\n",
    "\n",
    "sns.scatterplot(data=df, hue='name', x='longitude', y='latitude', palette=\"tab10\")\n",
    "\n",
    "plt.ylabel(\"Latitude\", fontsize=17)\n",
    "plt.xlabel(\"Longitude\", fontsize=17)\n",
    "plt.show()"
   ]
  },
  {
   "cell_type": "code",
   "execution_count": null,
   "metadata": {},
   "outputs": [],
   "source": []
  }
 ],
 "metadata": {
  "kernelspec": {
   "display_name": "Python 3",
   "language": "python",
   "name": "python3"
  },
  "language_info": {
   "codemirror_mode": {
    "name": "ipython",
    "version": 3
   },
   "file_extension": ".py",
   "mimetype": "text/x-python",
   "name": "python",
   "nbconvert_exporter": "python",
   "pygments_lexer": "ipython3",
   "version": "3.7.9"
  }
 },
 "nbformat": 4,
 "nbformat_minor": 4
}
