{
 "cells": [
  {
   "cell_type": "markdown",
   "metadata": {},
   "source": [
    "<img src=\"images/lasalle_logo.png\" style=\"width:375px;height:110px;\">\n",
    "<p style=  \"text-align: right; color: blue;\"> WIM250 - Summer 2025</p>\n",
    "\n",
    "# <center>WIM250 - Introduction to Scripting Languages</center>\n",
    "<center>Instructor: Ivaldo Tributino</center>\n",
    "\n",
    "## Mid-Term Exam\n",
    "\n",
    "### Exam instruction\n",
    "- The exam must be submitted by __Aug 8, 2025__ at __8:00 am__.\n",
    "- Each question presents its own score, the sum of all scores is **100**.\n",
    "- The output of the functions should be as requested.\n",
    "- **Rename** this Notebook to your name.\n",
    "- You must submit this **Notebook(.ipynb)** and the file __midTerm.py__. \n",
    "\n",
    "### Examination Conduct\n",
    "\n",
    "- You are not permitted to obtain assistance by improper means or ask for help from or give help to any other group. \n",
    "- You are not permitted to take screenshots, record the screen, copy and paste questions or answers or otherwise attempt to take any of the content of this exam out of the exam for any purpose. "
   ]
  },
  {
   "cell_type": "code",
   "execution_count": null,
   "metadata": {},
   "outputs": [],
   "source": [
    "### Student declaration\n",
    "\n",
    "student_name =          # Don't forget to assign your name      \n",
    "student_number =        # Don't forget to assign your student number  \n",
    "\n",
    "print('''By attempting this exam, I, %s, have read and understand the examination conduct requirements for this exam, \n",
    "and I understand that submitting another’s work as my own can result in grade zero for this assignment. \n",
    "'''%student_name)"
   ]
  },
  {
   "cell_type": "markdown",
   "metadata": {},
   "source": [
    "### (10 Points) \n",
    "**1. a) Import the `movies list` from the `midTerm.py` file. From this list, randomly select 4 unique movies to create a new list named `movies_long_weekend`. Ensure there are no duplicate movies in `movies_long_weekend`.**\n",
    "\n",
    "**Finally, use a for loop to print the elements of both the movies list and the movies_long_weekend list in a tabular format, as demonstrated in the example below:** \n",
    "```\n",
    "--------Movies-------\n",
    "Friday.........The hobbit\n",
    "Saturday.......Meet John Doe\n",
    "Sunday.........Seabiscuit\n",
    "Monday.........Gone with the Wind\n",
    "```"
   ]
  },
  {
   "cell_type": "code",
   "execution_count": null,
   "metadata": {},
   "outputs": [],
   "source": [
    "# Import random Module\n",
    "\n",
    "# Import movies list from midTerm\n",
    "\n",
    "\n",
    "long_weekend = ['Friday', 'Saturday', 'Sunday','Monday']\n",
    "\n",
    "# Use a random method to select 4 movies without duplicates.\n",
    "\n",
    "\n",
    "print('Movies'.center(21, '-'))\n",
    "# for loop\n"
   ]
  },
  {
   "cell_type": "markdown",
   "metadata": {},
   "source": [
    "### (5 Points) \n",
    "**1. b) Using a for loop, iterate through the `movies_long_weekend` list and the list of weekdays simultaneously. For each movie and its corresponding day, use the `print()` function and the `str.format()` method to display the following sentence:**\n",
    "\n",
    "```python\n",
    "I was invited to see ______ movie on ______\n",
    "```\n",
    "\n",
    "__Your output should match the format below:__\n",
    "```\n",
    "I was invited to see The hobbit movie on Friday\n",
    "I was invited to see Meet John Doe movie on Saturday\n",
    "I was invited to see Seabiscuit movie on Sunday\n",
    "I was invited to see Gone with the Wind movie on Monday\n",
    "```\n"
   ]
  },
  {
   "cell_type": "code",
   "execution_count": null,
   "metadata": {},
   "outputs": [],
   "source": []
  },
  {
   "cell_type": "markdown",
   "metadata": {},
   "source": [
    "### (10 Points) \n",
    "**2. Write Python code using string methods to clean and correct this corrupted_string according to the following requirements:** \n",
    "\n",
    "- Character Correction: \n",
    "- Remove External Punctuation: \n",
    "- Maintain Case: Ensure that only the first letter of the entire corrected string is capitalized.\n",
    "\n",
    "__Your final output should be a clean string that looks like this:__\n",
    "```\n",
    "Have patience with all things – but first with yourself. Never confuse your mistakes with your value as a human being. You are perfectly valuable, creative,worthwhile person simply because you exist. And no amount of triumphs or tribulations can ever change that. Attr. St. Francis de Sales.\n",
    "```\n"
   ]
  },
  {
   "cell_type": "code",
   "execution_count": null,
   "metadata": {},
   "outputs": [],
   "source": [
    "original_string = ''' \"have patience with all things – but #irst with yoursel#. \n",
    "Never con#use your mistakes with your value as a human being. You are per#ectly valuable, creative,\n",
    "worthwhile person simply because you exist. And no amount o# triumphs or tribulations can ever \n",
    "change that.\"\n",
    " Attr. St. Francis de Sales.'''\n",
    "\n",
    "\n"
   ]
  },
  {
   "cell_type": "markdown",
   "metadata": {},
   "source": [
    "### (10 Points) \n",
    "**3 Create a program to calculate the sum of the numeric characters in the list below.**\n",
    "\n",
    "```python\n",
    "[23.5, '3.6', \"Lasalle\", 35.8, \"college\", '12', 4 , 7, 10, 345, \"Vancouver\", 8, 56.8, '10']\n",
    "```"
   ]
  },
  {
   "cell_type": "code",
   "execution_count": null,
   "metadata": {},
   "outputs": [],
   "source": [
    "\n",
    " "
   ]
  },
  {
   "cell_type": "markdown",
   "metadata": {},
   "source": [
    "### (15 Points) \n",
    "**4 Get the `highest number`, `lowest number`, and `calculate the sum of the numbers` in the list from myList.txt file (Hint: Use `find(',')`).**"
   ]
  },
  {
   "cell_type": "code",
   "execution_count": null,
   "metadata": {},
   "outputs": [],
   "source": [
    "with open(\"myList.txt\", \"r\") as file:\n",
    "    data = file.read().split()  \n",
    "    \n",
    "# write your code here    \n",
    "\n",
    "\n",
    "#\n",
    "print(\"min: %g, max: %g and sum: %g\" %(min(data), max(data), sum(data)))   "
   ]
  },
  {
   "cell_type": "markdown",
   "metadata": {},
   "source": [
    "### (20 Points) \n",
    "**5. Implement the function `student_full_name` in the `midTerm.py` file, which takes the student's number as an argument and retrieves the corresponding student's name from the string `students` in `midTerm.py`.**\n",
    "\n",
    "```python\n",
    "def student_full_name(id):\n",
    "    .\n",
    "    .\n",
    "    .\n",
    "    \n",
    "    return st_name\n",
    "```\n",
    "\n",
    "**Example:**\n",
    "```python\n",
    "from midTerm import student_full_name\n",
    "student_full_name(2312570)\n",
    "```\n",
    "out:\\\n",
    "Junggee, Nazeem Mohammad Fadir"
   ]
  },
  {
   "cell_type": "code",
   "execution_count": null,
   "metadata": {},
   "outputs": [],
   "source": [
    "# Do not delete or modify this cell\n",
    "from midTerm import student_full_name\n",
    "name = student_full_name(student_number) # See you you have defined the variable student_number\n",
    "print(name)"
   ]
  },
  {
   "cell_type": "markdown",
   "metadata": {},
   "source": [
    "### (20 points) \n",
    "**6. Let's open, read, and print the data in the file `students.txt` in the following cell.**"
   ]
  },
  {
   "cell_type": "code",
   "execution_count": null,
   "metadata": {},
   "outputs": [],
   "source": [
    "# Do not delete or modify this cell\n",
    "fhand = open('students.txt')\n",
    "fread = fhand.read() # fread is a long string, remember that\n",
    "print(fread)"
   ]
  },
  {
   "cell_type": "markdown",
   "metadata": {},
   "source": [
    "**Then using methods such as:**\n",
    "\n",
    "- `find()`\n",
    "- `upper()`\n",
    "- `lstrip()`\n",
    "- `center()`\n",
    "- `split()`\n",
    "- `strip()`\n",
    "\n",
    "**and string `slicing` to obtain the effect:**\n",
    "\n",
    "```\n",
    "****** WIM250 : INTRODUCTION TO SCRIPTING LANGUAGES ******\n",
    "\n",
    "\n",
    "                         STUDENTS                         \n",
    "(2342915) - Curi Pachas, Sofia Belinda \n",
    "(2342514) - Leon Macias, Ava Sofia \n",
    "(2322596) - Mora Silva, Valeria \n",
    "(2342768) - Nguyen, Quoc Anh \n",
    "(2343003) - Serrano Fragoso, Anais \n",
    "```"
   ]
  },
  {
   "cell_type": "code",
   "execution_count": null,
   "metadata": {},
   "outputs": [],
   "source": []
  },
  {
   "cell_type": "markdown",
   "metadata": {},
   "source": [
    "### (10 points) \n",
    "**7. Creating a Centered Pyramid Pattern**\n",
    "\n",
    "Write a Python function that generates a centered pyramid pattern using asterisks.\n",
    "\n",
    "**Function Specification:**\n",
    "\n",
    "*   Create a function named `pyramid`.\n",
    "*   It should accept one argument, `n`, which represents the number of rows in the pyramid.\n",
    "*   The `n` argument must have a **default value of `5`**. This means the function should work correctly even if called without any arguments (e.g., `pyramid()`).\n",
    "\n",
    "**Output Requirements:**\n",
    "\n",
    "*   The pyramid should be composed of asterisks (`*`).\n",
    "*   Each asterisk within a row must be separated by a **single space** (e.g., `* * *`).\n",
    "*   The pyramid must be **perfectly centered** in the output.\n",
    "*   The number of asterisks in each row should follow the pattern: 1, 3, 5, 7, and so on.\n",
    "\n",
    "**Examples:**\n",
    "\n",
    "Your function's output should match the following examples precisely:\n",
    "\n",
    "```python\n",
    "pyramid()\n",
    "```\n",
    "                  * \n",
    "                * * * \n",
    "              * * * * * \n",
    "            * * * * * * * \n",
    "          * * * * * * * * * \n",
    "  \n",
    "\n",
    "```python\n",
    "pyramid(8)\n",
    "```\n",
    "                  * \n",
    "                * * * \n",
    "              * * * * * \n",
    "            * * * * * * * \n",
    "          * * * * * * * * * \n",
    "        * * * * * * * * * * * \n",
    "      * * * * * * * * * * * * * \n",
    "    * * * * * * * * * * * * * * * \n"
   ]
  },
  {
   "cell_type": "code",
   "execution_count": null,
   "metadata": {},
   "outputs": [],
   "source": []
  },
  {
   "cell_type": "code",
   "execution_count": null,
   "metadata": {},
   "outputs": [],
   "source": [
    "full_pyramid(10)"
   ]
  },
  {
   "cell_type": "code",
   "execution_count": null,
   "metadata": {},
   "outputs": [],
   "source": []
  }
 ],
 "metadata": {
  "kernelspec": {
   "display_name": "anaconda-2022.05-py39",
   "language": "python",
   "name": "conda-env-anaconda-2022.05-py39-py"
  },
  "language_info": {
   "codemirror_mode": {
    "name": "ipython",
    "version": 3
   },
   "file_extension": ".py",
   "mimetype": "text/x-python",
   "name": "python",
   "nbconvert_exporter": "python",
   "pygments_lexer": "ipython3",
   "version": "3.9.12"
  }
 },
 "nbformat": 4,
 "nbformat_minor": 4
}
