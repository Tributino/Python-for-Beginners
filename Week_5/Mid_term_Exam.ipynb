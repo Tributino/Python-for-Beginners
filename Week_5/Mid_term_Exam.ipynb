{
 "cells": [
  {
   "cell_type": "markdown",
   "metadata": {},
   "source": [
    "<img src=\"images/lasalle_logo.png\" style=\"width:375px;height:110px;\">\n",
    "\n",
    "# <center>WIM250 / WDIM150 - Introduction to Scripting Languages</center>\n",
    "<center>Instructor: Ivaldo Tributino</center>\n",
    "\n",
    "## Mid-Term Exam\n",
    "\n",
    "### Exam instruction\n",
    "- The exam must be submitted by **12:30 pm** on **May 3**, 2022.\n",
    "- Each question presents its own score, the sum of all scores is **100**.\n",
    "- The output of the functions should be as requested.\n",
    "- **Rename** this Notebook to your name.\n",
    "- You must submit only this **Notebook(.ipynb)** with your solutions. \n",
    "\n",
    "### Examination Conduct\n",
    "\n",
    "- You are not permitted to obtain assistance by improper means or ask for help from or give help to any other group. \n",
    "- You are not permitted to take screenshots, record the screen, copy and paste questions or answers or otherwise attempt to take any of the content of this exam out of the exam for any purpose. "
   ]
  },
  {
   "cell_type": "code",
   "execution_count": null,
   "metadata": {},
   "outputs": [],
   "source": [
    "### Student declaration\n",
    "\n",
    "student_name = ''            \n",
    "student_number = ''          \n",
    "\n",
    "print('''By attempting this exam, I, %s, have read and understand the examination conduct requirements for this exam, \n",
    "and I understand that submitting another’s work as my own can result in grade zero for this assignment. \n",
    "'''%student_name)"
   ]
  },
  {
   "cell_type": "markdown",
   "metadata": {},
   "source": [
    "### (15 Points) \n",
    "**1 Use string methods to modify the sentence below:**\n",
    "```python\n",
    "Ph2_3 = \"do-nothing-out-of-selfish-ambition-or-vain-conceit.-Rather,-in-humility-value-others-above-yourselves,-not-looking-to-your-own-interests-but-each-of-you-to-the-interests-of-the-others.\"\n",
    "```\n",
    "**to get the following result:**\n",
    "```\n",
    "Do nothing out of selfish ambition or vain conceit. rather, in humility value others above yourselves, not looking to your own interests but each of you to the interests of the others.\n",
    "```"
   ]
  },
  {
   "cell_type": "code",
   "execution_count": null,
   "metadata": {},
   "outputs": [],
   "source": []
  },
  {
   "cell_type": "markdown",
   "metadata": {},
   "source": [
    "### (15 Points) \n",
    "**2 Create a program to calculate the sum of the numbers in the list below.**\n",
    "\n",
    "```python\n",
    "[23.5, \"Lasalle\", 35.8, \"college\", 4 , 7, 10, 345, \"Vancouver\", 8, 56.8]\n",
    "```"
   ]
  },
  {
   "cell_type": "code",
   "execution_count": null,
   "metadata": {},
   "outputs": [],
   "source": [
    "   "
   ]
  },
  {
   "cell_type": "markdown",
   "metadata": {},
   "source": [
    "### (20 Points) \n",
    "**3 Get the `highest`, `lowest`, and `calculate the sum of the numbers` in the list from myList.txt file (Hint: Use `find(',')`).**"
   ]
  },
  {
   "cell_type": "code",
   "execution_count": null,
   "metadata": {},
   "outputs": [],
   "source": [
    "       "
   ]
  },
  {
   "cell_type": "markdown",
   "metadata": {},
   "source": [
    "### (25 Points) \n",
    "**4. Table Printer\n",
    "Write a function named `printTable()` that takes a list of lists of strings and displays it in a well-organized table with each column right-justified. Assume that all the inner lists will contain the same number of strings. For example, the value could look like this:**\n",
    "\n",
    "```python\n",
    "\n",
    "tableData = [['apples', 'oranges', 'cherries', 'banana'],\n",
    "             ['Alice', 'Bob', 'carol', 'David'],\n",
    "             ['dogs', 'cats', 'moose', 'goose']]\n",
    "```\n",
    "\n",
    "Your `printTable()` function would print the following:\n",
    "\n",
    "```\n",
    "**apples Alice *dogs \t\n",
    "*oranges **Bob *cats \t\n",
    "cherries Carol moose \t\n",
    "**banana David goose\n",
    "```"
   ]
  },
  {
   "cell_type": "code",
   "execution_count": null,
   "metadata": {},
   "outputs": [],
   "source": []
  },
  {
   "cell_type": "code",
   "execution_count": null,
   "metadata": {},
   "outputs": [],
   "source": []
  },
  {
   "cell_type": "code",
   "execution_count": null,
   "metadata": {},
   "outputs": [],
   "source": []
  },
  {
   "cell_type": "markdown",
   "metadata": {},
   "source": [
    "### (25 points) \n",
    "**5. Let's open, read and print the file named `students.txt` in the following cell.**"
   ]
  },
  {
   "cell_type": "code",
   "execution_count": null,
   "metadata": {},
   "outputs": [],
   "source": []
  },
  {
   "cell_type": "markdown",
   "metadata": {},
   "source": [
    "**Then using methods such as:**\n",
    "\n",
    "- `find()`\n",
    "- `upper()`\n",
    "- `lstrip()`\n",
    "- `center()`\n",
    "- `split()`\n",
    "- `strip()`\n",
    "\n",
    "**and string `slicing` to obtain the effect:**\n",
    "\n",
    "```\n",
    "****** WDIM150/WIM250 : INTRODUCTION TO SCRIPTING LANGUAGES ******\n",
    "\n",
    "\n",
    "                             STUDENTS                             \n",
    "(1930027) - ST. JOSEPH \n",
    "(1940074) - ST. THÉRÈSE OF LISIEUX \n",
    "(1940163) - ST. FRANCIS OF ASSISI \n",
    "(1934815) - ST. JOAN OF ARC \n",
    "(2012543) - ST. AUGUSTINE OF HIPPO \n",
    "(2032572) - ST. TERESA OF AVILA \n",
    "(1840487) - ST. MARTIN DE PORRES \n",
    "(2010074) - ST. CATHERINE OF SIENA \n",
    "(1930025) - ST. MICHAEL THE ARCHANGEL \n",
    "(2012645) - BLESSED MOTHER MARY  \n",
    "```"
   ]
  },
  {
   "cell_type": "code",
   "execution_count": null,
   "metadata": {},
   "outputs": [],
   "source": []
  },
  {
   "cell_type": "code",
   "execution_count": null,
   "metadata": {},
   "outputs": [],
   "source": []
  }
 ],
 "metadata": {
  "kernelspec": {
   "display_name": "Python 3",
   "language": "python",
   "name": "python3"
  },
  "language_info": {
   "codemirror_mode": {
    "name": "ipython",
    "version": 3
   },
   "file_extension": ".py",
   "mimetype": "text/x-python",
   "name": "python",
   "nbconvert_exporter": "python",
   "pygments_lexer": "ipython3",
   "version": "3.7.9"
  }
 },
 "nbformat": 4,
 "nbformat_minor": 4
}
