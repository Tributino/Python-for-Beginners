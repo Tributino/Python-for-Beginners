{
 "cells": [
  {
   "cell_type": "markdown",
   "metadata": {},
   "source": [
    "<img src=\"images/lasalle_logo.png\" style=\"width:375px;height:110px;\"/>"
   ]
  },
  {
   "cell_type": "markdown",
   "metadata": {},
   "source": [
    "# Week 8 - JSON and APIs\n",
    "\n",
    "### WIM250 - Introduction to Scripting Languages \n",
    "### Instructor: Ivaldo Tributino\n",
    "\n",
    "Sources:\n",
    "    \n",
    "- Automate The Boring Stuff With Python by AL Sweigart.\n",
    "- Python for Everybody Exploring Data Using Python 3 by Dr. Charles R. Severance.\n",
    "- https://en.wikipedia.org/"
   ]
  },
  {
   "cell_type": "markdown",
   "metadata": {},
   "source": [
    "## 1. Introduction\n",
    "\n",
    "`JSON` (pronounced “JAY-sawn” or “Jason”—it doesn’t matter how because either way people will say you’re pronouncing it wrong) is a format that stores information as JavaScript source code in plaintext files. (JSON is short for `JavaScript Object Notation`.) You don’t need to know the JavaScript programming language to use JSON files, but the JSON format is useful to know because it’s used in many web applications.\n",
    "\n",
    "An `application programming interface (API)`, is a `computing interface` that defines interactions between multiple software intermediaries. Watch the [video](https://www.youtube.com/watch?v=s7wmiS2mSXY) for a simple and clear explanation of the API.\n",
    "\n",
    "## 2. JSON \n",
    "\n",
    "The `JSON` format was inspired by the object and array format used in the JavaScript language. But since Python was invented before JavaScript, Python’s syntax for dictionaries and lists influenced the syntax of JSON. `So the format of JSON is nearly identical to a combination of Python lists and dictionaries`.\n",
    "\n",
    "Here’s an example of data formatted as JSON:\n",
    "```\n",
    "exampleJson = ''' [\n",
    "  { \"id\" : \"001\",\n",
    "    \"age\" : \"21\",\n",
    "    \"name\" : \"John\"\n",
    "},\n",
    "{ \"id\" : \"009\",\n",
    "\"age\" : \"26\",\n",
    "    \"name\" : \"Sarah\"\n",
    "  }\n",
    "]'''*\n",
    " ```\n",
    "Since nearly all programming languages have something equivalent to Python’s dictionaries and lists, JSON is a very natural format to have two cooperating programs `exchange data`. \n",
    "\n",
    "\\* Triple quotes are for dealing with multi-line strings.\n"
   ]
  },
  {
   "cell_type": "markdown",
   "metadata": {},
   "source": [
    "### 2.1 Application Programming Interfaces\n",
    "\n",
    "`JSON` is useful to know, because many websites offer `JSON` content as a way for programs to interact with the website. This is known as providing an `application programming interface (API)`. Accessing an `API` is the same as accessing any other web page via a URL. The difference is that the data returned by an `API` is formatted (with JSON, for example) for machines.\n",
    "\n",
    "<img src=\"images/api.png\" style=\"width:600px;height:200px;\">\n",
    "\n",
    "An API is not a database. It is an `access point` to an app that can access a database. [Source]('https://medium.com/@perrysetgo/what-exactly-is-an-api-69f36968a41f')\n",
    "\n",
    "\n",
    "Many websites make their data available in JSON format. Facebook, Twitter, Yahoo, Google, Wikipedia, Data.gov, LinkedIn, and many other popular sites offer APIs for programs to use. Some of these sites require registration, which is almost always free. You’ll have to find documentation for what URLs your program needs to request in order to get the data you want, as well as the general format of the JSON data structures that are returned. This documentation should be provided by whatever site is offering the API; if they have a “Developers” page, look for the documentation there.\n",
    "\n",
    "JSON isn’t the only way to format data into a human-readable string. There are many others, example: XML (eXtensible Markup Language). This course won’t cover these, because JSON has quickly become the most widely used alternate format, but there are third-party Python modules that readily handle them."
   ]
  },
  {
   "cell_type": "markdown",
   "metadata": {},
   "source": [
    "### 2.2 THE JSON MODULE\n",
    "\n",
    "Python’s json module handles all the details of translating between a `string` with `JSON` data and Python values for the `json.loads()` and `json.dumps()` functions. \n",
    "\n",
    "JSON can’t store every kind of Python value. It can contain values of only the following data types: strings, integers, floats, Booleans, lists, dictionaries, and NoneType. JSON cannot represent Python-specific objects, such as File objects, CSV reader or writer objects, Regex objects, or Selenium WebElement objects.\n",
    "\n",
    "#### Reading JSON with the `loads()` Function\n",
    "To translate a string containing JSON data into a Python value, pass it to the `json.loads()` function (The name means “load string,” not “loads.”). "
   ]
  },
  {
   "cell_type": "code",
   "execution_count": null,
   "metadata": {},
   "outputs": [],
   "source": [
    "import json"
   ]
  },
  {
   "cell_type": "code",
   "execution_count": null,
   "metadata": {},
   "outputs": [],
   "source": [
    "exampleJson = ''' [\n",
    "  { \"id\" : \"001\",\n",
    "    \"age\" : \"21\",\n",
    "    \"name\" : \"John\"\n",
    "},\n",
    "{ \"id\" : \"009\",\n",
    "\"age\" : \"26\",\n",
    "    \"name\" : \"Sarah\"\n",
    "  }\n",
    "]'''\n",
    "type(exampleJson)\n",
    "info = json.loads(exampleJson)\n",
    "print(info)\n",
    "type(info)"
   ]
  },
  {
   "cell_type": "markdown",
   "metadata": {},
   "source": [
    "Now that we have a list, we can iterate over it to extract the necessary information."
   ]
  },
  {
   "cell_type": "code",
   "execution_count": null,
   "metadata": {},
   "outputs": [],
   "source": [
    "for item in info:\n",
    "    print('Name: ', item['name'])\n",
    "    print('Age: ', item['age'])\n",
    "    print('ID: ', item['id'])"
   ]
  },
  {
   "cell_type": "markdown",
   "metadata": {},
   "source": [
    "### Writing JSON with the `dumps()` Function\n",
    "The `json.dumps()` function (which means “dump string,” not “dumps”) will translate a Python value into a string of JSON-formatted data. Enter the following into the interactive shell:"
   ]
  },
  {
   "cell_type": "code",
   "execution_count": null,
   "metadata": {},
   "outputs": [],
   "source": [
    "dicValue = {'id': '008', 'age': None, 'name': 'Thomas'}\n",
    "\n",
    "info.append(dicValue)\n",
    "print(info)\n",
    "\n",
    "for dic in info:\n",
    "    dic['Location'] = {'Country': None , 'City': None}\n",
    "    \n",
    "print(\"\\nAdded the Feature Location:\\n\")    \n",
    "    \n",
    "print(info)    \n",
    "\n"
   ]
  },
  {
   "cell_type": "code",
   "execution_count": null,
   "metadata": {},
   "outputs": [],
   "source": [
    "loc = [('Canada', 'Vancouver'),('USA', 'New York'), ('USA', 'San Antonio')]\n",
    "\n",
    "for idx,(country,city) in enumerate(loc): # method adds counter to an iterable and returns it.\n",
    "    info[idx]['Location']['Country'] = country\n",
    "    info[idx]['Location']['City'] = city\n",
    "    \n",
    "# If sort_keys is true (default: False), then the output of dictionaries will be sorted by key.\n",
    "exampleJson = json.dumps(info)\n",
    "exampleJson\n",
    "\n",
    "# Note the quotation marks"
   ]
  },
  {
   "cell_type": "code",
   "execution_count": null,
   "metadata": {},
   "outputs": [],
   "source": [
    "print(json.dumps(info, indent = 4, sort_keys=True)) \n",
    "# If sort_keys is true (default: False), then the output of dictionaries will be sorted by key."
   ]
  },
  {
   "cell_type": "markdown",
   "metadata": {},
   "source": [
    "### Let's load a json file from our hard driver"
   ]
  },
  {
   "cell_type": "code",
   "execution_count": null,
   "metadata": {},
   "outputs": [],
   "source": [
    "# read file\n",
    "with open('history_bulk.json', 'r') as myfile:\n",
    "    data1 = json.load(myfile)   # load can receive the file itself, loads just for string.\n",
    "\n",
    "print(type(myfile))    \n",
    "print(type(data1))\n",
    "print(len(data1))\n",
    "print(data1[0])"
   ]
  },
  {
   "cell_type": "code",
   "execution_count": null,
   "metadata": {},
   "outputs": [],
   "source": [
    "# I would like to know the highest temperature\n",
    "max([data1[x]['main']['temp_max'] for x in range(len(data1))])"
   ]
  },
  {
   "cell_type": "markdown",
   "metadata": {},
   "source": [
    "### Python json value error: extra data: line 2 column 1"
   ]
  },
  {
   "cell_type": "code",
   "execution_count": null,
   "metadata": {},
   "outputs": [],
   "source": [
    "# read file\n",
    "with open('daily_14.json', 'r') as myfile:\n",
    "    data2 = json.load(myfile)   # load can receive the file itself, loads just for string."
   ]
  },
  {
   "cell_type": "markdown",
   "metadata": {},
   "source": [
    "To fix the error above you can loop through it to `loads()` one record at a time into a json variable."
   ]
  },
  {
   "cell_type": "code",
   "execution_count": null,
   "metadata": {},
   "outputs": [],
   "source": [
    "data2 = [json.loads(line) for line in open('daily_14.json', 'r')]\n",
    "# or [json.loads(line) for line in open('daily_14.json', encoding=\"utf8\")]"
   ]
  },
  {
   "cell_type": "code",
   "execution_count": null,
   "metadata": {},
   "outputs": [],
   "source": [
    "print(type(data2))\n",
    "print(len(data2))\n",
    "data2[0]"
   ]
  },
  {
   "cell_type": "code",
   "execution_count": null,
   "metadata": {},
   "outputs": [],
   "source": [
    "data2[0].keys()\n",
    "data2[0]['city']\n",
    "data2[0]['city']['name']\n",
    "[data2[i]['city']['name'] for i in range(len(data2))][:25]"
   ]
  },
  {
   "cell_type": "markdown",
   "metadata": {},
   "source": [
    "### PROJECT: One Call API\n",
    "\n",
    "We will get all your essential weather data for a specific location with our new OpenWeather One Call API.\n",
    "\n",
    "The `One Call API` provides the following weather data for any geographical coordinates:\n",
    "\n",
    "- Current weather\n",
    "- Minute forecast for 1 hour\n",
    "- Hourly forecast for 48 hours\n",
    "- Daily forecast for 7 days\n",
    "- National weather alerts\n",
    "- Historical weather data for the previous 5 days\n",
    "\n",
    "<dl>\n",
    "<dt>Overall, the program does the following:</dt>\n",
    "<dd>&nbsp; &nbsp; 1. Reads the requested location from the command line.</dd>\n",
    "<dd>&nbsp; &nbsp; 2. Downloads JSON weather data from OpenWeatherMap.org.</dd>\n",
    "<dd>&nbsp; &nbsp; 3. Converts the string of JSON data to a Python data structure.</dd>\n",
    "<dd>&nbsp; &nbsp; 4. Prints the weather.</dd>    \n",
    "<dt>So the code will need to do the following:</dt>\n",
    "<dd>&nbsp; &nbsp; 1. Join strings to get the location.</dd>\n",
    "<dd>&nbsp; &nbsp; 2. Call requests.get( ) to download the weather data.</dd>\n",
    "<dd>&nbsp; &nbsp; 3. Call json.loads( ) to convert the JSON data to a Python data structure.</dd>\n",
    "<dd>&nbsp; &nbsp; 4. Print the weather forecast.</dd>    \n",
    "</dl>\n",
    "\n",
    "\n",
    "Visit https://openweathermap.org/api/ in your browser and `sign up` for a free account to obtain an `API key`, also called an app ID, which for the OpenWeatherMap service is a string code that looks something like `'30144aba38018987d84710d0e319281e'`. You don’t need to pay for this service unless you plan on making more than 60 API calls per minute. Keep the API key secret; anyone who knows it can write scripts that use your account’s usage quota.\n",
    "\n",
    "<img src=\"images/openWeather.png\" style=\"width:700px;height:400px;\">\n",
    "\n",
    "Let's create our program as below\n",
    "```python\n",
    "\n",
    "# Get your APP ID\n",
    "APPID = 'YOUR_APPID_HERE'\n",
    "\n",
    "# Import Json and Requests \n",
    "import json, requests\n",
    "\n",
    "# Get the city location by longitude and latitude.\n",
    "\n",
    "# TODO: Download the JSON data from OpenWeatherMap.org's API.\n",
    "\n",
    "# TODO: Load JSON data into a Python variable.\n",
    "```\n",
    "\n",
    "**Example of API response**\n",
    "```\n",
    "{'lat': 49.2739,\n",
    " 'lon': -123.002,\n",
    " 'timezone': 'America/Vancouver',\n",
    " 'timezone_offset': -25200,\n",
    " 'current': {'dt': 1652973430,\n",
    "  'sunrise': 1652963015,\n",
    "  'sunset': 1653018820,\n",
    "  'temp': 9.13,\n",
    "  'feels_like': 5.35,\n",
    "  'pressure': 1019,\n",
    "  'humidity': 77,\n",
    "  'dew_point': 5.32,\n",
    "  'uvi': 0.79,\n",
    "  'clouds': 20,\n",
    "  'visibility': 10000,\n",
    "  'wind_speed': 8.75,\n",
    "  'wind_deg': 270,\n",
    "  'weather': [{'id': 801,\n",
    "    'main': 'Clouds',\n",
    "    'description': 'few clouds',\n",
    "    'icon': '02d'}]},\n",
    " 'minutely': [{'dt': 1652973480, 'precipitation': 0},\n",
    " .\n",
    " .\n",
    " .\n",
    " 'hourly': [{'dt': 1652972400,\n",
    "   'temp': 9.13,\n",
    "   'feels_like': 8.27,\n",
    "   'pressure': 1019,\n",
    "   'humidity': 77,\n",
    "   'dew_point': 5.32,\n",
    "   'uvi': 0.79,\n",
    "   'clouds': 20,\n",
    "   'visibility': 10000,\n",
    "   'wind_speed': 1.9,\n",
    "   'wind_deg': 275,\n",
    "   'wind_gust': 4.17,\n",
    "   'weather': [{'id': 801,\n",
    "     'main': 'Clouds',\n",
    "     'description': 'few clouds',\n",
    "     'icon': '02d'}],\n",
    "   'pop': 0.16},\n",
    "  .\n",
    "  .\n",
    "  .\n",
    "```"
   ]
  },
  {
   "cell_type": "code",
   "execution_count": null,
   "metadata": {},
   "outputs": [],
   "source": [
    "#https://openweathermap.org/api/one-call-api\n",
    "\n",
    "\n",
    "# Get your APP ID\n",
    "APIID = '' \n",
    "\n",
    "# Import Json and Requests\n",
    "import json, requests \n",
    "\n",
    "# Get the city location by longitude and latitude.\n",
    "loc_dic = {'lat': 49.273901, 'lon' : -123.002100}    # Vancouver, BC , Canada\n",
    "# loc_dic = {'lat': -3.764396, 'lon' : -38.537497}     # Fortaleza, CE , BRazil\n",
    "# loc_dic = {'lat': 40.4168, 'lon' : 3.7038}            # Madrid, Spain\n",
    "# loc_dic = {'lat': 62.452233, 'lon' : -114.381772}    # Yellowknife, Northwest Territories, Canada \n",
    "\n",
    "# TODO: Download the JSON data from OpenWeatherMap.org's API.\n",
    "\n",
    "serviceurl = 'https://api.openweathermap.org/data/2.5/onecall?'\n",
    "parms ='lat=%g&lon=%g&units=metric&appid=%s' %(loc_dic['lat'], loc_dic['lon'],APIID) #Parameters\n",
    "url = serviceurl + parms\n",
    "\n",
    "response = requests.get(url)\n",
    "response.raise_for_status()\n",
    "\n",
    "# TODO: Load JSON data into a Python variable.\n",
    "weatherData = json.loads(response.text)\n",
    "weatherData"
   ]
  },
  {
   "cell_type": "code",
   "execution_count": null,
   "metadata": {},
   "outputs": [],
   "source": [
    "from datetime import datetime\n",
    "\n",
    "timezone1 = weatherData['timezone']\n",
    "timezone2 = datetime.fromtimestamp(weatherData['current']['dt']) #SECONDS SINCE JAN 01 1970 TO TIME ZONE\n",
    "\n",
    "print('Current weather in %s: %s' % (timezone1, timezone2))\n",
    "print('Temperature: ', round(weatherData['current']['temp']))\n",
    "print('Humidity: ', weatherData['current']['humidity'])\n",
    "print('Weather : %s' % weatherData['current']['weather'][0]['description'])"
   ]
  },
  {
   "cell_type": "code",
   "execution_count": null,
   "metadata": {},
   "outputs": [],
   "source": []
  },
  {
   "cell_type": "code",
   "execution_count": null,
   "metadata": {},
   "outputs": [],
   "source": []
  }
 ],
 "metadata": {
  "kernelspec": {
   "display_name": "Python 3",
   "language": "python",
   "name": "python3"
  },
  "language_info": {
   "codemirror_mode": {
    "name": "ipython",
    "version": 3
   },
   "file_extension": ".py",
   "mimetype": "text/x-python",
   "name": "python",
   "nbconvert_exporter": "python",
   "pygments_lexer": "ipython3",
   "version": "3.7.9"
  }
 },
 "nbformat": 4,
 "nbformat_minor": 4
}
