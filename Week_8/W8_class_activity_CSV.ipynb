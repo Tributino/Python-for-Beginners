{
 "cells": [
  {
   "cell_type": "markdown",
   "metadata": {},
   "source": [
    "<img src=\"images/lasalle_logo.png\" style=\"width:375px;height:110px;\">"
   ]
  },
  {
   "cell_type": "markdown",
   "metadata": {},
   "source": [
    "# Week 8 - CSV files \n",
    "\n",
    "### WIM250 - Introduction to Scripting Languages \n",
    "### Instructor: Ivaldo Tributino\n",
    "\n",
    "Sources:\n",
    "    \n",
    "- Automate The Boring Stuff With Python by AL Sweigart.\n",
    "- Python for Everybody Exploring Data Using Python 3 by Dr. Charles R. Severance.\n",
    "- Hands-on machine learning with scikit-learn and tensorflow by Géron, Aurélien."
   ]
  },
  {
   "cell_type": "markdown",
   "metadata": {},
   "source": [
    "## The CSV Module\n",
    "\n",
    "A comma-separated values (CSV) file is a delimited text file that uses a comma to separate values. Each line of the file is a data record. Each record consists of one or more fields, separated by commas. The use of the comma as a field separator is the source of the name for this file format. A CSV file typically stores tabular data (numbers and text) in plain text, in which case each line will have the same number of fields.\n",
    "\n",
    "<img src=\"images/csv.png\" style=\"width:500px;height:300px;\">\n",
    "\n",
    "Python’s` csv module` makes it easy to parse CSV files. Also, we can make use of a powerful library called pandas for data manipulation and analysis. In particular, it offers data structures and operations for manipulating numerical tables and time series.\n",
    "\n",
    "Let's take a look at the file named `exaple.csv`. We will import the csv module, open and read the file."
   ]
  },
  {
   "cell_type": "code",
   "execution_count": null,
   "metadata": {},
   "outputs": [],
   "source": [
    "import csv"
   ]
  },
  {
   "cell_type": "code",
   "execution_count": null,
   "metadata": {},
   "outputs": [],
   "source": [
    "exampleFile = open('example.csv')       # TextIOWrapper\n",
    "exampleReader = csv.reader(exampleFile) # csv.reader\n",
    "exampleData = list(exampleReader)\n",
    "exampleData                             # List"
   ]
  },
  {
   "cell_type": "markdown",
   "metadata": {},
   "source": [
    "Now that you have the CSV file as a list of lists, you can access the value at a particular row and column with the expression `exampleData[row][col]`."
   ]
  },
  {
   "cell_type": "code",
   "execution_count": null,
   "metadata": {},
   "outputs": [],
   "source": [
    "exampleData[2][1] == 'Pears' # third row and 2 columns"
   ]
  },
  {
   "cell_type": "markdown",
   "metadata": {},
   "source": [
    "After you import the csv module and make a reader object from the CSV file, you can loop through the rows in the reader object. Each row is a list of values, with each value representing a cell."
   ]
  },
  {
   "cell_type": "code",
   "execution_count": null,
   "metadata": {},
   "outputs": [],
   "source": [
    "exampleFile = open('example.csv')       # TextIOWrapper\n",
    "exampleReader = csv.reader(exampleFile) # csv.reader\n",
    "\n",
    "print(type(exampleReader))\n",
    "\n",
    "for row in exampleReader:\n",
    "        print('Row #' + str(exampleReader.line_num) + ' ' + str(row))"
   ]
  },
  {
   "cell_type": "markdown",
   "metadata": {},
   "source": [
    "### Pandas \n",
    "\n",
    "In computer programming, `pandas` is a software library written for the Python programming language `for data manipulation and analysis`. In particular, it offers data structures and operations for manipulating numerical tables and time series. It is free software released under the three-clause BSD license. The name is derived from the term \"panel data\".\n",
    "\n",
    "<img src=\"images/pandas.png\" style=\"width:300px;height:300px;\">"
   ]
  },
  {
   "cell_type": "code",
   "execution_count": null,
   "metadata": {},
   "outputs": [],
   "source": [
    "import pandas as pd"
   ]
  },
  {
   "cell_type": "code",
   "execution_count": null,
   "metadata": {},
   "outputs": [],
   "source": [
    "df_housing = pd.read_csv('housing.csv') # Data Frame\n",
    "type(df_housing)"
   ]
  },
  {
   "cell_type": "markdown",
   "metadata": {},
   "source": [
    "The `df.head()` This function returns the first `n` rows for the object based on position"
   ]
  },
  {
   "cell_type": "code",
   "execution_count": null,
   "metadata": {},
   "outputs": [],
   "source": [
    "df_housing.head() # default 5"
   ]
  },
  {
   "cell_type": "code",
   "execution_count": null,
   "metadata": {},
   "outputs": [],
   "source": [
    "print(\"Total Row Number: {0} \\nTotal Columns Number: {1}\".format(df_housing.shape[0], df_housing.shape[1]))"
   ]
  },
  {
   "cell_type": "markdown",
   "metadata": {},
   "source": [
    "The `df.info()` method is useful to get a quick description of the data, in particular the total number of rows, and each attribute’s type and number of non-null values"
   ]
  },
  {
   "cell_type": "code",
   "execution_count": null,
   "metadata": {},
   "outputs": [],
   "source": [
    "df_housing.info()"
   ]
  },
  {
   "cell_type": "markdown",
   "metadata": {},
   "source": [
    "The `df.hist()` method on the whole dataset, and it will plot a histogram for each numerical attribute"
   ]
  },
  {
   "cell_type": "code",
   "execution_count": null,
   "metadata": {},
   "outputs": [],
   "source": [
    "# df_housing.hist() # see https://pandas.pydata.org/pandas-docs/stable/reference/api/pandas.DataFrame.hist.html"
   ]
  },
  {
   "cell_type": "code",
   "execution_count": null,
   "metadata": {},
   "outputs": [],
   "source": [
    "# Matplotlib comprehensive library for creating static, animated, and interactive visualizations in Python.\n",
    "import matplotlib.pyplot as plt \n",
    "df_housing.hist(bins=50, figsize=(20,15))\n",
    "plt.show()"
   ]
  },
  {
   "cell_type": "markdown",
   "metadata": {},
   "source": [
    "Let's use the `value_counts()` in one of the columns to get a Series containing counts of unique values. "
   ]
  },
  {
   "cell_type": "code",
   "execution_count": null,
   "metadata": {},
   "outputs": [],
   "source": [
    "# Selecting rows by Boolean indexing\n",
    "mask = df_housing['housing_median_age']>50 # Boolean masks \n",
    "# value_counts() function returns object containing counts of unique values\n",
    "df_housing[mask]['ocean_proximity'].value_counts()"
   ]
  },
  {
   "cell_type": "code",
   "execution_count": null,
   "metadata": {},
   "outputs": [],
   "source": [
    "mask1 = df_housing['median_house_value']>500000\n",
    "mask2 = df_housing['housing_median_age']>50\n",
    "df_housing[(mask1) & (mask2)]['ocean_proximity'].value_counts()"
   ]
  },
  {
   "cell_type": "markdown",
   "metadata": {},
   "source": [
    "Pandas `dataframe.groupby()` function is used to split the data into groups based on some criteria. pandas objects can be split on any of their axes. "
   ]
  },
  {
   "cell_type": "code",
   "execution_count": null,
   "metadata": {
    "scrolled": true
   },
   "outputs": [],
   "source": [
    "df = df_housing.groupby(['ocean_proximity']) # Data Frame\n",
    "df.head()\n",
    "serieGB = df['median_house_value']\n",
    "# # # # list(serieGB)\n",
    "serieGB.median()   # The Median is the \"middle\" of a sorted list of numbers. middle number in a list of numbers\n",
    "# serieGB.median().plot(kind='bar') \n"
   ]
  },
  {
   "cell_type": "code",
   "execution_count": null,
   "metadata": {},
   "outputs": [],
   "source": [
    "# Let's join the above commands in a single line.\n",
    "df_housing.groupby(['ocean_proximity'])['median_house_value'].median().plot(kind='bar')"
   ]
  },
  {
   "cell_type": "markdown",
   "metadata": {},
   "source": [
    "We often evaluate a property by its location. So let's investigate the price of the house by location using `box plot`.\n",
    "A `box plot` shows the distribution of quantitative data in a way that facilitates comparisons between variables or across levels of a categorical variable. The box shows the quartiles of the dataset while the whiskers extend to show the rest of the distribution, except for points that are determined to be “outliers” using a method that is a function of the inter-quartile range.\n",
    "for more information about boxenplot, see: https://towardsdatascience.com/understanding-boxplots-5e2df7bcbd51\n",
    "\n",
    "To draw the `box plot`, we will use `Seaborn`. `Seaborn` is a Python data visualization library based on matplotlib. It provides a high-level interface for drawing attractive and informative statistical graphics.\n",
    "\n",
    "for more information about `Seaborn` see: https://seaborn.pydata.org/"
   ]
  },
  {
   "cell_type": "code",
   "execution_count": null,
   "metadata": {},
   "outputs": [],
   "source": [
    "import seaborn as sns\n",
    "import matplotlib.pyplot as plt \n",
    "# O box-plot \n",
    "plt.subplots(figsize=(12, 5))\n",
    "sns.boxenplot(x ='ocean_proximity', y ='median_house_value', data=df_housing)\n",
    "plt.title('Ocean Proximity vs House Value')\n",
    "plt.show()"
   ]
  },
  {
   "cell_type": "markdown",
   "metadata": {},
   "source": [
    "### Looking for Correlations\n",
    "\n",
    "The correlation coefficient ranges from –1 to 1. When it is close to 1, it means that there is a strong positive correlation; for example, the median house value tends to go up when the median income goes up. When the coefficient is close to –1, it means that there is a strong negative correlation; you can see a small negative correlation between the latitude and the median house value (i.e., prices have a slight tendency to go down when you go north). Finally, coefficients close to zero mean that there is no linear correlation.\n",
    "\n",
    "<img src=\"images/correlation.png\" style=\"width:700px;height:200px;\">"
   ]
  },
  {
   "cell_type": "code",
   "execution_count": null,
   "metadata": {},
   "outputs": [],
   "source": [
    "import matplotlib.pyplot as plt\n",
    "import seaborn as sns\n",
    "import numpy as np \n",
    "\n",
    "corr = df_housing.corr() # df.corr() Compute pairwise correlation of columns, excluding NA/null values.\n",
    "plt.subplots(1,1,figsize=(15,10))\n",
    "# # Generate a mask for the upper triangle\n",
    "mask = np.triu(np.ones_like(corr, dtype=bool))\n",
    "\n",
    "# sns.heatmap() Plot rectangular data as a color-encoded matrix.\n",
    "# sns.heatmap(curr, annot=True,linewidths=1,cmap=\"YlGnBu\")\n",
    "sns.heatmap(corr, annot=True, mask = mask,linewidths=1,cmap=\"YlGnBu\")\n",
    "plt.show()"
   ]
  },
  {
   "cell_type": "markdown",
   "metadata": {},
   "source": [
    "### Feature Engineering\n",
    "\n",
    "`Feature engineering` is the process of using domain knowledge to extract features from raw data via data mining techniques. These features can be used to improve the performance of machine learning algorithms.\n",
    "\n",
    "**Let's divide the data in homogeneous subgroups:**\n",
    "- The following code create an income category attribute by dividing the median income by 1.5 (to limit the number of income categories). \n",
    "- rounding up using ceil (to have discrete categories), and then merging all the categories greater than 5 into category 5.\n",
    "\n",
    "**For this task it will be important to know DataFrame.where, so let's take a look at the syntax.**\n",
    "\n",
    "```\n",
    "Syntax:\n",
    "DataFrame.where(cond, other=nan, inplace=False) \n",
    " \n",
    "Parameters:\n",
    "cond: One or more condition to check data frame for.\n",
    "other: Replace rows which don’t satisfy the condition with user defined object, Default is NaN\n",
    "inplace: Boolean value, Makes changes in data frame itself if True\n",
    "```"
   ]
  },
  {
   "cell_type": "code",
   "execution_count": null,
   "metadata": {},
   "outputs": [],
   "source": [
    "import numpy as np\n",
    "\n",
    "# The ceil of the scalar x is the smallest integer i, such that i >= x.\n",
    "df_housing[\"income_cat\"] = np.ceil(df_housing[\"median_income\"]/1.5)  # the max median_income is 15 so 15/1.5=10 \n",
    "\n",
    "df_housing[\"income_cat\"].where(df_housing[\"income_cat\"] < 5, 5.0, inplace=True) # If income is more than 5 define 5.\n",
    "df_housing.head()"
   ]
  },
  {
   "cell_type": "code",
   "execution_count": null,
   "metadata": {},
   "outputs": [],
   "source": [
    "# How income influences the House median value.\n",
    "df_housing.groupby(['income_cat'])['median_house_value'].mean().plot(kind='bar', figsize=(8,5))\n",
    "plt.title('Income_cat vs House median value')\n",
    "plt.show()"
   ]
  },
  {
   "cell_type": "markdown",
   "metadata": {},
   "source": [
    "### Missing Values in Data\n",
    "\n",
    "It is important to understand the concept of missing values in order to successfully manage data. If the missing values are not handled properly by the researcher, he may end up making an inaccurate inference about the data. \n",
    "\n",
    "<img src=\"images/missing.png\" style=\"width:550px;height:300px;\">"
   ]
  },
  {
   "cell_type": "code",
   "execution_count": null,
   "metadata": {},
   "outputs": [],
   "source": [
    "# Creating a data frame to check the amount of missing values .\n",
    "df_missing = df_housing.isnull().sum(axis=0).reset_index()\n",
    "df_missing"
   ]
  },
  {
   "cell_type": "code",
   "execution_count": null,
   "metadata": {},
   "outputs": [],
   "source": []
  }
 ],
 "metadata": {
  "kernelspec": {
   "display_name": "Python 3",
   "language": "python",
   "name": "python3"
  },
  "language_info": {
   "codemirror_mode": {
    "name": "ipython",
    "version": 3
   },
   "file_extension": ".py",
   "mimetype": "text/x-python",
   "name": "python",
   "nbconvert_exporter": "python",
   "pygments_lexer": "ipython3",
   "version": "3.7.1"
  }
 },
 "nbformat": 4,
 "nbformat_minor": 4
}
