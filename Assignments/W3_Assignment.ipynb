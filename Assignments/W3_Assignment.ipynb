{
 "cells": [
  {
   "cell_type": "markdown",
   "metadata": {},
   "source": [
    "<img src=\"images/lasalle_logo.png\" style=\"width:375px;height:110px;\">"
   ]
  },
  {
   "cell_type": "markdown",
   "metadata": {},
   "source": [
    "##### <h1><center> Week 3 - Assignment </center></h1>\n",
    "\n",
    "<h2><center> WIM250 - Introduction to Scripting Languages</center></h2>\n",
    "<h3><center>Instructor: Ivaldo Tributino</center></h3>\n",
    "\n",
    "**Assignment Instruction**\n",
    "\n",
    "- Assignment must be submitted by __July 31st, 2025__.\n",
    "- Each problem presents its own score, the sum of all scores is **100**.\n",
    "- **Renamed** the Notebook to your name,\n",
    "- You must submit in PDF format.\n",
    "- Student will receive a maximum extension of five (5) calendar days. A penalty of 10% per day (10% deducted from the eventual percentage allocated to the assignment) will be applied to the late assignment. "
   ]
  },
  {
   "cell_type": "code",
   "execution_count": null,
   "metadata": {},
   "outputs": [],
   "source": [
    "# Run this cell\n",
    "student_name = ''             \n",
    "student_number = ''          \n",
    "\n",
    "print('''By attempting this assignment, I, %s, acknowledge that I have read and understand the \n",
    "conduct requirements for this activity, and I understand that submitting another’s \n",
    "work as my own can result in grade zero for this assignment. \n",
    "'''%student_name)\n",
    "\n",
    "from datetime import datetime\n",
    "from pytz import timezone\n",
    "\n",
    "van = timezone('America/Vancouver')\n",
    "datetime_Van = datetime.now(van)\n",
    "\n",
    "print(\"Vancouver time:\", datetime_Van.strftime(\"%c\"))"
   ]
  },
  {
   "cell_type": "markdown",
   "metadata": {},
   "source": [
    "### (5 points) \n",
    "**1. What the difference between `break` and `continue` statement?**"
   ]
  },
  {
   "cell_type": "markdown",
   "metadata": {},
   "source": [
    "\n",
    "\n"
   ]
  },
  {
   "cell_type": "markdown",
   "metadata": {},
   "source": [
    "### (15 points) \n",
    "**2. Write a short program that prints the number 1 to 20 using `for loop`. Then write an equivalent program that print the number 1 to 20 using a `while loop`.**"
   ]
  },
  {
   "cell_type": "code",
   "execution_count": null,
   "metadata": {},
   "outputs": [],
   "source": [
    "# your code here for loop\n",
    "\n",
    "# your code here while loop\n",
    "\n"
   ]
  },
  {
   "cell_type": "markdown",
   "metadata": {},
   "source": [
    "### (15 points)\n",
    "**3. `Write a function` named `table_11_to_20()` that has one parameter named `number` and print the multiplication table `(from 11 to 20)` of the `number`.**\n",
    "\n",
    "Example:\n",
    "```python\n",
    "table_11_to_20(2)\n",
    "```\n",
    "Out: \\\n",
    "2 x 11 = 22\\\n",
    "2 x 12 = 24\\\n",
    "2 x 13 = 26\\\n",
    "2 x 14 = 28\\\n",
    "2 x 15 = 30\\\n",
    "2 x 16 = 32\\\n",
    "2 x 17 = 34\\\n",
    "2 x 18 = 36\\\n",
    "2 x 19 = 38\\\n",
    "2 x 20 = 40\n",
    "\n"
   ]
  },
  {
   "cell_type": "code",
   "execution_count": null,
   "metadata": {},
   "outputs": [],
   "source": []
  },
  {
   "cell_type": "code",
   "execution_count": null,
   "metadata": {},
   "outputs": [],
   "source": [
    "# to check the output\n",
    "table_11_to_20(1)\n",
    "print('**********')\n",
    "table_11_to_20(2)"
   ]
  },
  {
   "cell_type": "markdown",
   "metadata": {},
   "source": [
    "### (20 points) \n",
    "**4. Write a Python program to construct the following pattern.**\n",
    "```\n",
    "1\n",
    "$\n",
    "22\n",
    "$$\n",
    "333\n",
    "$$$\n",
    "4444\n",
    "$$$$\n",
    "55555\n",
    "$$$$$\n",
    "666666\n",
    "$$$$$$\n",
    "7777777\n",
    "$$$$$$$\n",
    "88888888\n",
    "$$$$$$$$\n",
    "999999999\n",
    "$$$$$$$$$\n",
    "```"
   ]
  },
  {
   "cell_type": "code",
   "execution_count": null,
   "metadata": {},
   "outputs": [],
   "source": [
    "# your code here\n",
    "\n"
   ]
  },
  {
   "cell_type": "markdown",
   "metadata": {},
   "source": [
    "### (20 points)\n",
    "\n",
    "**5. Write a function that receives a list and returns the maximum and minimum numbers of the list. If there is something in the list beyond a number, take it with a `try / except` and send an appropriate message and ignore it.**\n",
    "```\n",
    "Enter: ['Canada', 1 ,5 , 7 , 5.5, 19, 160, -20, 'student']; and match the output below:\n",
    "\n",
    "Canada is not a number\n",
    "student is not a number\n",
    "Maximum is : 160\n",
    "Minimum is : -20\n",
    "\n",
    "```"
   ]
  },
  {
   "cell_type": "code",
   "execution_count": null,
   "metadata": {},
   "outputs": [],
   "source": [
    "# your code here\n",
    "def get_max_min(lis):\n",
    "    # your code here\n",
    "\n",
    "    # -------------- #\n",
    "    for current in lis:\n",
    "        # your code here\n",
    "      \n",
    "        # -------------- #\n",
    "        \n",
    "        # your code here\n",
    "\n",
    "            \n",
    "        # -------------- #\n",
    "                \n",
    "    print('Maximum is :', largest)\n",
    "    # your code here\n",
    "    print('Minimum is :', smallest)\n",
    "    # -------------- #\n",
    "\n",
    "\n",
    "# get_max_min(['Canada', 1 ,5 , 7 , 5.5, 19, 160, -20, 'student'])"
   ]
  },
  {
   "cell_type": "code",
   "execution_count": null,
   "metadata": {},
   "outputs": [],
   "source": [
    "get_max_min(['Canada', 1 ,5 , 7 , 5.5, 19, 160, -20, '200', 'student'])"
   ]
  },
  {
   "cell_type": "markdown",
   "metadata": {},
   "source": [
    "### (25 points)\n",
    "\n",
    "**6. Write a Python program to construct the following pattern, using a `nested for loop`.**\n",
    "```\n",
    "* \n",
    "* * \n",
    "* * * \n",
    "* * * * \n",
    "* * * * * \n",
    "* * * * \n",
    "* * * \n",
    "* * \n",
    "*\n",
    "```"
   ]
  },
  {
   "cell_type": "code",
   "execution_count": null,
   "metadata": {},
   "outputs": [],
   "source": [
    "# your code here for loop \n"
   ]
  },
  {
   "cell_type": "code",
   "execution_count": null,
   "metadata": {},
   "outputs": [],
   "source": []
  },
  {
   "cell_type": "code",
   "execution_count": null,
   "metadata": {},
   "outputs": [],
   "source": []
  }
 ],
 "metadata": {
  "kernelspec": {
   "display_name": "anaconda-2022.05-py39",
   "language": "python",
   "name": "conda-env-anaconda-2022.05-py39-py"
  },
  "language_info": {
   "codemirror_mode": {
    "name": "ipython",
    "version": 3
   },
   "file_extension": ".py",
   "mimetype": "text/x-python",
   "name": "python",
   "nbconvert_exporter": "python",
   "pygments_lexer": "ipython3",
   "version": "3.9.12"
  }
 },
 "nbformat": 4,
 "nbformat_minor": 4
}
