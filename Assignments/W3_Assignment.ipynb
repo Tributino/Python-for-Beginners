{
 "cells": [
  {
   "cell_type": "markdown",
   "metadata": {},
   "source": [
    "##### <h1><center> Week 3 - Assignment </center></h1>\n",
    "\n",
    "<h2><center> WIM250/WDIM150 - Introduction to Scripting Languages</center></h2>\n",
    "<h3><center>Instructor: Ivaldo Tributino</center></h3>\n",
    "\n",
    "**Assignment Instruction**\n",
    "\n",
    "- The assignment must be submitted by **April 24, 2021**.\n",
    "- Each problem presents its own score, the sum of all scores is **100**.\n",
    "- **Renamed** the Notebook to your name,\n",
    "- You must submit your`.ipynb` file."
   ]
  },
  {
   "cell_type": "code",
   "execution_count": null,
   "metadata": {},
   "outputs": [],
   "source": [
    "# Run this cell\n",
    "student_name = ''            \n",
    "student_number = ''          \n",
    "\n",
    "print('''By attempting this assignment, I, %s, acknowledge that I have read and understand the \n",
    "conduct requirements for this activity, and I understand that submitting another’s \n",
    "work as my own can result in grade zero for this assignment. \n",
    "'''%student_name)"
   ]
  },
  {
   "cell_type": "markdown",
   "metadata": {},
   "source": [
    "### (5 points) \n",
    "**1. What the difference between `break` and `continue` statement?**"
   ]
  },
  {
   "cell_type": "code",
   "execution_count": null,
   "metadata": {},
   "outputs": [],
   "source": [
    "#\n",
    "#\n",
    "#"
   ]
  },
  {
   "cell_type": "markdown",
   "metadata": {},
   "source": [
    "### (15 points) \n",
    "**2. Write a short program that prints the number 1 to 10 using `for loop`. Then write an equivalent program that print the number 1 to 10 using a `while loop`.**"
   ]
  },
  {
   "cell_type": "code",
   "execution_count": null,
   "metadata": {},
   "outputs": [],
   "source": [
    "# your code here for loop\n"
   ]
  },
  {
   "cell_type": "markdown",
   "metadata": {},
   "source": [
    "### (15 points)\n",
    "**3. `Write a function` named `From_11_to_20()` that has one parameter named `number` and print result of multiplying the number `number` by the numbers 11 to 20.**"
   ]
  },
  {
   "cell_type": "code",
   "execution_count": null,
   "metadata": {},
   "outputs": [],
   "source": [
    "def From_11_to_20(number):\n",
    "    # your code here\n",
    "    for :\n",
    "        print()"
   ]
  },
  {
   "cell_type": "code",
   "execution_count": null,
   "metadata": {},
   "outputs": [],
   "source": [
    "# to check the output\n",
    "from_11_to_20(1)\n",
    "print('**********')\n",
    "from_11_to_20(2)"
   ]
  },
  {
   "cell_type": "markdown",
   "metadata": {},
   "source": [
    "### (20 points) \n",
    "**4. Write a Python program to construct the following pattern.**\n",
    "```\n",
    "1\n",
    "*\n",
    "22\n",
    "**\n",
    "333\n",
    "***\n",
    "4444\n",
    "****\n",
    "55555\n",
    "*****\n",
    "666666\n",
    "******\n",
    "7777777\n",
    "*******\n",
    "88888888\n",
    "********\n",
    "999999999\n",
    "*********\n",
    "```"
   ]
  },
  {
   "cell_type": "code",
   "execution_count": null,
   "metadata": {},
   "outputs": [],
   "source": [
    "# your code here\n",
    "\n",
    "\n",
    "\n",
    "\n"
   ]
  },
  {
   "cell_type": "markdown",
   "metadata": {},
   "source": [
    "### (20 points)\n",
    "\n",
    "**5. Write a function that receives a list of numbers and returns the maximum and minimum numbers of the list. If there is something in the list beyond a number, take it with a `try / except` and send an appropriate message and ignore it.**\n",
    "```\n",
    "Enter: ['Canada', 1 ,5 , 7 , 5.5, 19, 160, -20, 'student']; and match the output below:\n",
    "\n",
    "Canada is not a number\n",
    "student is not a number\n",
    "Maximum is : 160\n",
    "Minimum is : -20\n",
    "\n",
    "```"
   ]
  },
  {
   "cell_type": "code",
   "execution_count": null,
   "metadata": {},
   "outputs": [],
   "source": [
    "# your code here\n",
    "def get_max_min(lis):\n",
    "    # your code here\n",
    "    smallest = \n",
    "    largest = \n",
    "    # -------------- #\n",
    "    for current in lis:\n",
    "        # your code here\n",
    "        try:\n",
    "            float(current) \n",
    "        except:\n",
    "            print('')\n",
    "            continue\n",
    "            \n",
    "        # -------------- #\n",
    "        \n",
    "        # your code here\n",
    "        if () or ():\n",
    "            largest = current\n",
    "        if (smallest is None) or (current < smallest):\n",
    "            \n",
    "        # -------------- #\n",
    "                \n",
    "    print('Maximum is :', largest)\n",
    "    # your code here\n",
    "    print()\n",
    "    # -------------- #\n",
    "\n",
    "\n",
    "get_max_min(['Canada', 1 ,5 , 7 , 5.5, 19, 160, -20, 'student'])"
   ]
  },
  {
   "cell_type": "markdown",
   "metadata": {},
   "source": [
    "### (25 points)\n",
    "\n",
    "**6. Write a Python program to construct the following pattern, using a `nested for loop`.**\n",
    "```\n",
    "* \n",
    "* * \n",
    "* * * \n",
    "* * * * \n",
    "* * * * * \n",
    "* * * * \n",
    "* * * \n",
    "* * \n",
    "*\n",
    "```"
   ]
  },
  {
   "cell_type": "code",
   "execution_count": null,
   "metadata": {},
   "outputs": [],
   "source": [
    "# your code here for loop\n"
   ]
  },
  {
   "cell_type": "code",
   "execution_count": null,
   "metadata": {},
   "outputs": [],
   "source": []
  }
 ],
 "metadata": {
  "kernelspec": {
   "display_name": "Python 3",
   "language": "python",
   "name": "python3"
  },
  "language_info": {
   "codemirror_mode": {
    "name": "ipython",
    "version": 3
   },
   "file_extension": ".py",
   "mimetype": "text/x-python",
   "name": "python",
   "nbconvert_exporter": "python",
   "pygments_lexer": "ipython3",
   "version": "3.7.9"
  }
 },
 "nbformat": 4,
 "nbformat_minor": 4
}
