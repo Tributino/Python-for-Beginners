{
 "cells": [
  {
   "cell_type": "markdown",
   "metadata": {},
   "source": [
    "<h1><center> Week 7 - Assignment </center></h1>\n",
    "\n",
    "<h2><center> WIM250 - Introduction to Scripting Languages</center></h2>\n",
    "<h3><center>Instructor: Ivaldo Tributino</center></h3>\n",
    "\n",
    "**Assignment Instruction**\n",
    "\n",
    "- The assignment must be submitted by **Aug 28, 2025**.\n"
   ]
  },
  {
   "cell_type": "code",
   "execution_count": null,
   "metadata": {},
   "outputs": [],
   "source": [
    "# Run this cell\n",
    "student_name = ''           \n",
    "student_number = ''         \n",
    "\n",
    "print('''By attempting this assignment, I, %s, acknowledge that I have read and understand the \n",
    "conduct requirements for this activity, and I understand that submitting another’s \n",
    "work as my own can result in grade zero for this assignment. \n",
    "'''%student_name)\n",
    "\n",
    "from datetime import datetime\n",
    "from pytz import timezone\n",
    "\n",
    "van = timezone('America/Vancouver')\n",
    "datetime_Van = datetime.now(van)\n",
    "\n",
    "print(\"Vancouver time:\", datetime_Van.strftime(\"%c\"))"
   ]
  },
  {
   "cell_type": "markdown",
   "metadata": {},
   "source": [
    "### (70 points)\n",
    "\n",
    "**PROJECT: One Call API**\n",
    "\n",
    "We will get all your essential weather data for a specific location with our new OpenWeather One Call API.\n",
    "\n",
    "The `One Call API` provides the following weather data for any geographical coordinates:\n",
    "\n",
    "- Current weather\n",
    "- Minute forecast for 1 hour\n",
    "- Hourly forecast for 48 hours\n",
    "- Daily forecast for 7 days\n",
    "- National weather alerts\n",
    "- Historical weather data for the previous 5 days\n",
    "\n",
    "<dl>\n",
    "<dt>Overall, the program does the following:</dt>\n",
    "<dd>&nbsp; &nbsp; 1. Reads the requested location from the command line.</dd>\n",
    "<dd>&nbsp; &nbsp; 2. Downloads JSON weather data from OpenWeatherMap.org.</dd>\n",
    "<dd>&nbsp; &nbsp; 3. Converts the string of JSON data to a Python data structure.</dd>\n",
    "<dd>&nbsp; &nbsp; 4. Prints the weather.</dd>    \n",
    "<dt>So the code will need to do the following:</dt>\n",
    "<dd>&nbsp; &nbsp; 1. Join strings to get the location.</dd>\n",
    "<dd>&nbsp; &nbsp; 2. Call requests.get( ) to download the weather data.</dd>\n",
    "<dd>&nbsp; &nbsp; 3. Call json.loads( ) to convert the JSON data to a Python data structure.</dd>\n",
    "<dd>&nbsp; &nbsp; 4. Print the weather forecast.</dd>    \n",
    "</dl>\n",
    "\n",
    "\n",
    "Visit https://openweathermap.org/price in your browser and `sign up` for a free account to obtain an `API key`, also called an app ID, which for the OpenWeatherMap service is a string code that looks something like `'30144aba38018987d84710d0e319281e'`. You don’t need to pay for this service unless you plan on making more than 60 API calls per minute. Keep the API key secret; anyone who knows it can write scripts that use your account’s usage quota.\n",
    "\n",
    "<img src=\"images/openWeather.png\" style=\"width:700px;height:700px;\">\n",
    "\n",
    "Let's create our program as below\n",
    "```python\n",
    "\n",
    "# Get your APP ID\n",
    "APPID = 'YOUR_APPID_HERE'\n",
    "\n",
    "# Import Json and Requests \n",
    "import json, requests\n",
    "\n",
    "# Get the city location by longitude and latitude.\n",
    "loc_dic = {'lat': 49.273901, 'lon' : -123.002100}    # Vancouver, BC , Canada\n",
    "\n",
    "# TODO: Download the JSON data from OpenWeatherMap.org's API.\n",
    "Using the url:\n",
    "    http://api.openweathermap.org/data/2.5/air_pollution?lat={lat}&lon={lon}&appid={API key}\n",
    "\n",
    "# TODO: Load JSON data into a Python variable.\n",
    "```\n",
    "\n",
    "**Example of API response**\n",
    "```\n",
    "{'coord': {'lon': -123.002, 'lat': 49.2739},\n",
    " 'list': [{'main': {'aqi': 2},\n",
    "   'components': {'co': 226.97,\n",
    "    'no': 0.39,\n",
    "    'no2': 1.82,\n",
    "    'o3': 84.4,\n",
    "    'so2': 2.47,\n",
    "    'pm2_5': 5.74,\n",
    "    'pm10': 8.67,\n",
    "    'nh3': 0.56},\n",
    "   'dt': 1685132972}]}\n",
    "```\n",
    "Hint: See the notebook W8_class_activity_JSON"
   ]
  },
  {
   "cell_type": "code",
   "execution_count": null,
   "metadata": {},
   "outputs": [],
   "source": [
    "# Get your APP ID\n"
   ]
  },
  {
   "cell_type": "markdown",
   "metadata": {},
   "source": [
    "### (30 Points)\n",
    "\n",
    "**2. Create a dataframe with the column names 'column_name' and 'missing_count'. This dataframe will display the columns of 'forecast.csv' and the count of missing values in each column.**"
   ]
  },
  {
   "cell_type": "code",
   "execution_count": null,
   "metadata": {},
   "outputs": [],
   "source": []
  },
  {
   "cell_type": "code",
   "execution_count": null,
   "metadata": {},
   "outputs": [],
   "source": []
  }
 ],
 "metadata": {
  "kernelspec": {
   "display_name": "anaconda-2022.05-py39",
   "language": "python",
   "name": "conda-env-anaconda-2022.05-py39-py"
  },
  "language_info": {
   "codemirror_mode": {
    "name": "ipython",
    "version": 3
   },
   "file_extension": ".py",
   "mimetype": "text/x-python",
   "name": "python",
   "nbconvert_exporter": "python",
   "pygments_lexer": "ipython3",
   "version": "3.9.12"
  }
 },
 "nbformat": 4,
 "nbformat_minor": 4
}
