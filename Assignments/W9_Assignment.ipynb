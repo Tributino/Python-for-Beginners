{
 "cells": [
  {
   "cell_type": "markdown",
   "metadata": {},
   "source": [
    "<h1><center> Week 9 - Assignment </center></h1>\n",
    "\n",
    "<h2><center> WIM250/WDIM150 - Introduction to Scripting Languages</center></h2>\n",
    "<h3><center>Instructor: Ivaldo Tributino</center></h3>\n",
    "\n",
    "**Assignment Instruction**\n",
    "\n",
    "- The assignment must be submitted by **June 5, 2022**.\n",
    "- Each problem presents its own score, the sum of all scores is **100**.\n",
    "- **Renamed** the Notebook to your name,\n",
    "- You must submit your`.ipynb` file."
   ]
  },
  {
   "cell_type": "markdown",
   "metadata": {},
   "source": [
    "### (20 Points)\n",
    "\n",
    "**1. Implements two extra Dunder(magic) methods of your choice to enhance the class student.**\n",
    "\n",
    "```python\n",
    "class student:\n",
    "    \n",
    "    def __init__(self, student_id, student_name, courses):\n",
    "        self.student_id = student_id\n",
    "        self.student_name = student_name\n",
    "        self.courses = courses\n",
    "        \n",
    "        \n",
    "    def printCourses(self):\n",
    "        if self.courses == []:\n",
    "            print('No courses have been registered yet.')\n",
    "            \n",
    "        else:\n",
    "            for course in self.courses:\n",
    "                print(course.course_id)\n",
    "                print()\n",
    "                course.printWeekly()  \n",
    "           \n",
    "    def __str__(self):\n",
    "        return f'Student id: {self.student_id} Student name: {self.student_name}'   \n",
    "```    "
   ]
  },
  {
   "cell_type": "code",
   "execution_count": null,
   "metadata": {},
   "outputs": [],
   "source": []
  },
  {
   "cell_type": "markdown",
   "metadata": {},
   "source": [
    "### (20 Points)\n",
    "\n",
    "**2. Write a Python class named Rectangle constructed by a length and width (instance attributes), a method which will compute the area of a rectangle and the special method `__lt__` , `__eq__`.**"
   ]
  },
  {
   "cell_type": "code",
   "execution_count": null,
   "metadata": {},
   "outputs": [],
   "source": []
  },
  {
   "cell_type": "code",
   "execution_count": null,
   "metadata": {},
   "outputs": [],
   "source": []
  },
  {
   "cell_type": "markdown",
   "metadata": {},
   "source": [
    "### (20 Points)\n",
    "\n",
    "**3. Write a Python class named Circle constructed by a radius and two methods which will compute the area and the perimeter of a circle and the special method `__lt__` , `__eq__`.**"
   ]
  },
  {
   "cell_type": "code",
   "execution_count": null,
   "metadata": {},
   "outputs": [],
   "source": []
  },
  {
   "cell_type": "code",
   "execution_count": null,
   "metadata": {},
   "outputs": [],
   "source": []
  },
  {
   "cell_type": "markdown",
   "metadata": {},
   "source": [
    "### (20 Points) \n",
    "\n",
    "**4. Write a Python program to insert the list below into a SQLite table, `names the table with your name`, with columns: country, province, city, population**\n",
    "\n",
    "```\n",
    "Insert records\n",
    "rows = [(Canada, 'BC', 'Vancouver', 675,218),\n",
    "         (Canada, 'BC', 'Burnaby', 249,197),\n",
    "         (Canada, 'ON', 'Toronto', 2,930,000),\n",
    "         (Canada, 'ON', 'Ottawa', 994,837),\n",
    "         (Canada, 'NS', 'Sydney', 29,904)]\n",
    "```         "
   ]
  },
  {
   "cell_type": "code",
   "execution_count": null,
   "metadata": {},
   "outputs": [],
   "source": [
    "  rows = [('Canada', 'BC', 'Vancouver', 675,218),\n",
    "         ('Canada', 'BC', 'Burnaby', 249,197),\n",
    "         ('Canada', 'ON', 'Toronto', 2,930,000),\n",
    "         ('Canada', 'ON', 'Ottawa', 994,837),\n",
    "         ('Canada', 'NS', 'Sydney', 29,904)]\n",
    "rows[0][0]    "
   ]
  },
  {
   "cell_type": "markdown",
   "metadata": {},
   "source": [
    "### (20 Points)\n",
    "\n",
    "**5. Write a Python program to delete the rows that have `province = BC`.**"
   ]
  },
  {
   "cell_type": "code",
   "execution_count": null,
   "metadata": {},
   "outputs": [],
   "source": []
  },
  {
   "cell_type": "code",
   "execution_count": null,
   "metadata": {},
   "outputs": [],
   "source": []
  }
 ],
 "metadata": {
  "kernelspec": {
   "display_name": "Python 3",
   "language": "python",
   "name": "python3"
  },
  "language_info": {
   "codemirror_mode": {
    "name": "ipython",
    "version": 3
   },
   "file_extension": ".py",
   "mimetype": "text/x-python",
   "name": "python",
   "nbconvert_exporter": "python",
   "pygments_lexer": "ipython3",
   "version": "3.7.9"
  }
 },
 "nbformat": 4,
 "nbformat_minor": 4
}
