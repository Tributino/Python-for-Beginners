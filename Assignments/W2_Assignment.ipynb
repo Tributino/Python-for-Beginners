{
 "cells": [
  {
   "cell_type": "markdown",
   "metadata": {},
   "source": [
    "<h1><center> Week 2 - Assignment </center></h1>\n",
    "\n",
    "<h2><center> WIM250 - Introduction to Scripting Languages</center></h2>\n",
    "<h3><center>Instructor: Ivaldo Tributino</center></h3>\n",
    "\n",
    "**Assignment Instruction**\n",
    "\n",
    "- The assignment is due the day before our week 3 class.\n",
    "- Each problem presents its own score, the sum of all scores is **100**.\n",
    "- **Renamed** the Notebook to your name,\n",
    "- You must submit in PDF format.\n",
    "- Student will receive a maximum extension of five (5) calendar days. A penalty of 10% per day (10% deducted from the eventual percentage allocated to the assignment) will be applied to the late assignment. "
   ]
  },
  {
   "cell_type": "code",
   "execution_count": null,
   "metadata": {},
   "outputs": [],
   "source": [
    "# Run this cell\n",
    "student_name = ''            \n",
    "student_number = ''          \n",
    "\n",
    "print('''By attempting this assignment, I, %s, acknowledge that I have read and understand the \n",
    "conduct requirements for this activity, and I understand that submitting another’s \n",
    "work as my own can result in grade zero for this assignment. \n",
    "'''%student_name)\n",
    "\n",
    "from datetime import datetime\n",
    "from pytz import timezone\n",
    "\n",
    "van = timezone('America/Vancouver')\n",
    "datetime_Van = datetime.now(van)\n",
    "\n",
    "print(\"Vancouver time:\", datetime_Van.strftime(\"%c\"))"
   ]
  },
  {
   "cell_type": "markdown",
   "metadata": {},
   "source": [
    "### (10 points) \n",
    "**1. Draw a flowchart that represents the process below. Take a picture of your \"art\" and send it with this notebook.**"
   ]
  },
  {
   "cell_type": "markdown",
   "metadata": {},
   "source": [
    "```python\n",
    "\n",
    "sne = input(\"Student's Name:\")\n",
    "snr = input(\"Student's Number:\")\n",
    "\n",
    "if sne == student_name:\n",
    "    print('Hi ' + sne)\n",
    "    if snr != student_number:\n",
    "        print('Your student number is wrong, try again')\n",
    "    else:\n",
    "        print(sne + ' your student number is right')\n",
    "else:\n",
    "    print('Your student name is wrong, try again')\n",
    "```"
   ]
  },
  {
   "cell_type": "markdown",
   "metadata": {},
   "source": [
    "### (10 points) \n",
    "**2. What is the output of the two codes below? Explain why the results are different.**\n",
    "\n",
    "```python\n",
    "x = 5\n",
    "\n",
    "**Code A**\n",
    "if x >= 4:\n",
    "    print(f'{x} is greater than or equal to 4')\n",
    "if x >= 2:\n",
    "    print(f'{x} is greater than or equal to 2')\n",
    "else:\n",
    "    print(f'{x} is less than 2')\n",
    "    \n",
    "**Code B**    \n",
    "    \n",
    "if x >= 4:\n",
    "    print(f'{x} is greater than or equal to 4')\n",
    "elif x >= 2:\n",
    "    print(f'{x} is greater than or equal to 2')\n",
    "else:\n",
    "    print(f'{x} is less than 2')    \n",
    "```"
   ]
  },
  {
   "cell_type": "code",
   "execution_count": null,
   "metadata": {},
   "outputs": [],
   "source": [
    "# Write your answer here\n"
   ]
  },
  {
   "cell_type": "markdown",
   "metadata": {},
   "source": [
    "### (10 points) \n",
    "**3. Complete the code to get odd numbers divisible by 3 that are between 1 and 99.**"
   ]
  },
  {
   "cell_type": "code",
   "execution_count": null,
   "metadata": {},
   "outputs": [],
   "source": [
    "list = []\n",
    "# Just add your code on the line below \n",
    "for i in : \n",
    "    : \n",
    "#--------------------------------------       \n",
    "        list.append(i)\n",
    "list"
   ]
  },
  {
   "cell_type": "markdown",
   "metadata": {
    "editable": true,
    "slideshow": {
     "slide_type": ""
    },
    "tags": []
   },
   "source": [
    "### (10 points) \n",
    "**4. Rewrite the grade program from the previous chapter using a function called computegrade that takes a score as its parameter and returns a grade as a string.**\n",
    "\n",
    "```\n",
    "Score     Grade\n",
    ">= 0.9     A\n",
    ">= 0.8     B\n",
    ">= 0.7     C\n",
    ">= 0.6     D\n",
    "<0.6       F\n",
    "```"
   ]
  },
  {
   "cell_type": "code",
   "execution_count": null,
   "metadata": {
    "editable": true,
    "slideshow": {
     "slide_type": ""
    },
    "tags": []
   },
   "outputs": [],
   "source": [
    "# Write your code here\n",
    " "
   ]
  },
  {
   "cell_type": "markdown",
   "metadata": {},
   "source": [
    "### (10 points) \n",
    "**5. Write a Python program to find those numbers which are divisible by 7 and multiple of 5, between 1505 and 2695 `(both included)`.** "
   ]
  },
  {
   "cell_type": "code",
   "execution_count": null,
   "metadata": {},
   "outputs": [],
   "source": [
    "# Write your code here\n"
   ]
  },
  {
   "cell_type": "markdown",
   "metadata": {},
   "source": [
    "### (15 points) \n",
    "**6. Write a function to calculate the factorial of a number. The function accepts the number as an argument.** Hint: Python accepts function recursion, which means a defined function can call itself."
   ]
  },
  {
   "cell_type": "code",
   "execution_count": null,
   "metadata": {},
   "outputs": [],
   "source": [
    "# Write your code here\n",
    "\n"
   ]
  },
  {
   "cell_type": "markdown",
   "metadata": {},
   "source": [
    "### (15 points) \n",
    "**7. Write a function to receive a positive number `n` and returns the first `n's` terms of the Fibonacci sequence**"
   ]
  },
  {
   "cell_type": "code",
   "execution_count": null,
   "metadata": {},
   "outputs": [],
   "source": [
    "# Write your code here\n",
    "          "
   ]
  },
  {
   "cell_type": "code",
   "execution_count": null,
   "metadata": {},
   "outputs": [],
   "source": []
  },
  {
   "cell_type": "markdown",
   "metadata": {},
   "source": [
    "### (20 Points) \n",
    "The Collatz conjecture is a conjecture in mathematics that concerns a sequence defined as follows: start with any positive integer `n`. Then each term is obtained from the previous term as follows: if the previous term is even, the next term is `one half` of the previous term. If the previous term is odd, the next term is `3 times the previous term plus 1`. The conjecture is that no matter what value of `n`, the sequence will always reach 1.\n",
    "\n",
    "**8. Write a function named `collatz()` that has one parameter named `number`. If number is even, then `collatz()` should print `number // 2` and `return` this value. If the `number` is odd, then `collatz()` should print and return `3*number + 1`.**\n",
    "\n",
    "**Then write a function named `collatz_sequence()` that call `collatz()` until it returns the value 1.**"
   ]
  },
  {
   "cell_type": "code",
   "execution_count": null,
   "metadata": {},
   "outputs": [],
   "source": [
    "# Write your code here\n",
    "       "
   ]
  },
  {
   "cell_type": "code",
   "execution_count": null,
   "metadata": {},
   "outputs": [],
   "source": [
    "    "
   ]
  },
  {
   "cell_type": "code",
   "execution_count": null,
   "metadata": {},
   "outputs": [],
   "source": []
  }
 ],
 "metadata": {
  "kernelspec": {
   "display_name": "anaconda-2022.05-py39",
   "language": "python",
   "name": "conda-env-anaconda-2022.05-py39-py"
  },
  "language_info": {
   "codemirror_mode": {
    "name": "ipython",
    "version": 3
   },
   "file_extension": ".py",
   "mimetype": "text/x-python",
   "name": "python",
   "nbconvert_exporter": "python",
   "pygments_lexer": "ipython3",
   "version": "3.9.12"
  }
 },
 "nbformat": 4,
 "nbformat_minor": 4
}
