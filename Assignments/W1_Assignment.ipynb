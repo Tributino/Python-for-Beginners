{
 "cells": [
  {
   "cell_type": "markdown",
   "metadata": {},
   "source": [
    "<img src=\"images/lasalle_logo.png\" style=\"width:375px;height:110px;\">\n",
    "<p style=  \"text-align: right; color: blue;\"> WIM250 - Summer 2025</p>"
   ]
  },
  {
   "cell_type": "markdown",
   "metadata": {},
   "source": [
    "<h1><center> Week 1 - Assignment </center></h1>\n",
    "\n",
    "<h2><center> WIM250 - Introduction to Scripting Languages</center></h2>\n",
    "<h3><center>Instructor: Ivaldo Tributino</center></h3>\n",
    "\n",
    "**Assignment Instruction**\n",
    "\n",
    "- Assignment must be submitted by __July 17, 2025__.\n",
    "- Each problem presents its own score, the sum of all scores is **100**.\n",
    "- **Renamed** the Notebook to your name,\n",
    "- You must submit in __PDF__ format.\n",
    "- Student will receive a maximum extension of five (5) calendar days. A penalty of 10% per day (10% deducted from the eventual percentage allocated to the assignment) will be applied to the late assignment. \n"
   ]
  },
  {
   "cell_type": "markdown",
   "metadata": {
    "editable": true,
    "slideshow": {
     "slide_type": ""
    },
    "tags": []
   },
   "source": [
    "### (20 points)\n",
    "\n",
    "**1. Create a Python program that stores the number of trees planted in three different Indigenous communities. Use variables to represent each community. Then, calculate the total number of trees planted and the average per community. Display the results using print statements.**\n"
   ]
  },
  {
   "cell_type": "code",
   "execution_count": null,
   "metadata": {},
   "outputs": [],
   "source": [
    "# Complete the code below\n",
    "# Number of trees planted in three Indigenous communities\n",
    "Musqueam = \n",
    "Haida_Nation = \n",
    "Micmac = \n",
    "\n",
    "# Total and average\n",
    "total_trees = \n",
    "average_trees = \n",
    "\n",
    "print(\"Total trees planted:\", )\n",
    "print(\"Average trees per community:\", )\n"
   ]
  },
  {
   "cell_type": "markdown",
   "metadata": {},
   "source": [
    "### (20 points)\n",
    "**2. Ask the user to input the number of liters of water they use per day. Then, calculate and display how much water they would use in a week, a month (30 days), and a year (365 days). Use variables and expressions to perform the calculations.**"
   ]
  },
  {
   "cell_type": "code",
   "execution_count": null,
   "metadata": {},
   "outputs": [],
   "source": [
    "# Complete the code below\n",
    "# Get user input\n",
    "daily_use = \n",
    "\n",
    "# Calculate usage\n",
    "weekly = \n",
    "monthly = \n",
    "yearly = \n",
    "\n",
    "print(\"Weekly water usage:\", weekly, \"liters\")\n",
    "print(\"Monthly water usage:\", monthly, \"liters\")\n",
    "print(\"Yearly water usage:\", yearly, \"liters\")"
   ]
  },
  {
   "cell_type": "markdown",
   "metadata": {},
   "source": [
    "### (20 points)\n",
    "\n",
    "**3. Create a program that stores your name and the name of the Indigenous territory you are learning on (e.g., Musqueam, Squamish, Tsleil-Waututh). Use variables to store this information and print a respectful land acknowledgment message using string expressions.**"
   ]
  },
  {
   "cell_type": "code",
   "execution_count": null,
   "metadata": {},
   "outputs": [],
   "source": [
    "# Complete the code below\n",
    "\n",
    "# Variables\n",
    "name = \n",
    "territory = \n",
    "\n",
    "# Message\n",
    "message =  \n",
    "print(message)\n"
   ]
  },
  {
   "cell_type": "markdown",
   "metadata": {},
   "source": [
    "### (20 points) \n",
    "**4. You and a classmate are planning a community clean-up event. Each of you has a budget. Use variables to store each person’s contribution. Then, calculate the total budget and how much you can spend per category (e.g., supplies, snacks, transportation). Use expressions and print statements to show your plan.**"
   ]
  },
  {
   "cell_type": "code",
   "execution_count": null,
   "metadata": {},
   "outputs": [],
   "source": [
    "# Complete the code below\n",
    "# Contributions\n",
    "my_budget = \n",
    "partner_budget = \n",
    "\n",
    "# Total and category planning\n",
    "total_budget = \n",
    "# write the categories below\n",
    "\n",
    "\n",
    "print(\"Total budget:\", total_budget)\n",
    "# print functions for the categories \n"
   ]
  },
  {
   "cell_type": "markdown",
   "metadata": {},
   "source": [
    "### (20 points)\n",
    "**5. Develop a program that asks the user for a Fahrenheit temperature, converts it to Celsius, and displays the converted temperature with 2 decimal points.**"
   ]
  },
  {
   "cell_type": "code",
   "execution_count": null,
   "metadata": {},
   "outputs": [],
   "source": [
    "# Write your code here:\n"
   ]
  },
  {
   "cell_type": "markdown",
   "metadata": {
    "editable": true,
    "slideshow": {
     "slide_type": ""
    },
    "tags": []
   },
   "source": [
    "<font color='red'>Download your assignment as PDF file </font> \n",
    "\n",
    "File ----> Save and Export Notebook As ----> PDF"
   ]
  }
 ],
 "metadata": {
  "kernelspec": {
   "display_name": "anaconda-2022.05-py39",
   "language": "python",
   "name": "conda-env-anaconda-2022.05-py39-py"
  },
  "language_info": {
   "codemirror_mode": {
    "name": "ipython",
    "version": 3
   },
   "file_extension": ".py",
   "mimetype": "text/x-python",
   "name": "python",
   "nbconvert_exporter": "python",
   "pygments_lexer": "ipython3",
   "version": "3.9.12"
  }
 },
 "nbformat": 4,
 "nbformat_minor": 4
}
