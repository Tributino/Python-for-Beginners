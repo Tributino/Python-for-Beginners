{
 "cells": [
  {
   "cell_type": "markdown",
   "metadata": {},
   "source": [
    "<h1><center> Week 8 - Assignment </center></h1>\n",
    "\n",
    "<h2><center> WIM250 - Introduction to Scripting Languages</center></h2>\n",
    "<h3><center>Instructor: Ivaldo Tributino</center></h3>\n",
    "\n",
    "**Assignment Instruction**\n",
    "\n",
    "- Assignment must be submitted by __Dec 4, 2025__.\n",
    "- Each problem presents its own score, the sum of all scores is **100**.\n",
    "- **Renamed** the Notebook to your name,\n",
    "- You must submit in PDF format.\n",
    "- Student will receive a maximum extension of five (5) calendar days. A penalty of 10% per day (10% deducted from the eventual percentage allocated to the assignment) will be applied to the late assignment."
   ]
  },
  {
   "cell_type": "markdown",
   "metadata": {},
   "source": [
    "### (20 Points)\n",
    "\n",
    "**1. Write a Python class named Rectangle constructed by a length and width (instance attributes) and a method which will compute the area of a rectangle.**"
   ]
  },
  {
   "cell_type": "code",
   "execution_count": null,
   "metadata": {},
   "outputs": [],
   "source": [
    "class Rectangle():\n",
    " "
   ]
  },
  {
   "cell_type": "code",
   "execution_count": null,
   "metadata": {},
   "outputs": [],
   "source": [
    "r1 = Rectangle(3,4)\n",
    "r1.Area()\n",
    "r2 = Rectangle(2,5)\n",
    "r2.Area()\n",
    "r1 < r2"
   ]
  },
  {
   "cell_type": "markdown",
   "metadata": {},
   "source": [
    "### (20 Points)\n",
    "\n",
    "**2. Write a Python class named Circle constructed by a radius and two methods which will compute the area and the perimeter of a circle.**"
   ]
  },
  {
   "cell_type": "code",
   "execution_count": null,
   "metadata": {},
   "outputs": [],
   "source": [
    "import math\n",
    "\n",
    "class Circle:\n"
   ]
  },
  {
   "cell_type": "code",
   "execution_count": null,
   "metadata": {},
   "outputs": [],
   "source": [
    "c1 = Circle(3)\n",
    "c2 = Circle(5)\n",
    "print(c1.area())\n",
    "print(c2.area())\n",
    "print(c1.perimeter())\n",
    "print(c2.perimeter())"
   ]
  },
  {
   "cell_type": "markdown",
   "metadata": {},
   "source": [
    "### (30 Points) \n",
    "\n",
    "**3. Write a Python program to insert the list below into a SQLite table, `names the table with your name`, with columns: country, province, city, population**\n",
    "\n",
    "```\n",
    "Insert records\n",
    "\n",
    "```         "
   ]
  },
  {
   "cell_type": "code",
   "execution_count": null,
   "metadata": {},
   "outputs": [],
   "source": [
    "rows = [('Canada', 'BC', 'Vancouver', '675,218'),\n",
    "         ('Canada', 'BC', 'Burnaby', '249,197'),\n",
    "         ('Canada', 'ON', 'Toronto', '2,930,000'),\n",
    "         ('Canada', 'ON', 'Ottawa', '994,837'),\n",
    "         ('Canada', 'NS', 'Sydney', '29,904')]"
   ]
  },
  {
   "cell_type": "code",
   "execution_count": null,
   "metadata": {},
   "outputs": [],
   "source": [
    "import sqlite3\n",
    "\n"
   ]
  },
  {
   "cell_type": "markdown",
   "metadata": {},
   "source": [
    "### (30 Points)\n",
    "\n",
    "\n",
    "**4. Write a Python program to delete the rows that have `province = BC`.**"
   ]
  },
  {
   "cell_type": "code",
   "execution_count": null,
   "metadata": {},
   "outputs": [],
   "source": []
  },
  {
   "cell_type": "code",
   "execution_count": null,
   "metadata": {},
   "outputs": [],
   "source": []
  }
 ],
 "metadata": {
  "kernelspec": {
   "display_name": "anaconda-2022.05-py39",
   "language": "python",
   "name": "conda-env-anaconda-2022.05-py39-py"
  },
  "language_info": {
   "codemirror_mode": {
    "name": "ipython",
    "version": 3
   },
   "file_extension": ".py",
   "mimetype": "text/x-python",
   "name": "python",
   "nbconvert_exporter": "python",
   "pygments_lexer": "ipython3",
   "version": "3.9.12"
  }
 },
 "nbformat": 4,
 "nbformat_minor": 4
}
