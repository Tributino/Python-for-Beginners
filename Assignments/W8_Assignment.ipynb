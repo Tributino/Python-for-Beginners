{
 "cells": [
  {
   "cell_type": "markdown",
   "metadata": {},
   "source": [
    "<h1><center> Week 8 - Assignment </center></h1>\n",
    "\n",
    "<h2><center> WIM250/WDIM150 - Introduction to Scripting Languages</center></h2>\n",
    "<h3><center>Instructor: Ivaldo Tributino</center></h3>\n",
    "\n",
    "**Assignment Instruction**\n",
    "\n",
    "- The assignment must be submitted by **May 29, 2022**.\n",
    "- Each problem presents its own score, the sum of all scores is **100**.\n",
    "- **Renamed** the Notebook to your name,\n",
    "- You must submit your`.ipynb` file."
   ]
  },
  {
   "cell_type": "code",
   "execution_count": null,
   "metadata": {},
   "outputs": [],
   "source": [
    "# Run this cell\n",
    "student_name = ''           \n",
    "student_number = ''         \n",
    "\n",
    "print('''By attempting this assignment, I, %s, acknowledge that I have read and understand the \n",
    "conduct requirements for this activity, and I understand that submitting another’s \n",
    "work as my own can result in grade zero for this assignment. \n",
    "'''%student_name)"
   ]
  },
  {
   "cell_type": "markdown",
   "metadata": {},
   "source": [
    "### (20 points)\n",
    "\n",
    "**1. In the list below**\n",
    "```python\n",
    "data = [json.loads(line) for line in open('daily_14.json', 'r')]\n",
    "```\n",
    "**find the item that contains the city called Madrid and then find the key `'time'` to convert its `value` from timestamp to local timezone (Use: datetime.fromtimestamp).**"
   ]
  },
  {
   "cell_type": "code",
   "execution_count": null,
   "metadata": {},
   "outputs": [],
   "source": []
  },
  {
   "cell_type": "code",
   "execution_count": null,
   "metadata": {},
   "outputs": [],
   "source": []
  },
  {
   "cell_type": "markdown",
   "metadata": {},
   "source": [
    "### (40 Points )\n",
    "\n",
    "\n",
    "**2. Visit https://openweathermap.org/api/ in your browser and `sign up` for a free account to obtain an `API key`, also called an app ID, which for the OpenWeatherMap service is a string code that looks something like `'30144aba38018987d84710d0e319281e'`. You don’t need to pay for this service unless you plan on making more than 60 API calls per minute. Keep the API key secret; anyone who knows it can write scripts that use your account’s usage quota.**\n",
    "\n",
    "<img src=\"images/openWeather.png\" style=\"width:700px;height:400px;\">\n",
    "\n",
    "Let's create our program as below\n",
    "```python\n",
    "\n",
    "# Get your APP ID\n",
    "APPID = 'YOUR_APPID_HERE'\n",
    "\n",
    "# Import Json and Requests \n",
    "import json, requests\n",
    "\n",
    "# Get the city location by longitude and latitude.\n",
    "\n",
    "loc_dic = {'lat': 40.4168, 'lon' : 3.7038}       # Madrid, Spain\n",
    "\n",
    "# TODO: Download the JSON data from OpenWeatherMap.org's API.\n",
    "\n",
    "# TODO: Load JSON data into a Python variable.\n",
    "\n",
    "# TODO: Load JSON data into a Python variable.\n",
    "\n",
    "# TODO: Find the timestamp in 'sunrise' key.\n",
    "\n",
    "# TODO: Convert the timestamp to local timezone; Ex: 2022-05-18 21:25:40. \n",
    "```"
   ]
  },
  {
   "cell_type": "code",
   "execution_count": null,
   "metadata": {},
   "outputs": [],
   "source": []
  },
  {
   "cell_type": "markdown",
   "metadata": {},
   "source": [
    "#### (20 Points)\n",
    "\n",
    "**3. Read the `housing.csv` file using pandas and get longitude and latitude of the location that contains the largest population.**"
   ]
  },
  {
   "cell_type": "code",
   "execution_count": null,
   "metadata": {},
   "outputs": [],
   "source": []
  },
  {
   "cell_type": "markdown",
   "metadata": {},
   "source": [
    "#### (20 Points)\n",
    "\n",
    "**4. Create a dataframe with the column names 'column_name' and 'missing_count'. This dataframe will display the columns of 'forecast.csv' and the count of missing values in each column in descending order.**"
   ]
  },
  {
   "cell_type": "code",
   "execution_count": null,
   "metadata": {},
   "outputs": [],
   "source": []
  },
  {
   "cell_type": "code",
   "execution_count": null,
   "metadata": {},
   "outputs": [],
   "source": []
  }
 ],
 "metadata": {
  "kernelspec": {
   "display_name": "Python 3",
   "language": "python",
   "name": "python3"
  },
  "language_info": {
   "codemirror_mode": {
    "name": "ipython",
    "version": 3
   },
   "file_extension": ".py",
   "mimetype": "text/x-python",
   "name": "python",
   "nbconvert_exporter": "python",
   "pygments_lexer": "ipython3",
   "version": "3.7.1"
  }
 },
 "nbformat": 4,
 "nbformat_minor": 4
}
