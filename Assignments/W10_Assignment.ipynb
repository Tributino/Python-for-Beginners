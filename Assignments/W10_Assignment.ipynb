{
 "cells": [
  {
   "cell_type": "markdown",
   "id": "centered-congress",
   "metadata": {},
   "source": [
    "### <center> Week 10 - Assignment </center>\n",
    "    \n",
    "<center>WIM250/WDIM150 - Introduction to Scripting Languages</center>\n",
    "<center>Instructor: Ivaldo Tributino</center>\n",
    "\n",
    "**Assignment Instruction**\n",
    "\n",
    "- The assignment must be submitted by **June 12, 2022**.\n",
    "- Each problem presents its own score, the sum of all scores is **100**.\n",
    "- **Create and name** the Notebook with your name to present your solution.\n",
    "- You must submit your`.ipynb` file.  "
   ]
  },
  {
   "cell_type": "markdown",
   "id": "corrected-ghana",
   "metadata": {},
   "source": [
    "Create the tables: Students, Enrollments and Courses and fill them with the data from `'assignment.json'` file in `SQlite`. Replace `None` with your `id, surname and first name`. Also replace any `newline` or `multiple whitespace` with a `singlespace` in course description.\n",
    "\n",
    "```python\n",
    "# Student Assignment (The code below is not complete!)\n",
    "import json\n",
    "import sqlite3\n",
    "\n",
    "conn = sqlite3.connect('.sqlite') # use your first name Ex: ivaldo.sqlite\n",
    "cur = conn.cursor()\n",
    "\n",
    "# Do some setup\n",
    "cur.executescript('''\n",
    "DROP TABLE IF EXISTS Students;\n",
    "DROP TABLE IF EXISTS Classes;\n",
    "DROP TABLE IF EXISTS Enrollments;\n",
    "\n",
    "CREATE TABLE Students (\n",
    "    id         INTEGER PRIMARY KEY UNIQUE,\n",
    "    lastName   TEXT \n",
    "    firstName  TEXT\n",
    ");\n",
    "\n",
    "CREATE TABLE Classes (\n",
    "    id          INTEGER PRIMARY KEY UNIQUE,\n",
    "    title       TEXT\n",
    "    description TEXT\n",
    ");\n",
    "\n",
    "CREATE TABLE Enrollments (\n",
    "    student_id     INTEGER,\n",
    "    course_id      INTEGER,\n",
    "    PRIMARY KEY (student_id, class_id)\n",
    ")\n",
    "''')\n",
    "\n",
    "for \n",
    "\n",
    "\n",
    "conn.commit()\n",
    "\n",
    "```"
   ]
  },
  {
   "cell_type": "code",
   "execution_count": null,
   "id": "continent-jacksonville",
   "metadata": {},
   "outputs": [],
   "source": []
  }
 ],
 "metadata": {
  "kernelspec": {
   "display_name": "Python 3",
   "language": "python",
   "name": "python3"
  },
  "language_info": {
   "codemirror_mode": {
    "name": "ipython",
    "version": 3
   },
   "file_extension": ".py",
   "mimetype": "text/x-python",
   "name": "python",
   "nbconvert_exporter": "python",
   "pygments_lexer": "ipython3",
   "version": "3.7.9"
  }
 },
 "nbformat": 4,
 "nbformat_minor": 5
}
