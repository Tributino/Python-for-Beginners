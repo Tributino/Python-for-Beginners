{
 "cells": [
  {
   "cell_type": "markdown",
   "id": "nearby-ecology",
   "metadata": {},
   "source": [
    "<img src=\"images/lasalle_logo.png\" style=\"width:375px;height:110px;\">"
   ]
  },
  {
   "cell_type": "markdown",
   "id": "split-research",
   "metadata": {},
   "source": [
    "### <h1><center> Week 4 - Assignment </center></h1>\n",
    "\n",
    "<h2><center> WIM250 - Introduction to Scripting Languages</center></h2>\n",
    "<h3><center>Instructor: Ivaldo Tributino</center></h3>\n",
    "\n",
    "**Assignment Instruction**\n",
    "\n",
    "- Assignment must be submitted by __Aug 7, 2025__.\n",
    "- Each problem presents its own score, the sum of all scores is **100**.\n",
    "- **Renamed** the Notebook to your name,\n",
    "- You must submit in PDF format.\n",
    "- Student will receive a maximum extension of five (5) calendar days. A penalty of 10% per day (10% deducted from the eventual percentage allocated to the assignment) will be applied to the late assignment. "
   ]
  },
  {
   "cell_type": "code",
   "execution_count": null,
   "id": "preliminary-abuse",
   "metadata": {},
   "outputs": [],
   "source": [
    "# Run this cell\n",
    "student_name = ''            # assign your name, Ex student_name = 'Ivaldo Tributino' \n",
    "student_number = ''          # assign your student number, student_number = 2523454\n",
    "\n",
    "print('''By attempting this assignment, I, %s, acknowledge that I have read and understand the \n",
    "conduct requirements for this activity, and I understand that submitting another’s \n",
    "work as my own can result in grade zero for this assignment. \n",
    "'''%student_name)\n",
    "\n",
    "from datetime import datetime\n",
    "from pytz import timezone\n",
    "\n",
    "van = timezone('America/Vancouver')\n",
    "datetime_Van = datetime.now(van)\n",
    "\n",
    "print(\"Vancouver time:\", datetime_Van.strftime(\"%c\"))"
   ]
  },
  {
   "cell_type": "markdown",
   "id": "danish-electronics",
   "metadata": {},
   "source": [
    "### (20 points)\n",
    "**1. Use `.split()` method in `st = 'WDIM150/WIM250 : INTROduction TO SCRIPTING LANGUAGES'` to extract the portions of the string, `.upper()` method and `format()` function to obtain:**\n",
    "\n",
    "```\n",
    "****** INTRODUCTION TO SCRIPTING LANGUAGES ******\n",
    "--- WDIM150\n",
    "--- WIM250\n",
    "```"
   ]
  },
  {
   "cell_type": "code",
   "execution_count": null,
   "id": "approved-morocco",
   "metadata": {},
   "outputs": [],
   "source": [
    "st = 'WDIM150/WIM250 : INTROduction TO SCRIPTING LANGUAGES'\n",
    "\n"
   ]
  },
  {
   "cell_type": "markdown",
   "id": "alone-teens",
   "metadata": {},
   "source": [
    "### (20 Points)\n",
    "**2. Open the file `'mbox-short.txt'` find the emails of the lines which start with the prefix `From:` and create a list without duplicates.** "
   ]
  },
  {
   "cell_type": "code",
   "execution_count": 18,
   "id": "phantom-peter",
   "metadata": {},
   "outputs": [
    {
     "name": "stdout",
     "output_type": "stream",
     "text": [
      "{'antranig@caret.cam.ac.uk', 'cwen@iupui.edu', 'ray@media.berkeley.edu', 'gopal.ramasammycook@gmail.com', 'zqian@umich.edu', 'wagnermr@iupui.edu', 'louis@media.berkeley.edu', 'gsilver@umich.edu', 'david.horwitz@uct.ac.za', 'stephen.marquard@uct.ac.za', 'rjlowe@iupui.edu'}\n"
     ]
    }
   ],
   "source": [
    "     "
   ]
  },
  {
   "cell_type": "markdown",
   "id": "documented-compromise",
   "metadata": {},
   "source": [
    "### (60 Points):\n",
    "\n",
    "**3. Create a function where the arguments are a `txt file` and `participant's name`, and the function return the participat entry time `for the first time`(If the participant joined the class), otherwise return `absent`.**\n",
    "\n",
    "To test your code enter **attendance.txt** as the file name and the following participad name:\n",
    "```\n",
    "Amelia\n",
    "```\n",
    "\n",
    "Output:\n",
    "```\n",
    "Amelia joined 1:28:49 PM\n",
    "```\n"
   ]
  },
  {
   "cell_type": "code",
   "execution_count": null,
   "id": "suspected-speaker",
   "metadata": {},
   "outputs": [],
   "source": [
    "# Take a look at the file you are working on to give you ideas to do the exercise. \n"
   ]
  },
  {
   "cell_type": "code",
   "execution_count": null,
   "id": "nominated-blake",
   "metadata": {},
   "outputs": [],
   "source": [
    "def time_joined(txt_file, part_name):\n",
    "    # Write your code here\n"
   ]
  },
  {
   "cell_type": "code",
   "execution_count": null,
   "id": "vital-empire",
   "metadata": {},
   "outputs": [],
   "source": [
    "part_name = '' # Your Name\n",
    "time_joined('attendance.txt', part_name)"
   ]
  },
  {
   "cell_type": "code",
   "execution_count": null,
   "id": "tight-leeds",
   "metadata": {},
   "outputs": [],
   "source": []
  },
  {
   "cell_type": "code",
   "execution_count": null,
   "id": "nominated-headquarters",
   "metadata": {},
   "outputs": [],
   "source": []
  },
  {
   "cell_type": "code",
   "execution_count": null,
   "id": "scenic-nursing",
   "metadata": {},
   "outputs": [],
   "source": []
  }
 ],
 "metadata": {
  "kernelspec": {
   "display_name": "anaconda-2022.05-py39",
   "language": "python",
   "name": "conda-env-anaconda-2022.05-py39-py"
  },
  "language_info": {
   "codemirror_mode": {
    "name": "ipython",
    "version": 3
   },
   "file_extension": ".py",
   "mimetype": "text/x-python",
   "name": "python",
   "nbconvert_exporter": "python",
   "pygments_lexer": "ipython3",
   "version": "3.9.12"
  }
 },
 "nbformat": 4,
 "nbformat_minor": 5
}
