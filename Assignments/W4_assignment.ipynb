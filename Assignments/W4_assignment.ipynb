{
 "cells": [
  {
   "cell_type": "markdown",
   "metadata": {},
   "source": [
    "<img src=\"images/lasalle_logo.png\" style=\"width:375px;height:110px;\">"
   ]
  },
  {
   "cell_type": "markdown",
   "metadata": {},
   "source": [
    "### <h1><center> Week 4 - Assignment </center></h1>\n",
    "\n",
    "<h2><center> WIM250/WDIM150 - Introduction to Scripting Languages</center></h2>\n",
    "<h3><center>Instructor: Ivaldo Tributino</center></h3>\n",
    "\n",
    "**Assignment Instruction**\n",
    "\n",
    "- The assignment must be submitted by **May 01, 2022**.\n",
    "- Each problem presents its own score, the sum of all scores is **100**.\n",
    "- **Renamed** the Notebook to your name,\n",
    "- You must submit your`.ipynb` file."
   ]
  },
  {
   "cell_type": "code",
   "execution_count": null,
   "metadata": {},
   "outputs": [],
   "source": [
    "# Run this cell\n",
    "student_name = ''            # assign your name, Ex student_name = 'Ivaldo Tributino' \n",
    "student_number = ''          # assign your student number, student_number = 2523454\n",
    "\n",
    "print('''By attempting this assignment, I, %s, acknowledge that I have read and understand the \n",
    "conduct requirements for this activity, and I understand that submitting another’s \n",
    "work as my own can result in grade zero for this assignment. \n",
    "'''%student_name)"
   ]
  },
  {
   "cell_type": "markdown",
   "metadata": {},
   "source": [
    "### (10 points)\n",
    "**1. What do the following expressions evaluate to?**\n",
    "\n",
    "\n",
    "- `'Remember, remember, the fifth of November.'.split()`\n",
    "- `'-'.join('There can be only one.'.split())`"
   ]
  },
  {
   "cell_type": "code",
   "execution_count": null,
   "metadata": {},
   "outputs": [],
   "source": []
  },
  {
   "cell_type": "markdown",
   "metadata": {},
   "source": [
    "### (20 points)\n",
    "**2. Use `.split()` method in `st = 'WDIM150/WIM250 : INTROduction TO SCRIPTING LANGUAGES'` to extract the portions of the string, `.upper()` method and `format()` function to obtain:**\n",
    "\n",
    "```\n",
    "****** INTRODUCTION TO SCRIPTING LANGUAGES ******\n",
    "--- WDIM150\n",
    "--- WIM250\n",
    "```"
   ]
  },
  {
   "cell_type": "code",
   "execution_count": null,
   "metadata": {},
   "outputs": [],
   "source": []
  },
  {
   "cell_type": "markdown",
   "metadata": {},
   "source": [
    "### (20 Points)\n",
    "**3. Open the file `'mbox-short.txt'` find the emails of the lines which start with the prefix `From:` and create a list without duplicates.** "
   ]
  },
  {
   "cell_type": "code",
   "execution_count": null,
   "metadata": {},
   "outputs": [],
   "source": []
  },
  {
   "cell_type": "markdown",
   "metadata": {},
   "source": [
    "### (25 Points):\n",
    "\n",
    "**Create a function where the arguments are a `txt file` and the `participant's name`, and the function returns the participat entry time(If the participant joined the class), otherwise returns `absent`.**\n",
    "\n",
    "To test your code enter **attendance.txt** as the file name and the following participad name:\n",
    "```\n",
    "Instructor\n",
    "Student02\n",
    "Student05\n",
    "```\n",
    "\n",
    "Output:\n",
    "```\n",
    "Instructor joined at 1:21:29 PM\n",
    "Student02 Joined at 1:26:31 PM\n",
    "Student05 was absent\n",
    "```"
   ]
  },
  {
   "cell_type": "code",
   "execution_count": null,
   "metadata": {},
   "outputs": [],
   "source": [
    "# Take a look at the file you are working on to give you ideas to do the exercise. \n",
    "with open('attendance.txt') as att:\n",
    "    fread = att.read()\n",
    "print(fread) "
   ]
  },
  {
   "cell_type": "code",
   "execution_count": null,
   "metadata": {},
   "outputs": [],
   "source": [
    "def time_joined(txt_file, part_name):\n",
    "    # Write your code here"
   ]
  },
  {
   "cell_type": "code",
   "execution_count": null,
   "metadata": {},
   "outputs": [],
   "source": [
    "part_name = '' # Your Name\n",
    "time_joined('attendance.txt', part_name)"
   ]
  },
  {
   "cell_type": "markdown",
   "metadata": {},
   "source": [
    "### (25 Points)\n",
    "\n",
    "**5. Table Printer\n",
    "Write a function named `printTable()` that takes a list of lists of strings and displays it in a well-organized table with each column right-justified. Assume that all the inner lists will contain the same number of strings. For example, the value could look like this:**\n",
    "\n",
    "```python\n",
    "\n",
    "tableData = [['apples', 'oranges', 'cherries', 'banana'],\n",
    "             ['Alice', 'Bob', 'Carol', 'David'],\n",
    "             ['dogs', 'cats', 'moose', 'goose']]\n",
    "```\n",
    "\n",
    "Your `printTable()` function would print the following:\n",
    "\n",
    "```\n",
    "  apples Alice  dogs\n",
    " oranges   Bob  cats\n",
    "cherries Carol moose\n",
    "  banana David goose\n",
    "```\n",
    "Hint: your code will first have to find the longest string in each of the inner lists so that the whole column can be wide enough to fit all the strings. You can store the maximum width of each column as a list of integers. The `printTable()` function can begin with `colWidths = [0] * len(tableData)`, which will create a list containing the same number of 0 values as the number of inner lists in tableData. That way, `colWidths[0]` can store the width of the longest string in `tableData[0]`, `colWidths[1]` can store the width of the longest string in `tableData[1]`, and so on. You can then find the largest value in the colWidths list to find out what integer width to pass to the rjust() string method."
   ]
  },
  {
   "cell_type": "code",
   "execution_count": null,
   "metadata": {},
   "outputs": [],
   "source": []
  },
  {
   "cell_type": "code",
   "execution_count": null,
   "metadata": {},
   "outputs": [],
   "source": []
  }
 ],
 "metadata": {
  "kernelspec": {
   "display_name": "Python 3",
   "language": "python",
   "name": "python3"
  },
  "language_info": {
   "codemirror_mode": {
    "name": "ipython",
    "version": 3
   },
   "file_extension": ".py",
   "mimetype": "text/x-python",
   "name": "python",
   "nbconvert_exporter": "python",
   "pygments_lexer": "ipython3",
   "version": "3.7.1"
  }
 },
 "nbformat": 4,
 "nbformat_minor": 5
}
