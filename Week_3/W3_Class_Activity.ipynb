{
 "cells": [
  {
   "cell_type": "markdown",
   "metadata": {},
   "source": [
    "<img src=\"images/lasalle_logo.png\" style=\"width:375px;height:110px;\">\n",
    "<p style=  \"text-align: right; color: blue;\"> WIM250 - Summer 2025</p>"
   ]
  },
  {
   "cell_type": "markdown",
   "metadata": {},
   "source": [
    "# Week 3 – Loops and Iteration\n",
    "\n",
    "### WIM250 - Introduction to Scripting Languages \n",
    "### Instructor: Ivaldo Tributino\n",
    "\n",
    "Sources:\n",
    "- Python for Everybody Exploring Data Using Python 3 Dr. Charles R. Severance"
   ]
  },
  {
   "cell_type": "markdown",
   "metadata": {},
   "source": [
    "## Updating variables\n",
    "\n",
    "A common pattern in assignment statements is an assignment statement that updates a variable, where the new value of the variable depends on the old.\n",
    "\n",
    "Before you can update a variable, you have to initialize it, usually with a simple\n",
    "assignment:"
   ]
  },
  {
   "cell_type": "code",
   "execution_count": null,
   "metadata": {},
   "outputs": [],
   "source": []
  },
  {
   "cell_type": "markdown",
   "metadata": {},
   "source": [
    "Updating a variable by adding 1 is called an increment; subtracting 1 is called a decrement."
   ]
  },
  {
   "cell_type": "markdown",
   "metadata": {},
   "source": [
    "## The `while` statement\n",
    "\n",
    "A `while loop` is a programming concept that, when it's implemented, executes a piece of code over and over again while a given condition still holds true.\n",
    "\n",
    "```python\n",
    "n = 5\n",
    "while n > 0 :\n",
    "    n-=1\n",
    "    print('forever')\n",
    "    print('get me out')\n",
    "print('Free!')\n",
    "```\n",
    "\n",
    "<img src=\"images/while.png\" style=\"width:350px;height:350px;\">"
   ]
  },
  {
   "cell_type": "code",
   "execution_count": null,
   "metadata": {
    "scrolled": true
   },
   "outputs": [],
   "source": []
  },
  {
   "cell_type": "markdown",
   "metadata": {},
   "source": [
    "You can almost read the `while statement` as if it were English. It means, “While `n` is greater than 0, display the strings 'forever' and 'get me out' and then reduce the value of `n` by 1. When you get to 0, exit the while statement and display the word Free!” \n",
    "\n",
    "This type of flow is called a `loop` because the third step loops back around to the top. We call each time we execute the body of the loop an iteration. For the above loop, we would say, “It had five iterations”, which means that the body of the loop was executed five times.\n",
    "\n",
    "The body of the loop should change the value of one or more variables so that eventually the condition becomes `false` and the loop terminates. We call the variable that changes each time the loop executes and controls when the loop finishes the iteration variable. If there is no iteration variable, the loop will repeat forever, resulting in an `infinite loop`, example:\n",
    "\n",
    "```python\n",
    "n = 5\n",
    "while n > 0 :\n",
    "    print('forever')\n",
    "    print('get me out')\n",
    "print('Free!')\n",
    "```\n",
    "\n",
    "This `loop` above is obviously an `infinite loop` because the logical expression on the while statement is constant `True`, `n>0`. Let's see another example:"
   ]
  },
  {
   "cell_type": "code",
   "execution_count": null,
   "metadata": {},
   "outputs": [],
   "source": []
  },
  {
   "cell_type": "markdown",
   "metadata": {},
   "source": [
    "## Break and Continue Statement\n",
    "\n",
    "The `loop condition` is True, which is always true, so the loop runs repeatedly until it hits the `break statement`. Use the `break statement` to exit the loop. Sometimes, you don't want to leave the loop, but just end the current iteration and immediately jump to the next iteration. In that case you can use the `continue statement` to skip to the next iteration without finishing the body of the loop for the current iteration.\n",
    "\n",
    "Here is an example of a loop that copies its input until the user types “done”, but treats lines that start with the hash character as lines not to be printed. \n",
    "\n",
    "```python\n",
    "\n",
    "while True: \n",
    "    line = input('> ')\n",
    "    if line[0] == '#' :\n",
    "        continue\n",
    "    if line == 'done' :\n",
    "        break\n",
    "    print(line)\n",
    "print('Done!')\n",
    "\n",
    "```\n",
    "\n",
    "<img src=\"images/bc_statement.png\" style=\"width:350px;height:325px;\">"
   ]
  },
  {
   "cell_type": "code",
   "execution_count": null,
   "metadata": {},
   "outputs": [],
   "source": []
  },
  {
   "cell_type": "markdown",
   "metadata": {},
   "source": [
    "All the lines are printed except the one that starts with the hash sign because when the continue is executed, it ends the current iteration and jumps back to the while statement to start the next iteration, thus skipping the print statement."
   ]
  },
  {
   "cell_type": "markdown",
   "metadata": {},
   "source": [
    "### Let's integrate a __while loop__ to upgrade the code from the previous week.\n",
    "\n",
    "```python\n",
    "# Ask the user to input a temperature in Fahrenheit\n",
    "temp_f_input = input(\"Enter the temperature in Fahrenheit: \")\n",
    "\n",
    "try:\n",
    "    # Try to convert the input to a float\n",
    "    # This will succeed if the user enters a valid number (e.g., 98.6)\n",
    "    temp_f = float(temp_f_input)\n",
    "except ValueError:\n",
    "    # If the input is not a valid number (e.g., \"abc\"), a ValueError will occur\n",
    "    # This block handles the error and informs the user\n",
    "    print(\"Invalid input. Please enter a numeric value.\")\n",
    "else:\n",
    "    # If no error occurred, proceed with the conversion\n",
    "    temp_c = (temp_f - 32) * 5 / 9\n",
    "    temp_c = round(temp_c, 2)  # Round to 2 decimal places\n",
    "    print(f\"In Celsius: {temp_c}°C\")\n",
    "```    "
   ]
  },
  {
   "cell_type": "code",
   "execution_count": null,
   "metadata": {},
   "outputs": [],
   "source": []
  },
  {
   "cell_type": "markdown",
   "metadata": {},
   "source": [
    "Updated code with a `while loop` that keeps asking the user for input until they enter a valid numeric value, and eliminate the need for the if-else statement and the round function."
   ]
  },
  {
   "cell_type": "code",
   "execution_count": null,
   "metadata": {},
   "outputs": [],
   "source": [
    "# Loop until the user enters a valid number\n",
    "while True:\n",
    "    temp_f_input = \n",
    "\n",
    "    try:\n",
    "        # Try to convert the input to a float\n",
    "        temp_f = \n",
    "        break  # Exit the loop if conversion is successful\n",
    "    except ValueError:\n",
    "        # Handle the error if input is not a valid number\n",
    "        print(\"Invalid input. Please enter a numeric value.\")\n",
    "\n",
    "# Convert Fahrenheit to Celsius\n",
    "temp_c = \n",
    "\n",
    "# Display the result using f-string formatting to 2 decimal places\n",
    "print()"
   ]
  },
  {
   "cell_type": "markdown",
   "metadata": {},
   "source": [
    "## Definite loops using `for`\n",
    "\n",
    "Sometimes we want to loop through a group of things such as a list of words, the lines in a file, or a list of numbers. When we have a list of things to loop through, we can construct a definite loop using a `for statement`. We call the `while statement` an `indefinite loop` because it simply loops until some condition becomes False, whereas the `for loop` is looping through a known group of items so it runs through as many iterations as there are items in the group. Example:"
   ]
  },
  {
   "cell_type": "code",
   "execution_count": null,
   "metadata": {},
   "outputs": [],
   "source": [
    "friends = ['Lewis', 'Chesterton', 'St Thomas ', 'St Joseph', 'Faustina Kowalska']\n",
    "for friend in friends: \n",
    "    print('Happy New Year:', friend)\n",
    "print('Done!')"
   ]
  },
  {
   "cell_type": "markdown",
   "metadata": {},
   "source": [
    "In particular, friend is the `iteration variable` for the for loop. The variable friend changes for each iteration of the loop and controls when the for loop completes. The `iteration variable` steps successively through the strings stored in the friends list."
   ]
  },
  {
   "cell_type": "markdown",
   "metadata": {},
   "source": [
    "## Making “smart” loops\n",
    "\n",
    "\n",
    "- Initializing one or more variables before the loop starts\n",
    "- Performing some computation on each item in the loop body, possibly changing the variables in the body of the loop\n",
    "- Looking at the resulting variables when the loop completes\n",
    "\n",
    "### Counting and summing loops\n",
    "\n",
    "For example, to count the number of items in a list, we would write the following for loop where the variable count to zero before the loop starts, then we write a for loop to run through the list. "
   ]
  },
  {
   "cell_type": "code",
   "execution_count": null,
   "metadata": {},
   "outputs": [],
   "source": [
    "count = 0\n",
    "for idx in ['apple', 'banana','2', 'rice', 'coffee', '3','milk', 'bread', '5', '7']:\n",
    "    if idx.isnumeric() == True:\n",
    "        count +=1 # or count +=1\n",
    "print('Count: ', count)"
   ]
  },
  {
   "cell_type": "markdown",
   "metadata": {},
   "source": [
    "Another similar loop that calculates the sum of the numbers in the set as follows:"
   ]
  },
  {
   "cell_type": "code",
   "execution_count": null,
   "metadata": {},
   "outputs": [],
   "source": [
    "s = 0 # sum\n",
    "for num in [3, 7, 4, 6, 8, 2, 5]:\n",
    "    s = s + num # or s +=num     \n",
    "    print(s,num)\n",
    "print('Total: ', s)"
   ]
  },
  {
   "cell_type": "markdown",
   "metadata": {},
   "source": [
    "Let's use `for loop` to find the largest value in a list of integers. like the following `[1, 4, 74, 56, 89, 27, 5, 200, 2000]`."
   ]
  },
  {
   "cell_type": "code",
   "execution_count": null,
   "metadata": {},
   "outputs": [],
   "source": [
    "largest = None # None is a special constant value which we can store in a variable to mark the variable as “empty”.\n",
    "\n",
    "# Before the loop starts, the largest value we have seen so far is None since we have not yet seen any values.\n",
    "\n",
    "for current in [1, 4, 74, 56, 89, 27, 5, 200, 2000]:\n",
    "    print(largest, current)\n",
    "    if largest is None:        # The `is` keyword is used to test if two variables refer to the same object.\n",
    "        largest = current      # set `largest` to be the first element of the list.\n",
    "    elif current > largest: \n",
    "        largest = current      # When we see a new “even larger” value we take that new value for largest.\n",
    "print('Largest:', largest) "
   ]
  },
  {
   "cell_type": "markdown",
   "metadata": {},
   "source": [
    "Let's now compute the smallest number, the code is very similar with one small change:"
   ]
  },
  {
   "cell_type": "code",
   "execution_count": null,
   "metadata": {},
   "outputs": [],
   "source": [
    "smallest = None\n",
    "for current in [1, 4, 74, 56, 89, 27, 5, 200, 2000, 5]:\n",
    "    print(smallest, current)\n",
    "    if smallest is None or smallest > current:        # The `is` keyword is used to test if two variables refer to the same object.\n",
    "        smallest = current      # set `largest` to be the first element of the list.\n",
    "print('smallest:', smallest) "
   ]
  },
  {
   "cell_type": "markdown",
   "metadata": {},
   "source": [
    "## Exercises\n",
    "\n",
    "### Exercise 1: Number Analyzer\n",
    "\n",
    "Write a Python program that:\n",
    "\n",
    "1. **Repeatedly asks the user to enter a number.**\n",
    "2. If the user types **`done`**, the program should stop asking for input.\n",
    "3. If the user enters a **valid number**, the program should:\n",
    "   - Add it to a running **total**\n",
    "   - Keep track of how many numbers were entered\n",
    "4. If the user enters **something that is not a number**, the program should:\n",
    "   - Show an **error message**\n",
    "   - Skip that input and continue asking for numbers\n",
    "5. When the user types `done`, the program should display:\n",
    "   - The **total** of all valid numbers\n",
    "   - The **count** of valid numbers entered\n",
    "   - The **average** of those numbers (rounded to 2 decimal places)\n",
    "\n",
    "---\n",
    "\n",
    "### Example Output:\n",
    "\n",
    "Enter a number: 10\\\n",
    "Enter a number: 5.5\\\n",
    "Enter a number: hello\\\n",
    "Invalid input. Please enter a numeric value.\\\n",
    "Enter a number: 3\\\n",
    "Enter a number: done\n",
    "\n",
    "Total: 18.5\\\n",
    "Count: 3\\\n",
    "Average: 6.17"
   ]
  },
  {
   "cell_type": "code",
   "execution_count": null,
   "metadata": {},
   "outputs": [],
   "source": [
    "  "
   ]
  },
  {
   "cell_type": "markdown",
   "metadata": {},
   "source": [
    "### Exercise 2: Find the Maximum and Minimum\n",
    "\n",
    "Write a Python program that:\n",
    "\n",
    "1. **Repeatedly asks the user to enter a number.**\n",
    "2. If the user types **`done`**, the program should stop asking for input.\n",
    "3. If the user enters a **valid number**, the program should:\n",
    "   - Add it to a list of numbers\n",
    "4. If the user enters **something that is not a number**, the program should:\n",
    "   - Show an **error message**\n",
    "   - Skip that input and continue asking for numbers\n",
    "5. When the user types `done`, the program should display:\n",
    "   - The **maximum** number entered\n",
    "   - The **minimum** number entered\n",
    "\n",
    "---\n",
    "\n",
    "### Example Output:\n",
    "Enter a number: 10\\\n",
    "Enter a number: 3.5\\\n",
    "Enter a number: hello\\\n",
    "Invalid input. Please enter a numeric value.\\\n",
    "Enter a number: 7\\\n",
    "Enter a number: done\n",
    "\n",
    "Maximum: 10.0\n",
    "Minimum: 3.5\n"
   ]
  },
  {
   "cell_type": "code",
   "execution_count": null,
   "metadata": {},
   "outputs": [],
   "source": []
  },
  {
   "cell_type": "markdown",
   "metadata": {},
   "source": [
    "### Exercise 3: Print Even Numbers from a List\n",
    "\n",
    "Write a Python program that:\n",
    "\n",
    "- Takes a given list of numbers\n",
    "- Prints a new list containing **only the even numbers**\n",
    "\n",
    "---\n",
    "\n",
    "### Sample List:\n",
    "```python\n",
    "[1, 2, 3, 4, 5, 6, 7, 8, 9]\n",
    "```\n",
    "Expected Result:\n",
    "```python\n",
    "[2, 4, 6, 8]\n",
    "```"
   ]
  },
  {
   "cell_type": "code",
   "execution_count": null,
   "metadata": {},
   "outputs": [],
   "source": []
  },
  {
   "cell_type": "code",
   "execution_count": null,
   "metadata": {},
   "outputs": [],
   "source": []
  }
 ],
 "metadata": {
  "kernelspec": {
   "display_name": "anaconda-2022.05-py39",
   "language": "python",
   "name": "conda-env-anaconda-2022.05-py39-py"
  },
  "language_info": {
   "codemirror_mode": {
    "name": "ipython",
    "version": 3
   },
   "file_extension": ".py",
   "mimetype": "text/x-python",
   "name": "python",
   "nbconvert_exporter": "python",
   "pygments_lexer": "ipython3",
   "version": "3.9.12"
  }
 },
 "nbformat": 4,
 "nbformat_minor": 4
}
