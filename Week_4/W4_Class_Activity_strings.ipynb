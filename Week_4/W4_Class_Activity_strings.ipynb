{
 "cells": [
  {
   "cell_type": "markdown",
   "metadata": {},
   "source": [
    "<img src=\"images/lasalle_logo.png\" style=\"width:375px;height:110px;\">"
   ]
  },
  {
   "cell_type": "markdown",
   "metadata": {},
   "source": [
    "# Week 4 – Strings\n",
    "\n",
    "### WIM250 - Introduction to Scripting Languages \n",
    "### Instructor: Ivaldo Tributino\n",
    "\n",
    "Source:\n",
    "\n",
    "- Automate the boring stuff with Python: practical programming for total beginners by Sweigart, A.\n",
    "- Python Cookbook, 3rd Edition by David Beazley and Brian K. Jones\n",
    "- Python for Everybody Exploring Data Using Python 3 by Dr. Charles R. Severance"
   ]
  },
  {
   "cell_type": "markdown",
   "metadata": {},
   "source": [
    "## A string is a sequence\n",
    "\n",
    "```python\n",
    "college = 'LASALLE COLLEGE'\n",
    "```\n",
    "\n",
    "<img src=\"images/lasalle_college.png\" style=\"width:475px;height:100px;\">\n",
    "\n",
    "You can access the characters one at a time with the bracket operator:\n",
    "\n",
    "```python\n",
    "letter = college[0]\n",
    "print(letter)\n",
    "L\n",
    "```\n",
    "\n",
    "The expression in brackets is called an `index`. The `index` indicates which character in the sequence you want.\n",
    "\n",
    "**Observation:** In python lists are `0-indexed`. So the first element is `0`, second is `1`, so on. So if the there are `n` elements in a list, the last element is `n-1`. Remember this!\n"
   ]
  },
  {
   "cell_type": "code",
   "execution_count": null,
   "metadata": {},
   "outputs": [],
   "source": [
    "college = 'LASALLE COLLEGE'\n",
    "idx = 4\n",
    "letter = college[idx]\n",
    "print(letter)"
   ]
  },
  {
   "cell_type": "markdown",
   "metadata": {},
   "source": [
    "## Multiline Strings with Triple Quotes / Multiline Comments\n",
    "\n",
    "A multiline string in Python begins and ends with either three single quotes or three double quotes. While double quotes are used for comments that span multiple lines. "
   ]
  },
  {
   "cell_type": "code",
   "execution_count": null,
   "metadata": {},
   "outputs": [],
   "source": [
    "take_a_tour = '''LaSalle College Vancouver is located in an 80,000-square-foot, \n",
    "state-of-the-art learning space. \n",
    "Our modern learning facilities have everything you need to train on real-world \n",
    "equipment and technology.\n",
    "'''\n",
    "\n",
    "\"\"\"Join us for our upcoming Virtual and In-person Open House to learn about \n",
    "our different schools, available programs, creative careers, and cutting-edge \n",
    "online and on-campus facilities!\n",
    "\"\"\"\n",
    "\n",
    "print(take_a_tour)"
   ]
  },
  {
   "cell_type": "markdown",
   "metadata": {},
   "source": [
    "## Getting the length of a string using `len`\n",
    "\n",
    "Do you remember the built-in function `len()`? We can use it to get the number of characters in a string:"
   ]
  },
  {
   "cell_type": "code",
   "execution_count": null,
   "metadata": {},
   "outputs": [],
   "source": [
    "length = len(college)\n",
    "length"
   ]
  },
  {
   "cell_type": "code",
   "execution_count": null,
   "metadata": {},
   "outputs": [],
   "source": [
    "i=0\n",
    "while i < length:\n",
    "    letter = college[i]\n",
    "    i = i + 1               # Increment\n",
    "    print(letter, end =\" \") # end =\" \", printing a element in same line \n",
    "\n",
    "print()    \n",
    "\n",
    "#Can we use for loop?\n",
    "\n",
    "for letter in college:\n",
    "    print(letter, end = \" \") "
   ]
  },
  {
   "cell_type": "markdown",
   "metadata": {},
   "source": [
    "If we execute a cell with the following code, we will receive a Traceback. What is the reason for the error?\n",
    "\n",
    "```python\n",
    "college[length]\n",
    "\n",
    "```"
   ]
  },
  {
   "cell_type": "code",
   "execution_count": null,
   "metadata": {},
   "outputs": [],
   "source": [
    "try:\n",
    "    x = college[length]\n",
    "    print(x)\n",
    "except:\n",
    "    print('What is the reason for the Traceback?')"
   ]
  },
  {
   "cell_type": "markdown",
   "metadata": {},
   "source": [
    "If you what to know the `last` letter of a string you can use the `negative indices`, which count `backward` from the end of the string."
   ]
  },
  {
   "cell_type": "code",
   "execution_count": null,
   "metadata": {},
   "outputs": [],
   "source": [
    "college[-1]"
   ]
  },
  {
   "cell_type": "markdown",
   "metadata": {},
   "source": [
    "**Exercise 1:** Write a `while loop` that starts at the `last character` in the string and works its way `backwards` to the first character in the string, printing each letter on a separate line.\n",
    "\n",
    "Output:\n",
    "```\n",
    "E\n",
    "G\n",
    "E\n",
    "L\n",
    "L\n",
    "O\n",
    "C\n",
    " \n",
    "E\n",
    "L\n",
    "L\n",
    "A\n",
    "S\n",
    "A\n",
    "L\n",
    "```\n"
   ]
  },
  {
   "cell_type": "code",
   "execution_count": null,
   "metadata": {},
   "outputs": [],
   "source": [
    "i=-1\n",
    "while i >= -length: # -15\n",
    "    letter = college[i]\n",
    "    i -=1               # Increment \n",
    "    print(letter) "
   ]
  },
  {
   "cell_type": "markdown",
   "metadata": {},
   "source": [
    "## String slices\n",
    "\n",
    "The operator returns the part of the string from the `n-th` character to the `m-th` character, `including the first` but `excluding the last`.\n",
    "\n",
    "If you` omit the first` index (before the colon), the slice `starts at the beginning` of the string. If you `omit the second` index, the slice `goes to the end` of the string:\n"
   ]
  },
  {
   "cell_type": "code",
   "execution_count": null,
   "metadata": {},
   "outputs": [],
   "source": [
    "college[0:7] # omitting the first Lasalle college"
   ]
  },
  {
   "cell_type": "code",
   "execution_count": null,
   "metadata": {},
   "outputs": [],
   "source": [
    "college[8:] # omitting the second"
   ]
  },
  {
   "cell_type": "markdown",
   "metadata": {},
   "source": [
    "If the first index is greater than or equal to the second the result is an `empty` string, represented by two quotation marks:"
   ]
  },
  {
   "cell_type": "code",
   "execution_count": null,
   "metadata": {},
   "outputs": [],
   "source": [
    "college[0:0]"
   ]
  },
  {
   "cell_type": "code",
   "execution_count": null,
   "metadata": {},
   "outputs": [],
   "source": [
    "college[9:8]"
   ]
  },
  {
   "cell_type": "markdown",
   "metadata": {},
   "source": [
    "**Exercise 2:** Since college is a string, what does `college[:]` mean?"
   ]
  },
  {
   "cell_type": "code",
   "execution_count": null,
   "metadata": {},
   "outputs": [],
   "source": [
    "college[:]"
   ]
  },
  {
   "cell_type": "markdown",
   "metadata": {},
   "source": [
    "## Looping and counting"
   ]
  },
  {
   "cell_type": "markdown",
   "metadata": {},
   "source": [
    "It is tempting to use the operator on the left side of an assignment, with the intention of `changing` or `add` a character in a string. For example:"
   ]
  },
  {
   "cell_type": "code",
   "execution_count": null,
   "metadata": {},
   "outputs": [],
   "source": [
    "try:\n",
    "    college[0] = 'l'  # also college[15] = 'V'\n",
    "except:\n",
    "    print('str object does not support item assignment')"
   ]
  },
  {
   "cell_type": "markdown",
   "metadata": {},
   "source": [
    "The reason for the error is that `strings are immutable`, which means you can’t change an existing string. The best you can do is create a new string that is a variation on the original:"
   ]
  },
  {
   "cell_type": "code",
   "execution_count": null,
   "metadata": {},
   "outputs": [],
   "source": [
    "college = 'LASALLE COLLEGE'\n",
    "print(college)\n",
    "college = college + ' VANCOUVER' # concatenates\n",
    "print(college)"
   ]
  },
  {
   "cell_type": "markdown",
   "metadata": {},
   "source": [
    "Let's count the number of times the letter \"A\" appears in the string  college:"
   ]
  },
  {
   "cell_type": "code",
   "execution_count": null,
   "metadata": {},
   "outputs": [],
   "source": [
    "count = 0\n",
    "for letter in college:\n",
    "    if letter == 'a':\n",
    "        count +=1\n",
    "print(count)        "
   ]
  },
  {
   "cell_type": "markdown",
   "metadata": {},
   "source": [
    "**Exercise 3:** Encapsulate this code in a function named count, and generalize it so that it accepts the string and the letter as arguments."
   ]
  },
  {
   "cell_type": "code",
   "execution_count": null,
   "metadata": {},
   "outputs": [],
   "source": [
    "def count(letter, string):\n",
    "    count = 0\n",
    "    for l in string:\n",
    "        if l == letter:\n",
    "            count+=1\n",
    "    return count "
   ]
  },
  {
   "cell_type": "code",
   "execution_count": null,
   "metadata": {},
   "outputs": [],
   "source": [
    "count('a', college)"
   ]
  },
  {
   "cell_type": "code",
   "execution_count": null,
   "metadata": {},
   "outputs": [],
   "source": [
    "count('A', college)"
   ]
  },
  {
   "cell_type": "markdown",
   "metadata": {},
   "source": [
    "Python does not handle `uppercase` and `lowercase` letters the same way that people do. All the uppercase letters come before all the lowercase letters, so:\n",
    "\n",
    "```\n",
    "'Z' < 'a'\n",
    "```"
   ]
  },
  {
   "cell_type": "code",
   "execution_count": null,
   "metadata": {},
   "outputs": [],
   "source": [
    "'Z' < 'a'"
   ]
  },
  {
   "cell_type": "code",
   "execution_count": null,
   "metadata": {},
   "outputs": [],
   "source": [
    "'a' < 'b'"
   ]
  },
  {
   "cell_type": "code",
   "execution_count": null,
   "metadata": {},
   "outputs": [],
   "source": [
    "'Lasalle' < 'LAsalle'"
   ]
  },
  {
   "cell_type": "code",
   "execution_count": null,
   "metadata": {},
   "outputs": [],
   "source": [
    "##Built-in function that builds a new sorted list from an iterable.\n",
    "sorted('Lasalle') "
   ]
  },
  {
   "cell_type": "markdown",
   "metadata": {},
   "source": [
    "## String methods\n",
    "\n",
    "Strings are an example of Python `objects`. An object contains both data (the actual string itself) and `methods`, which are effectively `functions` that are `built into the object`. \n",
    "\n",
    "Calling a `method` is similar to calling a `function` (it takes arguments and returns a value) but the syntax is different. We call a method by appending the method name to the variable name using the period as a delimiter.\n",
    "\n",
    "Example:\n",
    "\n",
    "`str.capitalize()`\n",
    "Return a copy of the string with its first character capitalized and the rest lowercased.\n",
    "\n",
    "Source of documentation for string methods would be: https://docs.python.org/library/stdtypes.html#string-methods."
   ]
  },
  {
   "cell_type": "code",
   "execution_count": null,
   "metadata": {},
   "outputs": [],
   "source": [
    "# The empty parentheses indicate that this method takes no argument.\n",
    "\n",
    "'ivaldo'.capitalize()"
   ]
  },
  {
   "cell_type": "markdown",
   "metadata": {},
   "source": [
    "Another example, the method `upper()` takes a string and returns a new string with all `uppercase` letters:\n",
    "Instead of the function syntax `upper(str)`, it uses the method syntax `str.upper()`. "
   ]
  },
  {
   "cell_type": "code",
   "execution_count": null,
   "metadata": {},
   "outputs": [],
   "source": [
    "'lasalle'.upper()"
   ]
  },
  {
   "cell_type": "markdown",
   "metadata": {},
   "source": [
    "Let's a method that takes argument, for example, the string method named `find` that searches for the position of one string within another:\n",
    "\n",
    "<img src=\"images/lasalle_college.png\" style=\"width:475px;height:100px;\">"
   ]
  },
  {
   "cell_type": "code",
   "execution_count": null,
   "metadata": {},
   "outputs": [],
   "source": [
    "college.find(\"a\")"
   ]
  },
  {
   "cell_type": "code",
   "execution_count": null,
   "metadata": {},
   "outputs": [],
   "source": [
    "x = college.find(\"SALLE\")\n",
    "college[x:]"
   ]
  },
  {
   "cell_type": "code",
   "execution_count": null,
   "metadata": {},
   "outputs": [],
   "source": [
    "# It can take as a second argument the index where it should start:\n",
    "college.find(\"L\", 12)"
   ]
  },
  {
   "cell_type": "markdown",
   "metadata": {},
   "source": [
    "One common task is to remove white space (spaces, tabs, or newlines) from the beginning and end of a string using the `strip` method:\n"
   ]
  },
  {
   "cell_type": "code",
   "execution_count": null,
   "metadata": {},
   "outputs": [],
   "source": [
    "' WIM250 '.strip()"
   ]
  },
  {
   "cell_type": "markdown",
   "metadata": {},
   "source": [
    "Some methods such as `startswith()`, `isuppper()` and `islower()` return boolean values. There are several string methods that have names beginning with the word `is`. These methods return a Boolean value that describes the nature of the string. Here are some common `is-string` methods:\n",
    "\n",
    "- `isalpha()` returns True if the string consists only of letters and not blank.\n",
    "- `isalnum()` returns True if the string consists only of letters and numbers and not blank.\n",
    "- `isdecimal()` returns True if the string consists only of numeric characters and is not blank.\n",
    "- `isspace()` returns True if the string consists only of spaces, tabs, and newlines is not blank.\n",
    "- `istitle()` returns True if the string consists only of words that begin with an uppercase letter followed by only lowercase latters."
   ]
  },
  {
   "cell_type": "code",
   "execution_count": null,
   "metadata": {},
   "outputs": [],
   "source": [
    "'Lasalle'.startswith('l')"
   ]
  },
  {
   "cell_type": "code",
   "execution_count": null,
   "metadata": {},
   "outputs": [],
   "source": [
    "'lasalle'.startswith('l')"
   ]
  },
  {
   "cell_type": "code",
   "execution_count": null,
   "metadata": {},
   "outputs": [],
   "source": [
    "'lasalle'.islower()"
   ]
  },
  {
   "cell_type": "code",
   "execution_count": null,
   "metadata": {},
   "outputs": [],
   "source": [
    "college.isupper()"
   ]
  },
  {
   "cell_type": "markdown",
   "metadata": {},
   "source": [
    "**Exercise 4:** There is a string method called `count` that is similar to the function in the previous exercise. Let's see it below."
   ]
  },
  {
   "cell_type": "code",
   "execution_count": null,
   "metadata": {},
   "outputs": [],
   "source": [
    "letter = \"A\"\n",
    "start = 1          # range [start, end]\n",
    "end = 20\n",
    "college.count(letter, start, end)"
   ]
  },
  {
   "cell_type": "markdown",
   "metadata": {},
   "source": [
    "## Format operator\n",
    "\n",
    "The format operator, `%` allows us to construct strings, replacing parts of the strings with the data stored in variables. When applied to integers, `%` is the modulus operator. But when the first operand is a string, `%` is the format operator.\n",
    "The first operand is the format string, which contains one or more format sequences that specify how the second operand is formatted. The result is a string.\n",
    "\n",
    "The following example uses `%d` to format an integer, `%g` to format a floating-point number `(don’t ask why)`, and `%s` to format a string:\n"
   ]
  },
  {
   "cell_type": "code",
   "execution_count": null,
   "metadata": {},
   "outputs": [],
   "source": [
    "'For %d years, I have eaten %g hamburgers at %s a year' % (10, 0.5, 'McDonalds')"
   ]
  },
  {
   "cell_type": "markdown",
   "metadata": {},
   "source": [
    "## Justifying Text with `rjust()`, `ljust()` and `center()`\n",
    "\n",
    "String methods return a padded version of the string they are called on, with spaces inserted to justify the text."
   ]
  },
  {
   "cell_type": "code",
   "execution_count": null,
   "metadata": {},
   "outputs": [],
   "source": [
    "c_college = college.center(40, '*') # string.center(length, character)\n",
    "r_college = college.rjust(40, '&')\n",
    "l_college = college.ljust(40, '*')\n",
    "\n",
    "print(c_college)\n",
    "print(r_college)\n",
    "print(l_college)"
   ]
  },
  {
   "cell_type": "markdown",
   "metadata": {},
   "source": [
    "There methods are specially useful when you need to print tabular data that has the correct spacing. Run the following code:"
   ]
  },
  {
   "cell_type": "code",
   "execution_count": null,
   "metadata": {},
   "outputs": [],
   "source": [
    "def printPicnic(itemsDict, leftWidth, rightWidth):\n",
    "    print('PICNIC ITEMS'.center(leftWidth + rightWidth, '-'))\n",
    "    for k, v in itemsDict.items():\n",
    "        print(k.ljust(leftWidth, '.') + str(v).rjust(rightWidth)) \n",
    "        "
   ]
  },
  {
   "cell_type": "code",
   "execution_count": null,
   "metadata": {},
   "outputs": [],
   "source": [
    "picnicItems = {'sandwiches': 4, 'apples': 12, 'cups': 4, 'cookies': 8000}\n",
    "printPicnic(picnicItems, 12, 5)"
   ]
  },
  {
   "cell_type": "markdown",
   "metadata": {},
   "source": [
    "**Exercise 5**: Through the string below:\n",
    "\n",
    "str = 'WDIM150/WIM250 : INTROduction TO SCRIPTING LANGUAGES'\n",
    "\n",
    "Use `find` and string `slicing` to extract the portion of the string after the slash and colon character and then use the `upper()`, `ljust()` and `center()`methods to print:\n",
    "\n",
    "```\n",
    "****** INTRODUCTION TO SCRIPTING LANGUAGES ******\n",
    "--- WDIM150\n",
    "--- WIM250\n",
    "\n",
    "```"
   ]
  },
  {
   "cell_type": "code",
   "execution_count": null,
   "metadata": {},
   "outputs": [],
   "source": [
    "st = 'WDIM150/WIM250 : INTROduction TO SCRIPTING LANGUAGES'\n",
    "\n",
    "slash = st.find('/')           # 7    \n",
    "c1 = st[:slash]               # WDIM150\n",
    "c2 = st[slash+1:slash+7]      # WIM250\n",
    "\n",
    "c1 = c1.rjust(len(c1)+1).rjust(len(c1)+4,'-')   # --- WDIM150\n",
    "c2 = c2.rjust(len(c2)+1).rjust(len(c2)+4,'-')   # --- WIM250\n",
    "\n",
    "colon = st.find(':')                         #15\n",
    "name = st[colon+2:].upper()                 # INTRODUCTION TO SCRIPTING LANGUAGES           \n",
    "name = name.center(len(name)+2)             # \" INTRODUCTION TO SCRIPTING LANGUAGES \"  \n",
    "name = name.center(len(name)+12,'*')        # ****** INTRODUCTION TO SCRIPTING LANGUAGES ******\n",
    "\n",
    "print(name)\n",
    "print(c1)\n",
    "print(c2)"
   ]
  },
  {
   "cell_type": "markdown",
   "metadata": {},
   "source": [
    "For the above exercise, `.split()` can be used instead of string slice, and the `format()` function can also be used to easily align things. All you need to do is use the` <, >,` or `^` characters along with a desired width. For example:"
   ]
  },
  {
   "cell_type": "code",
   "execution_count": null,
   "metadata": {},
   "outputs": [],
   "source": [
    "course = st.split(':')\n",
    "name = course[1].upper() \n",
    "name = format(name, '<{length}'.format(length = len(name)+1))\n",
    "name = format(name, '*^{length}'.format(length = len(name)+12))\n",
    "name"
   ]
  },
  {
   "cell_type": "code",
   "execution_count": null,
   "metadata": {},
   "outputs": [],
   "source": []
  },
  {
   "cell_type": "code",
   "execution_count": null,
   "metadata": {},
   "outputs": [],
   "source": []
  }
 ],
 "metadata": {
  "kernelspec": {
   "display_name": "Python 3",
   "language": "python",
   "name": "python3"
  },
  "language_info": {
   "codemirror_mode": {
    "name": "ipython",
    "version": 3
   },
   "file_extension": ".py",
   "mimetype": "text/x-python",
   "name": "python",
   "nbconvert_exporter": "python",
   "pygments_lexer": "ipython3",
   "version": "3.7.1"
  }
 },
 "nbformat": 4,
 "nbformat_minor": 4
}
