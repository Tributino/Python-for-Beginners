{
 "cells": [
  {
   "cell_type": "markdown",
   "metadata": {},
   "source": [
    "<img src=\"images/lasalle_logo.png\" style=\"width:375px;height:110px;\">\n",
    "<p style=  \"text-align: right; color: blue;\"> WIM250 - Summer 2025</p>"
   ]
  },
  {
   "cell_type": "markdown",
   "metadata": {},
   "source": [
    "# Week 4 – Files\n",
    "\n",
    "### WIM250 - Introduction to Scripting Languages \n",
    "### Instructor: Ivaldo Tributino\n",
    "\n",
    "Sources:\n",
    "\n",
    "- Automate the boring stuff with Python: practical programming for total beginners by Sweigart, A.\n",
    "- Python for Everybody Exploring Data Using Python 3 by Dr. Charles R. Severance\n",
    "\n"
   ]
  },
  {
   "cell_type": "markdown",
   "metadata": {},
   "source": [
    "## Indroduction\n",
    "\n",
    "Variables are a fine way to store data while your program is running, but if you want your data persist even after your program has finished, you need to save it to a `file`. You can think of a file's contents as a single string value, pontentially gigabytes in size.\n",
    "\n",
    "We will primarily focus on reading and writing text files such as those we create in a text editor. Later we will see how to work with database files which are binary files, specifically designed to be read and written through database software.\n",
    "\n",
    "## Opening files\n",
    "\n",
    "When we want to `read` or `write` a file (say on your hard drive), we first must `open` the file. Opening the file communicates with your operating system, which knows where the data for each file is stored. When you open a file, you are asking the operating system to find the file by name and make sure the file exists. In this example, we open the file `mbox.txt`, which should be stored in the same folder that as this notebook."
   ]
  },
  {
   "cell_type": "code",
   "execution_count": null,
   "metadata": {},
   "outputs": [],
   "source": [
    "fhand = open('mbox.txt')\n",
    "print(fhand) \n",
    "type(fhand)"
   ]
  },
  {
   "cell_type": "markdown",
   "metadata": {},
   "source": [
    "If the open is successful, the operating system returns us a `file handle`. The `file handle` is not the actual data contained in the file, but instead it is a “handle” that we can use to read the data. You are given a handle if the requested file exists and you have the proper permissions to read the file.\n",
    "\n",
    "**TextIOWrapper** provides methods and attributes which helps us to read or write data to and from the file."
   ]
  },
  {
   "cell_type": "markdown",
   "metadata": {},
   "source": [
    "## Text files and lines\n",
    "\n",
    "We are going to work with two files:\n",
    "\n",
    "The entire file of mail interactions named `mbox.txt` and a shortened version of the file named `mbox-short.txt`. \n",
    "\n",
    "These files are in a standard format for a file containing multiple mail messages. The lines which start with “From” separate the messages and the lines which start with “From:” are part of the messages. For more information about the mbox format, see https://en.wikipedia.org/wiki/Mbox.\n",
    "\n",
    "To break the file into lines, there is a special character that represents the “end of the line” called the `newline` character.\n",
    "\n",
    "In Python, we represent the `newline` character as `\\n`. Even though this looks like two characters, it is actually a single character. \n",
    "\n",
    "<img src=\"images/newline.png\" style=\"width:100px;height:90px;\">\n"
   ]
  },
  {
   "cell_type": "code",
   "execution_count": null,
   "metadata": {},
   "outputs": [],
   "source": [
    "college = 'LASALLE COLLEGE VANCOUVER'\n",
    "new_college = 'LASALLE COLLEGE \\nVANCOUVER'\n",
    "print(college)\n",
    "print(new_college)"
   ]
  },
  {
   "cell_type": "code",
   "execution_count": null,
   "metadata": {},
   "outputs": [],
   "source": [
    "len(new_college)-len(college) # newline character is a single character."
   ]
  },
  {
   "cell_type": "markdown",
   "metadata": {},
   "source": [
    "So when we look at the `lines` in a file, we need to imagine that there is a special invisible character called the `newline` at the end of each line that marks the end of the line.\n",
    "\n",
    "## Reading files\n",
    "\n",
    "While the `file handle` does not contain the data for the file, it is quite easy to construct a for loop to read through and count each of the lines in a file:"
   ]
  },
  {
   "cell_type": "code",
   "execution_count": null,
   "metadata": {},
   "outputs": [],
   "source": [
    "count = 0\n",
    "length = 0\n",
    "fhand = open('mbox-short.txt', mode='r') \n",
    "for line in fhand:\n",
    "    count = count + 1\n",
    "    length += len(line)\n",
    "print('Line Count:', count)\n",
    "print('Length:', length)"
   ]
  },
  {
   "cell_type": "markdown",
   "metadata": {},
   "source": [
    "Because the for loop reads the data one line `at a time`, it can efficiently read and count the lines in very large files without running out of main memory to store the data. The above program can count the lines in any size file using very little memory since each line is read, counted, and then discarded.\n",
    "\n",
    "If you know the file is relatively small compared to the size of your main memory, you can `read` the whole file into one string using the `read method` on the file handle."
   ]
  },
  {
   "cell_type": "code",
   "execution_count": null,
   "metadata": {},
   "outputs": [],
   "source": [
    "fhand = open('mbox-short.txt', mode='r')\n",
    "fread = fhand.read()\n",
    "print(len(fread))\n",
    "\n",
    "# Read the entire file as a single string\n",
    "# with open('mbox-short.txt') as fhand:\n",
    "#     fread = fhand.read()\n",
    "# print(len(fread)) "
   ]
  },
  {
   "cell_type": "code",
   "execution_count": null,
   "metadata": {},
   "outputs": [],
   "source": [
    "fread[:20]"
   ]
  },
  {
   "cell_type": "markdown",
   "metadata": {},
   "source": [
    "In the example above, the entire contents (all 94,626 characters) of the file mbox-short.txt are read directly into the variable `fread`. We use string slicing to print out the first 20 characters of the string data stored in fread.\n",
    "\n",
    "**Observation:** The `open` function should only be used if the file data will fit comfortably in the main memory of your computer. If the file is too large to fit in main memory, you should write your program to read the file in `chunks` using a for or while loop.\n",
    "\n",
    "\n",
    "## Finding the Sizes and the Folder Contest\n",
    "\n",
    "You can get the current working directory as a string value with the `os.getcwd()`. \n",
    "Calling `os.listdir(path)`,where `path = os.getcwd()`, will return a list of filename strings for each file in the path argument, and calling os.path.getsize(path) will return the size in bytes of the file in the path argument."
   ]
  },
  {
   "cell_type": "code",
   "execution_count": null,
   "metadata": {},
   "outputs": [],
   "source": [
    "import os\n",
    "path = os.getcwd()\n",
    "path"
   ]
  },
  {
   "cell_type": "code",
   "execution_count": null,
   "metadata": {},
   "outputs": [],
   "source": [
    "os.listdir(path)"
   ]
  },
  {
   "cell_type": "code",
   "execution_count": null,
   "metadata": {},
   "outputs": [],
   "source": [
    "path+='/mbox-short.txt'\n",
    "os.path.getsize(path )"
   ]
  },
  {
   "cell_type": "markdown",
   "metadata": {},
   "source": [
    "## Searching through a file\n",
    "\n",
    "We can combine the pattern for reading a file with `string methods` to build simple search mechanisms.\n",
    "\n",
    "For example, if we wanted to read a file and only print out lines which started with the prefix “From:”, we could use the string `method startswith` to select only those lines with the desired prefix:"
   ]
  },
  {
   "cell_type": "code",
   "execution_count": null,
   "metadata": {},
   "outputs": [],
   "source": [
    "count = 0\n",
    "with open('mbox-short.txt') as fhand:\n",
    "    for line in fhand:\n",
    "        if line.startswith('From:'):\n",
    "            print(line.strip())\n",
    "            count += 1\n",
    "            if count >= 10:\n",
    "                break"
   ]
  },
  {
   "cell_type": "markdown",
   "metadata": {},
   "source": [
    "The output looks great since the only lines we are seeing are those which start with “From:”, **but why are we seeing the extra blank lines?** \n",
    "\n",
    "This is due to that invisible `newline` character. Each of the lines ends with a `newline`, so the print statement  includes a `newline`, resulting in the double spacing effect we see.\n",
    "\n",
    "```python\n",
    "print('From: stephen.marquard@uct.ac.za') -----> 'From: stephen.marquard@uct.ac.za\\n' \n",
    "          \n",
    "```\n",
    "\n",
    "We could use line slicing to print all but the last character, but a simpler approach is to use the `rstrip()` method which strips whitespace from the right side of a string as follows:"
   ]
  },
  {
   "cell_type": "code",
   "execution_count": null,
   "metadata": {},
   "outputs": [],
   "source": [
    "'       LASALLE     '.rstrip()"
   ]
  },
  {
   "cell_type": "code",
   "execution_count": null,
   "metadata": {},
   "outputs": [],
   "source": [
    "count = 0\n",
    "with open('mbox-short.txt') as fhand:\n",
    "    for line in fhand:\n",
    "        line = line.rstrip()\n",
    "        if line.startswith('From:'):\n",
    "            print(line)\n",
    "            count += 1\n",
    "            if count >= 10:\n",
    "                break    "
   ]
  },
  {
   "cell_type": "markdown",
   "metadata": {},
   "source": [
    "As your file processing programs get more complicated, you may want to structure your search loops using `continue`. The basic idea of the search loop is that you are looking for “interesting” lines and effectively skipping “uninteresting” lines. Example: "
   ]
  },
  {
   "cell_type": "code",
   "execution_count": null,
   "metadata": {},
   "outputs": [],
   "source": [
    "count = 0\n",
    "with open('mbox-short.txt', 'r') as fhand:\n",
    "    for line in fhand:\n",
    "        # Skip lines that don't contain '@uct.ac.za' after position 40\n",
    "        if line.find('@uct.ac.za', 40) == -1:\n",
    "            continue\n",
    "        \n",
    "        # Process interesting lines\n",
    "        print(line.strip())\n",
    "        count += 1\n",
    "\n",
    "        # Stop after 5 matches\n",
    "        if count >= 5:\n",
    "            break\n"
   ]
  },
  {
   "cell_type": "markdown",
   "metadata": {},
   "source": [
    "## Writing files\n",
    "\n",
    "To write a file, you have to open it with mode `“w”` as a second parameter: \n",
    "\n",
    "```python\n",
    "fileobject = open(filename,  mode)\n",
    "```\n",
    "Opens the file for `writing`. In this mode, if file specified doesn't exists, it will be created. If the file exists, then it's data is destroyed, so be careful!"
   ]
  },
  {
   "cell_type": "code",
   "execution_count": null,
   "metadata": {},
   "outputs": [],
   "source": [
    "ftest = open('text.txt','w')\n",
    "print(ftest)"
   ]
  },
  {
   "cell_type": "markdown",
   "metadata": {},
   "source": [
    "The `write method` of the file handle object puts data into the file, returning the number of characters written. "
   ]
  },
  {
   "cell_type": "code",
   "execution_count": null,
   "metadata": {},
   "outputs": [],
   "source": [
    "line1 = \"Course: Introduction to Scripting Languages,\\n\"\n",
    "ftest.write(line1)"
   ]
  },
  {
   "cell_type": "markdown",
   "metadata": {},
   "source": [
    "The print statement automatically appends a newline, but the `write method` does not add the newline automatically. So be sure to manage the ends of the lines by inserting the `newline` character when you want to end a line."
   ]
  },
  {
   "cell_type": "code",
   "execution_count": null,
   "metadata": {},
   "outputs": [],
   "source": [
    "line2 = 'Class Meetings:   Friday 8:00AM - 12:00PM Renfrew'\n",
    "ftest.write(line2)"
   ]
  },
  {
   "cell_type": "markdown",
   "metadata": {},
   "source": [
    "When you are `done` writing, you have to `close the file` to make sure that the last bit of data is physically written to the disk so it will not be lost if the power goes off."
   ]
  },
  {
   "cell_type": "code",
   "execution_count": null,
   "metadata": {},
   "outputs": [],
   "source": [
    "ftest.close()"
   ]
  },
  {
   "cell_type": "markdown",
   "metadata": {},
   "source": [
    "**Improved Version:**\n",
    "\n",
    "```python\n",
    "with open('text.txt', 'w') as ftest:\n",
    "    ftest.write(\"Course: Introduction to Scripting Languages,\\n\")\n",
    "    ftest.write(\"Class Meetings:   Friday 8:00AM - 12:00PM Renfrew\")\n",
    "    print(\"File written successfully.\")\n",
    "```\n",
    "\n",
    "Why This Is Better: `with open(...)` automatically handles closing the file.\n"
   ]
  },
  {
   "cell_type": "code",
   "execution_count": null,
   "metadata": {},
   "outputs": [],
   "source": [
    "with open('text.txt') as f:\n",
    "    data = f.read()\n",
    "    print(data)"
   ]
  }
 ],
 "metadata": {
  "kernelspec": {
   "display_name": "anaconda-2022.05-py39",
   "language": "python",
   "name": "conda-env-anaconda-2022.05-py39-py"
  },
  "language_info": {
   "codemirror_mode": {
    "name": "ipython",
    "version": 3
   },
   "file_extension": ".py",
   "mimetype": "text/x-python",
   "name": "python",
   "nbconvert_exporter": "python",
   "pygments_lexer": "ipython3",
   "version": "3.9.12"
  }
 },
 "nbformat": 4,
 "nbformat_minor": 4
}
