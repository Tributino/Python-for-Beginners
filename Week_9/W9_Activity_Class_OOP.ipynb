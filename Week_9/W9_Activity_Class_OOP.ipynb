{
 "cells": [
  {
   "cell_type": "markdown",
   "metadata": {},
   "source": [
    "<img src=\"images/lasalle_logo.png\" style=\"width:375px;height:110px;\">"
   ]
  },
  {
   "cell_type": "markdown",
   "metadata": {},
   "source": [
    "# Week 9 - Object-oriented programming\n",
    "\n",
    "### WIM250 - Introduction to Scripting Languages \n",
    "### Instructor: Ivaldo Tributino\n",
    "\n",
    "Sources:\n",
    "- Python for Everybody Exploring Data Using Python 3 by Dr. Charles R. Severance.\n",
    "- [Real Python](https://realpython.com/python3-object-oriented-programming/)\n",
    "- [PYnative](https://pynative.com/make-python-class-json-serializable/)"
   ]
  },
  {
   "cell_type": "markdown",
   "metadata": {},
   "source": [
    "## 1. The aim of studying Object-Oriented Programming.\n",
    "\n",
    "\n",
    "At the beginning of this course, we came up with four basic programming patterns which we use to construct programs:\n",
    "\n",
    "- Sequential code\n",
    "- Conditional code (if statements) \n",
    "- Repetitive code (loops)\n",
    "- Store and reuse (functions)\n",
    "\n",
    "In more recently, we explored simple variables as well as collection data structures like lists, tuples, and dictionaries. As programs get to be millions of lines long, it becomes increasingly important to write code that is easy to understand. We need ways to break large programs into multiple smaller pieces so that we have less to look at when solving a problem, `fix a bug`, or add a `new feature`.\n",
    "\n",
    "In a way, object oriented programming is a way to `arrange your code` so that you can zoom into 50 lines of the code and understand it while ignoring the other 999,950 lines.\n",
    "\n",
    "<img src=\"images/oop.png\" style=\"width:475px;height:250px;\">\n",
    "\n",
    "[<center>Object-oriented programming<center/>](https://dzone.com/articles/5-free-courses-to-learn-object-oriented-programmin)\n"
   ]
  },
  {
   "cell_type": "markdown",
   "metadata": {},
   "source": [
    "## 2 Objects\n",
    "\n",
    "We can think of `class` as a sketch (prototype) of a house. It contains all the details about the floors, doors, windows etc. Based on these descriptions we build the house. House is the `object`.\n",
    "\n",
    "A object holds the built-in properties and methods which are default for all objects of the same classe. Example:\n"
   ]
  },
  {
   "cell_type": "code",
   "execution_count": null,
   "metadata": {},
   "outputs": [],
   "source": [
    "name = 'Scott Hahn'\n",
    "x = 2;\n",
    "print(type(name))\n",
    "print(type(x))"
   ]
  },
  {
   "cell_type": "markdown",
   "metadata": {},
   "source": [
    "We can take a look at the attributes and methods of an object by looking at the output of the `dir()` function:"
   ]
  },
  {
   "cell_type": "code",
   "execution_count": null,
   "metadata": {},
   "outputs": [],
   "source": [
    "print(dir(name))"
   ]
  },
  {
   "cell_type": "code",
   "execution_count": null,
   "metadata": {},
   "outputs": [],
   "source": [
    "# name.islower()\n",
    "# name.split()\n",
    "# name.partition('tt')\n",
    "# name.swapcase()\n",
    "# name.upper()"
   ]
  },
  {
   "cell_type": "markdown",
   "metadata": {},
   "source": [
    "### 2.1 The dance of objects.\n",
    "\n",
    "The key here is not to understand perfectly how this program works but to see how we build a network of interacting objects and orchestrate the movement of information between the objects to create a program. It is also important to note that when you looked at that program several classes back, you could fully understand what was going on in the program without even realizing that the program was “orchestrating the movement of data between objects.” \n",
    "\n",
    "Like what happens in the line of code below:\n",
    "\n",
    "```python\n",
    "df.groupby(['ocean_proximity'])['median_house_value'].median().plot(kind='bar')\n",
    "```\n",
    "\n",
    "<img src=\"images/dance.png\" style=\"width:400px;height:250px;\">\n",
    "\n",
    "\n",
    "\n"
   ]
  },
  {
   "cell_type": "markdown",
   "metadata": {},
   "source": [
    "If you run a cell with the following two lines, you will discover the class and find the colossal amount of methods the class dataframe   has.\n",
    "\n",
    "```python\n",
    "group = df.groupby(['ocean_proximity'])\n",
    "print(type(group))\n",
    "print(dir(group))\n",
    "```\n",
    "```python\n",
    "serie = df.groupby(['ocean_proximity'])['median_house_value'].median()\n",
    "print(type(serie))\n",
    "print(dir(serie))\n",
    "```\n",
    "```python\n",
    "plot = df.groupby(['ocean_proximity'])['median_house_value'].median().plot(kind='bar')\n",
    "print(type(plot))\n",
    "print(dir(plot))\n",
    "```\n",
    "All of these classes have a large number of methods. So, behind them, a lot of work has already been done to be able to develop new ideas.\n",
    "\n",
    "<img src=\"images/forward.png\" style=\"width:350px;height:250px;\">"
   ]
  },
  {
   "cell_type": "code",
   "execution_count": null,
   "metadata": {},
   "outputs": [],
   "source": [
    "import pandas as pd\n",
    "\n",
    "df = pd.read_csv('housing.csv')"
   ]
  },
  {
   "cell_type": "code",
   "execution_count": null,
   "metadata": {},
   "outputs": [],
   "source": [
    "df_GroupBy = df.groupby(['ocean_proximity'])\n",
    "print(type(df_GroupBy))\n",
    "df_GroupBy.head()"
   ]
  },
  {
   "cell_type": "code",
   "execution_count": null,
   "metadata": {},
   "outputs": [],
   "source": [
    "series_GroupBy = df_GroupBy['median_house_value']\n",
    "series = series_GroupBy.median()\n",
    "series"
   ]
  },
  {
   "cell_type": "code",
   "execution_count": null,
   "metadata": {},
   "outputs": [],
   "source": [
    "series.plot(kind='bar')"
   ]
  },
  {
   "cell_type": "markdown",
   "metadata": {},
   "source": [
    "### Let's see another exaple from the book `Python for Everybody`.\n",
    "\n",
    "```python\n",
    "import urllib.request, urllib.parse, urllib.error\n",
    "from bs4 import BeautifulSoup\n",
    "import ssl\n",
    "\n",
    "# Ignore SSL certificate errors\n",
    "ctx = ssl.create_default_context()\n",
    "ctx.check_hostname = False\n",
    "ctx.verify_mode = ssl.CERT_NONE\n",
    "\n",
    "url = input('Enter - ')\n",
    "html = urllib.request.urlopen(url, context=ctx).read()\n",
    "soup = BeautifulSoup(html, 'html.parser')\n",
    "\n",
    "# Retrieve all of the anchor tags\n",
    "tags = soup('a') \n",
    "for tag in tags:\n",
    "    print(tag.get('href', None))\n",
    "```\n",
    "\n",
    "\n",
    "- We read the URL into a `string` and then pass that into `urllib` to retrieve the data from the web. `string ⟹ urllib`\n",
    "- The `urllib` library uses the `socket` library to make the actual network connection to retrieve the data. `urllib ⟹ socket ⟹ bytes` \n",
    "- BeautifulSoup makes use of the object `html` and returns an object. `bytes ⟹ BeautifulSoup` \n",
    "- We call the `tags()` method on the returned object that returns a dictionary of tag objects. `bytes ⟹ dictionary of tag` \n",
    "- We loop through the tags and call the `get()` method for each tag to print out the href attribute. `tag ⟹ string` \n",
    "\n",
    "\n",
    "**Conclusion:** One of the advantages of the `object-oriented` approach is that it can hide complexity. For example, while we need to know how to use the urllib and BeautifulSoup code, we do not need to know how those libraries work internally. This allows us to focus on the part of the problem we need to solve and ignore the other parts of the program."
   ]
  },
  {
   "cell_type": "markdown",
   "metadata": {},
   "source": [
    "### 2.2 Our first Python object\n",
    "\n",
    "Defining a `function` allows us to store a bit of code and give it a name and then later invoke that code using the name of the function. An `object` can contain a number of functions (which we call `methods`) as well as `data` that is used by those functions. We call `data` items that are part of the object `attributes`.\n",
    "\n",
    "All class definitions start with the class keyword, which is followed by the name of the class and a colon. Any code that is indented below the class definition is considered part of the class’s body."
   ]
  },
  {
   "cell_type": "code",
   "execution_count": null,
   "metadata": {},
   "outputs": [],
   "source": [
    "class course:\n",
    "    \n",
    "    def __init__(self, course_name, teacher_id):\n",
    "        # creates an attribute called name and assigns to it the value of the name parameter.\n",
    "        self.course_name = course_name \n",
    "        # creates an attribute called id_teacher and assigns to it the value of the id_teacher parameter.\n",
    "        self.teacher_id = teacher_id\n",
    "   "
   ]
  },
  {
   "cell_type": "code",
   "execution_count": null,
   "metadata": {},
   "outputs": [],
   "source": [
    "WIM250 = course('Introduction to Scripting Languages', 3363)\n",
    "WIM250"
   ]
  },
  {
   "cell_type": "markdown",
   "metadata": {},
   "source": [
    "A class is a `blueprint` for how something should be defined. It doesn’t actually contain any data. The course class specifies that a `course_name` and `teacher_id` are necessary for defining a course, but it doesn’t contain the `name` or `teacher_id` of any specific course.\n",
    "\n",
    "The properties that all `course` objects must have are defined in a method called `.__init__()`. Every time a new course object is created, `.__init__()` sets the initial state of the object by assigning the values of the object’s properties. \n",
    "\n",
    "You can give `.__init__()` any number of parameters, but the first parameter will always be a variable called `self`.\n",
    "\n",
    "Let’s update the course class with a class attribute called `college` with the value \"Lasalle College Vancouver\":"
   ]
  },
  {
   "cell_type": "code",
   "execution_count": null,
   "metadata": {},
   "outputs": [],
   "source": [
    "class course:\n",
    "     # Class attribute\n",
    "    college = 'Lasalle College Vancouver'   \n",
    "    \n",
    "    def __init__(self, course_name, teacher_id):\n",
    "        # creates an attribute called name and assigns to it the value of the name parameter.\n",
    "        self.course_name = course_name \n",
    "        # creates an attribute called id_teacher and assigns to it the value of the id_teacher parameter.\n",
    "        self.teacher_id = teacher_id"
   ]
  },
  {
   "cell_type": "markdown",
   "metadata": {},
   "source": [
    "`Class attributes` are defined directly beneath the first line of the class name. They must always be assigned an initial value. When an instance of the class is created, class attributes are automatically created and assigned to their initial values.\n",
    "\n",
    "Use class attributes to define properties that should have the same value for every class instance. Use `instance attributes`, attributes created in `.__init__()`, for properties that vary from one instance to another."
   ]
  },
  {
   "cell_type": "code",
   "execution_count": null,
   "metadata": {},
   "outputs": [],
   "source": [
    "WIM250 = course('Introduction to Scripting Languages', 3363)\n",
    "WIM250"
   ]
  },
  {
   "cell_type": "code",
   "execution_count": null,
   "metadata": {},
   "outputs": [],
   "source": [
    "WIM250.college "
   ]
  },
  {
   "cell_type": "code",
   "execution_count": null,
   "metadata": {},
   "outputs": [],
   "source": [
    "WIM250.course_name"
   ]
  },
  {
   "cell_type": "code",
   "execution_count": null,
   "metadata": {},
   "outputs": [],
   "source": [
    "WIM250.teacher_id"
   ]
  },
  {
   "cell_type": "markdown",
   "metadata": {},
   "source": [
    "###  Instance Methods\n",
    "\n",
    "`Instance methods` are functions that are defined inside a class and can only be called from an instance of that class. Just like `.__init__()`, an instance method’s `first parameter is always self`. \n",
    "\n",
    "Let's create a instance methods called `printWeekly`, and also add two instance attributes `course_id` and `weekOut`(Weekly Outline)."
   ]
  },
  {
   "cell_type": "code",
   "execution_count": null,
   "metadata": {},
   "outputs": [],
   "source": [
    "class course:\n",
    "     # Class attribute\n",
    "    college = 'Lasalle College Vancouver'   \n",
    "    \n",
    "    def __init__(self, course_id, course_name, weekOut, teacher_id):\n",
    "        \n",
    "        self.course_id = course_id \n",
    "        self.course_name = course_name\n",
    "        self.weekOut = weekOut\n",
    "        self.teacher_id = teacher_id\n",
    "    \n",
    "    # Instance method\n",
    "    def printWeekly(self):\n",
    "        if self.weekOut == {}:\n",
    "            print(\"No weekly outline was reported.\")\n",
    "        else:\n",
    "            print('**** Weekly Outline ****\\n')\n",
    "            for week,topic in self.weekOut.items():\n",
    "                print( week + ' --- ' + topic)"
   ]
  },
  {
   "cell_type": "code",
   "execution_count": null,
   "metadata": {},
   "outputs": [],
   "source": [
    "dicWO = {'Week1': 'Algebra review', 'Week2': 'Exponent laws & Line equations', 'Week3': 'Inequalities'}\n",
    "couseID = 'GE091'\n",
    "courseName = 'Transitional Mathematics'\n",
    "teacher_id = 3363\n",
    "\n",
    "GE091 = course(couseID,courseName,dicWO,teacher_id)"
   ]
  },
  {
   "cell_type": "code",
   "execution_count": null,
   "metadata": {},
   "outputs": [],
   "source": [
    "type(GE091)"
   ]
  },
  {
   "cell_type": "code",
   "execution_count": null,
   "metadata": {},
   "outputs": [],
   "source": [
    "print(dir(GE091))"
   ]
  },
  {
   "cell_type": "code",
   "execution_count": null,
   "metadata": {},
   "outputs": [],
   "source": [
    "GE091.course_name"
   ]
  },
  {
   "cell_type": "code",
   "execution_count": null,
   "metadata": {},
   "outputs": [],
   "source": [
    "GE091.weekOut"
   ]
  },
  {
   "cell_type": "markdown",
   "metadata": {},
   "source": [
    "The `.printWeekly()` method displays every week and their respective topics."
   ]
  },
  {
   "cell_type": "code",
   "execution_count": null,
   "metadata": {},
   "outputs": [],
   "source": [
    "GE091.printWeekly()"
   ]
  },
  {
   "cell_type": "markdown",
   "metadata": {},
   "source": [
    "Let’s see what happens when you `print()` the GE091 object:"
   ]
  },
  {
   "cell_type": "code",
   "execution_count": null,
   "metadata": {},
   "outputs": [],
   "source": [
    "print(GE091)"
   ]
  },
  {
   "cell_type": "markdown",
   "metadata": {},
   "source": [
    "When you `print(GE091)`, you get a message telling you that `GE091` is a course object at the memory address. This message isn’t very helpful. You can change what gets printed by defining a special instance method called `.__str__()`. Also, we can use `__dir__` to return a list of the class's attributes."
   ]
  },
  {
   "cell_type": "code",
   "execution_count": null,
   "metadata": {},
   "outputs": [],
   "source": [
    "class course:\n",
    "     # Class attribute\n",
    "    college = 'Lasalle College Vancouver'   \n",
    "    \n",
    "    def __init__(self, course_id, course_name, weekOut, teacher_id):\n",
    "        \n",
    "        self.course_id = course_id \n",
    "        self.course_name = course_name\n",
    "        self.weekOut = weekOut\n",
    "        self.teacher_id = teacher_id\n",
    "    \n",
    "    # Instance method\n",
    "    def printWeekly(self):\n",
    "        if self.weekOut == {}:\n",
    "            print(\"No weekly outline was reported.\")\n",
    "        else:\n",
    "            print('**** Weekly Outline ****\\n')\n",
    "            for week,topic in self.weekOut.items():\n",
    "                print( week + ' --- ' + topic)\n",
    "                \n",
    "    def __str__(self):\n",
    "        return f'Course: {self.course_id} - {self.course_name}' \n",
    "    \n",
    "    def __dir__(self):\n",
    "        return self.__dict__.keys() "
   ]
  },
  {
   "cell_type": "code",
   "execution_count": null,
   "metadata": {},
   "outputs": [],
   "source": [
    "dicWO = {'Week1': 'Algebra review', 'Wee2': 'Exponent laws & Line equations', 'Week3': 'Inequalities'}\n",
    "couseID = 'GE091'\n",
    "courseName = 'Transitional Mathematics'\n",
    "id_teacher = 3363\n",
    "\n",
    "GE091 = course(couseID,courseName,dicWO,id_teacher)\n",
    "str(GE091)"
   ]
  },
  {
   "cell_type": "code",
   "execution_count": null,
   "metadata": {},
   "outputs": [],
   "source": [
    "print(GE091)"
   ]
  },
  {
   "cell_type": "code",
   "execution_count": null,
   "metadata": {},
   "outputs": [],
   "source": [
    "dir(GE091)"
   ]
  },
  {
   "cell_type": "markdown",
   "metadata": {},
   "source": [
    "Methods like `.__init__()` and `.__str__()` are called `dunder(Magic, Special) methods` because they begin and end with double underscores. There are many dunder methods that you can use to customize classes in Python. If you want more examples of dunder methods, see [Python Dunder (Special, Magic) Methods List with Tutorial](https://holycoders.com/python-dunder-special-methods/).\n",
    "\n",
    "Now, let's create another course object and then create a class called student where one of the attribute is a list of course objects."
   ]
  },
  {
   "cell_type": "code",
   "execution_count": null,
   "metadata": {},
   "outputs": [],
   "source": [
    "dicWO = {'Week1': 'Warm-up', 'Wee2': 'Hands-on 1', 'Week3': 'The Golden ratio'}\n",
    "couseID = 'MTH180'\n",
    "courseName = 'Geometry'\n",
    "teacher_id = 3370\n",
    "\n",
    "MTH180 = course(couseID,courseName,dicWO,teacher_id)"
   ]
  },
  {
   "cell_type": "markdown",
   "metadata": {},
   "source": [
    "Now we are going to create a class called students where one of the attributes is a list of objects of the class course."
   ]
  },
  {
   "cell_type": "code",
   "execution_count": null,
   "metadata": {},
   "outputs": [],
   "source": [
    "class student:\n",
    "    \n",
    "    def __init__(self, student_id, student_name, courses):\n",
    "        self.student_id = student_id\n",
    "        self.student_name = student_name\n",
    "        self.courses = courses\n",
    "        \n",
    "        \n",
    "    def printCourses(self):\n",
    "        if self.courses == []:\n",
    "            print('No courses have been registered yet.')\n",
    "            \n",
    "        else:\n",
    "            for course in self.courses:\n",
    "                print(course.course_id)\n",
    "                print()\n",
    "                course.printWeekly()  \n",
    "           \n",
    "    def __str__(self):\n",
    "        return f'Student id: {self.student_id} Student name: {self.student_name}'         "
   ]
  },
  {
   "cell_type": "code",
   "execution_count": null,
   "metadata": {},
   "outputs": [],
   "source": [
    "idS = 1843567\n",
    "name = \"Jonh\"\n",
    "courses = [GE091,MTH180]\n",
    "st = student(idS,name,courses)"
   ]
  },
  {
   "cell_type": "code",
   "execution_count": null,
   "metadata": {},
   "outputs": [],
   "source": [
    "print(st)"
   ]
  },
  {
   "cell_type": "code",
   "execution_count": null,
   "metadata": {},
   "outputs": [],
   "source": [
    "st.name"
   ]
  },
  {
   "cell_type": "code",
   "execution_count": null,
   "metadata": {},
   "outputs": [],
   "source": [
    "[x.course_name for x in st.courses]"
   ]
  },
  {
   "cell_type": "code",
   "execution_count": null,
   "metadata": {},
   "outputs": [],
   "source": [
    "st.printCourses()"
   ]
  },
  {
   "cell_type": "markdown",
   "metadata": {},
   "source": [
    "## 3 Make a Python Class JSON Serializable"
   ]
  },
  {
   "cell_type": "code",
   "execution_count": null,
   "metadata": {},
   "outputs": [],
   "source": [
    "import json\n",
    "from json import JSONEncoder\n",
    "\n",
    "\n",
    "# subclass JSONEncoder\n",
    "class studentEncoder(JSONEncoder): # Inheritance, see: https://docs.python.org/3/tutorial/classes.html#inheritance\n",
    "        def default(self, o):\n",
    "            return o.__dict__"
   ]
  },
  {
   "cell_type": "code",
   "execution_count": null,
   "metadata": {},
   "outputs": [],
   "source": [
    "studentJSONData = json.dumps(st, indent=4, cls=studentEncoder)\n",
    "print(studentJSONData)"
   ]
  },
  {
   "cell_type": "code",
   "execution_count": null,
   "metadata": {},
   "outputs": [],
   "source": [
    "studentJSONData=json.dumps(st, cls=studentEncoder)\n",
    "studentJSONData"
   ]
  },
  {
   "cell_type": "code",
   "execution_count": null,
   "metadata": {},
   "outputs": [],
   "source": [
    "with open('students.json', 'w') as f:\n",
    "    json.dump(studentJSONData, f)"
   ]
  },
  {
   "cell_type": "code",
   "execution_count": null,
   "metadata": {},
   "outputs": [],
   "source": []
  }
 ],
 "metadata": {
  "kernelspec": {
   "display_name": "Python 3",
   "language": "python",
   "name": "python3"
  },
  "language_info": {
   "codemirror_mode": {
    "name": "ipython",
    "version": 3
   },
   "file_extension": ".py",
   "mimetype": "text/x-python",
   "name": "python",
   "nbconvert_exporter": "python",
   "pygments_lexer": "ipython3",
   "version": "3.7.9"
  }
 },
 "nbformat": 4,
 "nbformat_minor": 4
}
