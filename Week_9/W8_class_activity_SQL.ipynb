{
 "cells": [
  {
   "cell_type": "markdown",
   "metadata": {},
   "source": [
    "<img src=\"images/lasalle_logo.png\" style=\"width:375px;height:110px;\">\n",
    "<p style=  \"text-align: right; color: blue;\"> WIM250 - Fall 2025</p>"
   ]
  },
  {
   "cell_type": "markdown",
   "metadata": {},
   "source": [
    "# Week 8 - Basic Structured Query Language\n",
    "\n",
    "### WIM250 - Introduction to Scripting Languages \n",
    "### Instructor: Ivaldo Tributino\n",
    "\n",
    "Sources:\n",
    "- Python for Everybody Exploring Data Using Python 3 by Dr. Charles R. Severance.\n",
    "- [Oracle: what is database](https://www.oracle.com/ca-en/database/what-is-database/)"
   ]
  },
  {
   "cell_type": "markdown",
   "metadata": {},
   "source": [
    "## 1. What is a database\n",
    "\n",
    "A `database` is an organized collection of structured information, or data, typically stored electronically in a computer system. \n",
    "\n",
    "Data within the most common types of databases in operation today is typically modeled in rows and columns in a series of tables to make processing and data querying efficient. The data can then be easily accessed, managed, modified, updated, controlled, and organized. Most databases use `structured query language (SQL)` for writing and querying data.\n",
    "\n",
    "`SQL` is a programming language used by nearly all relational databases to query, manipulate, and define data, and to provide access control. SQL was first developed at IBM in the 1970s with Oracle as a major contributor, which led to implementation of the SQL ANSI standard, SQL has spurred many extensions from companies such as IBM, Oracle, and Microsoft.\n",
    "\n",
    "There are many different database systems which are used for a wide variety of purposes including: Oracle, MySQL, Microsoft SQL Server, PostgreSQL, and SQLite. We focus on `SQLite` in this course because it is a very common database and is already built into Python. `SQLite` is designed to be embedded into other applications to provide database support within the application.\n",
    "\n",
    "<img src=\"images/database.png\" style=\"width:100px;height:100px;\">\n",
    "\n",
    "Download [SQLite](https://sqlitebrowser.org/dl/)."
   ]
  },
  {
   "cell_type": "markdown",
   "metadata": {},
   "source": [
    "## 2. Creating a database table\n",
    "\n",
    "Defining structure for your data up front may seem inconvenient at the beginning, but the payoff is fast access to your data even when the database contains a large amount of data.\n",
    "\n",
    "The code to create a database file and a table named `Courses` with three columns, `course_id, course_name and teacher_id`,  is as follows:\n"
   ]
  },
  {
   "cell_type": "code",
   "execution_count": null,
   "metadata": {},
   "outputs": [],
   "source": [
    "import sqlite3\n",
    "\n",
    "def initialize_database(db_name: str = 'courses.sqlite') -> None:\n",
    "    \"\"\"\n",
    "    Initializes the SQLite database by creating the Courses table.\n",
    "    \n",
    "    Parameters:\n",
    "    - db_name (str): Name of the SQLite database file.\n",
    "    \"\"\"\n",
    "    try:\n",
    "        # Connect to the SQLite database\n",
    "        conn = sqlite3.connect(db_name)\n",
    "        cur = conn.cursor()\n",
    "\n",
    "        # Drop the Courses table if it exists\n",
    "        cur.execute('DROP TABLE IF EXISTS Courses')\n",
    "\n",
    "        # Create the Courses table with appropriate columns\n",
    "        cur.execute('''\n",
    "            CREATE TABLE Courses (\n",
    "                course_id TEXT NOT NULL,\n",
    "                course_name TEXT NOT NULL,\n",
    "                teacher_id INTEGER\n",
    "            )\n",
    "        ''')\n",
    "\n",
    "        # Commit changes and close the connection\n",
    "        conn.commit()\n",
    "        print(f\"Database '{db_name}' initialized successfully.\")\n",
    "    except sqlite3.Error as e:\n",
    "        print(f\"SQLite error: {e}\")\n",
    "    finally:\n",
    "        conn.close()\n"
   ]
  },
  {
   "cell_type": "code",
   "execution_count": null,
   "metadata": {},
   "outputs": [],
   "source": [
    "initialize_database()"
   ]
  },
  {
   "cell_type": "markdown",
   "metadata": {},
   "source": [
    "You can look at the various data types supported by SQLite at the following url:\n",
    "http://www.sqlite.org/datatypes.html\n",
    "\n",
    "As a convention, we will show the `SQL keywords` in uppercase and the parts of the execute command that we are adding (such as the table and column names) will be shown in lowercase.\n",
    "\n",
    "Now that we have created a table named `Courses`, we can put some data into that table using the `SQL INSERT` operation. Again, we begin by making a connection to the database and obtaining the `cursor`. We can then execute SQL commands using the cursor.\n",
    "\n",
    "The SQL INSERT command indicates which table we are using and then defines a new row by listing the fields we want to includel. Example\n",
    "\n",
    "```python\n",
    "'INSERT INTO Courses (course_id, course_name and teacher_id) VALUES (?, ?, ?)', ('GE091', 'Math Transitional', 3363)\n",
    "```"
   ]
  },
  {
   "cell_type": "code",
   "execution_count": null,
   "metadata": {},
   "outputs": [],
   "source": [
    "import sqlite3\n",
    "\n",
    "def insert_and_display_courses(db_name: str = 'courses.sqlite'):\n",
    "    \"\"\"\n",
    "    Inserts sample course data into the Courses table and displays all records.\n",
    "    \n",
    "    Parameters:\n",
    "    - db_name (str): Name of the SQLite database file.\n",
    "    \"\"\"\n",
    "    try:\n",
    "        # Connect to the database\n",
    "        conn = sqlite3.connect(db_name)\n",
    "        cur = conn.cursor()\n",
    "\n",
    "        # Insert sample course records\n",
    "        courses = [\n",
    "            ('GE091', 'Math Transitional', 3363),\n",
    "            ('MTH180', 'Geometry', 3363)\n",
    "        ]\n",
    "        cur.executemany('INSERT INTO Courses (course_id, course_name, teacher_id) VALUES (?, ?, ?)', courses)\n",
    "\n",
    "        # Commit changes\n",
    "        conn.commit()\n",
    "\n",
    "        # Retrieve and display all courses\n",
    "        print('Courses:')\n",
    "        cur.execute('SELECT course_id, course_name, teacher_id FROM Courses')\n",
    "        rows = cur.fetchall()\n",
    "        for row in rows:\n",
    "            print(f\"Course ID: {row[0]}, Name: {row[1]}, Teacher ID: {row[2]}\")\n",
    "\n",
    "    except sqlite3.Error as e:\n",
    "        print(f\"SQLite error: {e}\")\n",
    "    finally:\n",
    "        # Close the cursor and connection\n",
    "        cur.close()\n",
    "        conn.close()\n"
   ]
  },
  {
   "cell_type": "code",
   "execution_count": null,
   "metadata": {},
   "outputs": [],
   "source": [
    "insert_and_display_courses()"
   ]
  },
  {
   "cell_type": "markdown",
   "metadata": {},
   "source": [
    "INSERT INTO Courses (course_id, course_name, teacher_id) VALUES ('WIM250','Introduction to Scripting Languages',3363)Now let's open `DB browser for SQLite`, click `Open Database` and look for `courses.sqlite`. Let's look at `Browse Data` and add the row `MTH100, Mathematics, 3363`.\n",
    "\n",
    "<img src=\"images/browseData.png\" style=\"width:700px;height:400px;\">\n",
    "\n",
    "Well, we need to know some SQL commands, so let's add two rows using the SQL `INSERT` command in `Execute SQL`:\n",
    "\n",
    "```SQL\n",
    "INSERT INTO Courses (course_id, course_name, teacher_id) VALUES ('WIM250','Introduction to Scripting Languages',3363);\n",
    "INSERT INTO Courses (course_id, course_name, teacher_id) VALUES ('WDIM150','Introduction to Scripting Languages',3363)\n",
    "```\n",
    "\n",
    "<img src=\"images/executeSQL.png\" style=\"width:700px;height:400px;\">\n",
    "\n",
    "Cool, huh? We add rows to our database in 3 different ways."
   ]
  },
  {
   "cell_type": "markdown",
   "metadata": {},
   "source": [
    "### Let's see two more commands the `SELECT` and `UPDATE`.\n",
    "\n",
    "```SQL\n",
    "SELECT * FROM Courses WHERE course_name = 'Introduction to Scripting Languages'\n",
    "```\n",
    "Using * indicates that you want the database to return all of the columns for each row that matches the `WHERE clause`.\n",
    "\n",
    "**Note, unlike in Python, in a SQL WHERE clause we use a single equal sign to indicate a test for equality rather than a double equal sign. Other logical operations allowed in a WHERE clause include <, >, <=, >=, !=, as well as AND and OR and parentheses to build your logical expressions.**\n",
    "\n",
    "\n",
    "- You can request that the returned rows be sorted by one of the fields as follows:\n",
    "```SQL\n",
    "SELECT course_name, course_id FROM Courses ORDER BY course_name\n",
    "```\n",
    "- To remove a row, you need a WHERE clause on an SQL DELETE statement. The WHERE clause determines which rows are to be deleted: \n",
    "\n",
    "```SQL\n",
    "DELETE FROM Courses WHERE course_id = 'WDIM150'\n",
    "```\n",
    "\n",
    "- To DELETE rows that contain NULL, use:\n",
    "```SQL\n",
    "DELETE FROM Courses WHERE course_id IS NULL\n",
    "```\n",
    "- If you have duplicated lines and would like to DELETE them, you can use this program.\n",
    "\n",
    "```SQL\n",
    "DELETE from Courses\n",
    "WHERE rowid NOT IN (select min(rowid)\n",
    "                    FROM Courses\n",
    "                    GROUP BY course_id, course_name, teacher_id)\n",
    "\n",
    "```\n",
    "\n",
    "- It is possible to UPDATE a column or columns within one or more rows in a table using the SQL UPDATE statement as follows:\n",
    "\n",
    "```SQL\n",
    "UPDATE Courses SET teacher_id = 5491 WHERE course_name = 'Introduction to Scripting Languages'\n",
    "```\n",
    "The UPDATE statement specifies a table and then a list of fields and values to change after the SET keyword and then an optional WHERE clause to select the rows that are to be updated. A single UPDATE statement will change all of the rows that match the WHERE clause. If a WHERE clause is not specified, it performs the UPDATE on all of the rows in the table."
   ]
  },
  {
   "cell_type": "markdown",
   "metadata": {},
   "source": [
    "## 3 Data storage \n",
    "\n",
    "Let's take some information from the json file named `daily` and create a database with it. We are interested in the name of the city, the coordinates of the city and the maximum temperature among the max daily temperature in Celsius within the 16 days."
   ]
  },
  {
   "cell_type": "code",
   "execution_count": null,
   "metadata": {},
   "outputs": [],
   "source": [
    "import json\n",
    "\n",
    "def load_daily_data(filepath: str = 'daily_14.json') -> list:\n",
    "    \"\"\"\n",
    "    Loads line-delimited JSON objects from a file.\n",
    "\n",
    "    Parameters:\n",
    "    - filepath (str): Path to the JSON file.\n",
    "\n",
    "    Returns:\n",
    "    - list: A list of parsed JSON objects.\n",
    "    \"\"\"\n",
    "    daily_data = []\n",
    "    try:\n",
    "        with open(filepath, 'r', encoding='utf-8') as file:\n",
    "            for line in file:\n",
    "                line = line.strip()\n",
    "                if line:  # Skip empty lines\n",
    "                    daily_data.append(json.loads(line))\n",
    "    except (json.JSONDecodeError, FileNotFoundError) as e:\n",
    "        print(f\"Error loading JSON data: {e}\")\n",
    "    return daily_data\n"
   ]
  },
  {
   "cell_type": "code",
   "execution_count": null,
   "metadata": {},
   "outputs": [],
   "source": [
    "daily_data = load_daily_data()\n",
    "type(daily_data)"
   ]
  },
  {
   "cell_type": "code",
   "execution_count": null,
   "metadata": {},
   "outputs": [],
   "source": [
    "print('There are %d distinct cities' %len(daily_data))\n",
    "print('You can search %d day weather forecast with daily average parameters by city name' %len(daily_data[0]['data']))"
   ]
  },
  {
   "cell_type": "markdown",
   "metadata": {},
   "source": [
    "Let's see what kind of information is offered for each city. For more information see [forecast16](https://openweathermap.org/forecast16). "
   ]
  },
  {
   "cell_type": "code",
   "execution_count": null,
   "metadata": {},
   "outputs": [],
   "source": [
    "print(json.dumps(daily_data[0], indent = 4, sort_keys=True))"
   ]
  },
  {
   "cell_type": "markdown",
   "metadata": {},
   "source": [
    "Let's create a class called `daily` with the following attributes:\n",
    "\n",
    "- city_name\n",
    "- longitude\n",
    "- latitude\n",
    "- max_tem"
   ]
  },
  {
   "cell_type": "code",
   "execution_count": null,
   "metadata": {},
   "outputs": [],
   "source": [
    "class daily:\n",
    "    \n",
    "    def __init__(self, city_name, longitude, latitude, max_temp):\n",
    "        \n",
    "        self.city_name = city_name\n",
    "        self.longitude = longitude\n",
    "        self.latitude = latitude\n",
    "        self.max_temp = max_temp\n",
    "        \n",
    "    def __str__(self):\n",
    "        return f'City: {self.city_name}'    "
   ]
  },
  {
   "cell_type": "markdown",
   "metadata": {},
   "source": [
    "Now we are going to fill up a dictionary with objects of the newly created class. The keys will be a string as:\n",
    "\n",
    "```python\n",
    "'city0' ... 'city22635'\n",
    "```\n",
    "and the values the objects of daily class."
   ]
  },
  {
   "cell_type": "code",
   "execution_count": null,
   "metadata": {},
   "outputs": [],
   "source": [
    "# daily_data[0]['city']['coord']['lat']\n",
    "daily_data[3]['city']['name']"
   ]
  },
  {
   "cell_type": "code",
   "execution_count": null,
   "metadata": {},
   "outputs": [],
   "source": [
    "[daily_data[i]['city']['name'] for i in range(len(daily_data))][:10]"
   ]
  },
  {
   "cell_type": "code",
   "execution_count": null,
   "metadata": {},
   "outputs": [],
   "source": [
    "dic = {}\n",
    "for idx, d in enumerate(daily_data):\n",
    "    \n",
    "    name = d[\"city\"]['name']\n",
    "    lon = d[\"city\"]['coord']['lon']\n",
    "    lat = d[\"city\"]['coord']['lat']\n",
    "    \n",
    "    maxm = max([x['temp']['max'] for x in d[\"data\"]])\n",
    "    maxm = round(maxm - 273.15,2)\n",
    "    \n",
    "    dic['city' + str(idx)] = daily(name, lon, lat ,maxm)"
   ]
  },
  {
   "cell_type": "code",
   "execution_count": null,
   "metadata": {},
   "outputs": [],
   "source": [
    "print(dic['city22'])\n",
    "print(dic['city135'].city_name)\n",
    "print(dic['city134'].longitude)\n",
    "print(dic['city134'].latitude)\n",
    "print(dic['city899'].max_temp)"
   ]
  },
  {
   "cell_type": "markdown",
   "metadata": {},
   "source": [
    "Finally, we will create a table called daily too, we are not very creative."
   ]
  },
  {
   "cell_type": "code",
   "execution_count": null,
   "metadata": {},
   "outputs": [],
   "source": [
    "import sqlite3\n",
    "\n",
    "def insert_daily_data(dic: dict, db_name: str = 'daily.sqlite') -> None:\n",
    "    \"\"\"\n",
    "    Inserts daily weather data into the Daily table in the SQLite database.\n",
    "\n",
    "    Parameters:\n",
    "    - dic (dict): Dictionary of city objects with attributes: city_name, longitude, latitude, max_temp.\n",
    "    - db_name (str): Name of the SQLite database file.\n",
    "    \"\"\"\n",
    "    try:\n",
    "        conn = sqlite3.connect(db_name)\n",
    "        cur = conn.cursor()\n",
    "\n",
    "        # Recreate the Daily table\n",
    "        cur.execute('DROP TABLE IF EXISTS Daily')\n",
    "        cur.execute('''\n",
    "            CREATE TABLE Daily (\n",
    "                city_name TEXT NOT NULL,\n",
    "                longitude REAL,\n",
    "                latitude REAL,\n",
    "                max_tem REAL\n",
    "            )\n",
    "        ''')\n",
    "\n",
    "        # Insert data\n",
    "        for city in dic.values():\n",
    "            cur.execute('''\n",
    "                INSERT INTO Daily (city_name, longitude, latitude, max_tem)\n",
    "                VALUES (?, ?, ?, ?)\n",
    "            ''', (city.city_name, city.longitude, city.latitude, city.max_temp))\n",
    "\n",
    "        conn.commit()\n",
    "        print(f\"Inserted {len(dic)} records into 'Daily' table.\")\n",
    "\n",
    "    except sqlite3.Error as e:\n",
    "        print(f\"SQLite error: {e}\")\n",
    "    finally:\n",
    "        cur.close()\n",
    "        conn.close()\n"
   ]
  },
  {
   "cell_type": "code",
   "execution_count": null,
   "metadata": {},
   "outputs": [],
   "source": [
    "insert_daily_data(dic)"
   ]
  },
  {
   "cell_type": "markdown",
   "metadata": {},
   "source": [
    "<img src=\"images/dailyTable.png\" style=\"width:700px;height:400px;\">"
   ]
  },
  {
   "cell_type": "code",
   "execution_count": null,
   "metadata": {},
   "outputs": [],
   "source": [
    "# SELECT city_name, max_tem FROM Daily WHERE max_tem > 20"
   ]
  },
  {
   "cell_type": "code",
   "execution_count": null,
   "metadata": {},
   "outputs": [],
   "source": [
    "import os\n",
    "os. getcwd()"
   ]
  },
  {
   "cell_type": "code",
   "execution_count": null,
   "metadata": {},
   "outputs": [],
   "source": [
    "import sqlite3\n",
    "import json\n",
    "import re\n",
    "from openweather import air_pollution\n",
    "\n",
    "\n",
    "\n",
    "def insert_air_pollution_data(daily_data: list, db_name: str = 'air_pollution.sqlite') -> None:\n",
    "    APIID = ''\n",
    "    \"\"\"\n",
    "    Inserts air pollution data for cities into an SQLite database.\n",
    "\n",
    "    Parameters:\n",
    "    - daily_data (list): List of dictionaries containing city metadata.\n",
    "    - db_name (str): Name of the SQLite database file.\n",
    "    \"\"\"\n",
    "    try:\n",
    "        conn = sqlite3.connect(db_name)\n",
    "        cur = conn.cursor()\n",
    "\n",
    "        # Create table\n",
    "        cur.execute('DROP TABLE IF EXISTS Air_Pollution')\n",
    "        cur.execute('''\n",
    "            CREATE TABLE Air_Pollution (\n",
    "                city_name TEXT,\n",
    "                CO REAL,\n",
    "                NO REAL,\n",
    "                NO2 REAL,\n",
    "                O3 REAL,\n",
    "                SO2 REAL,\n",
    "                PM2_5 REAL,\n",
    "                PM10 REAL,\n",
    "                NH3 REAL\n",
    "            )\n",
    "        ''')\n",
    "\n",
    "        # Insert data\n",
    "        for i in daily_data:\n",
    "            name = i['city']['name']\n",
    "            coord = i['city']['coord']\n",
    "\n",
    "            try:\n",
    "                # Get pollution data\n",
    "                response = air_pollution(APIID, coord)\n",
    "\n",
    "                # Extract JSON from response using regex\n",
    "\n",
    "                comp = response['list'][0]['components']\n",
    "                cur.execute('''\n",
    "                    INSERT INTO Air_Pollution \n",
    "                    (city_name, CO, NO, NO2, O3, SO2, PM2_5, PM10, NH3)\n",
    "                    VALUES (?, ?, ?, ?, ?, ?, ?, ?, ?)\n",
    "                ''', (\n",
    "                    name,\n",
    "                    comp.get('co'),\n",
    "                    comp.get('no'),\n",
    "                    comp.get('no2'),\n",
    "                    comp.get('o3'),\n",
    "                    comp.get('so2'),\n",
    "                    comp.get('pm2_5'),\n",
    "                    comp.get('pm10'),\n",
    "                    comp.get('nh3')\n",
    "                    ))\n",
    "\n",
    "            except Exception as e:\n",
    "                print(f\"Error processing {name}: {e}\")\n",
    "\n",
    "        conn.commit()\n",
    "        print(\"Air pollution data inserted successfully.\")\n",
    "\n",
    "    except sqlite3.Error as e:\n",
    "        print(f\"SQLite error: {e}\")\n",
    "    finally:\n",
    "        cur.close()\n",
    "        conn.close()\n"
   ]
  },
  {
   "cell_type": "code",
   "execution_count": null,
   "metadata": {},
   "outputs": [],
   "source": [
    "insert_air_pollution_data(daily_data[:60])"
   ]
  }
 ],
 "metadata": {
  "kernelspec": {
   "display_name": "anaconda-2022.05-py39",
   "language": "python",
   "name": "conda-env-anaconda-2022.05-py39-py"
  },
  "language_info": {
   "codemirror_mode": {
    "name": "ipython",
    "version": 3
   },
   "file_extension": ".py",
   "mimetype": "text/x-python",
   "name": "python",
   "nbconvert_exporter": "python",
   "pygments_lexer": "ipython3",
   "version": "3.9.12"
  }
 },
 "nbformat": 4,
 "nbformat_minor": 4
}
