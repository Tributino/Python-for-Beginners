{
 "cells": [
  {
   "cell_type": "markdown",
   "metadata": {},
   "source": [
    "<img src=\"images/lasalle_logo.png\" style=\"width:375px;height:110px;\">\n",
    "<p style=  \"text-align: right; color: blue;\"> WIM250 - Summer 2025</p>"
   ]
  },
  {
   "cell_type": "markdown",
   "metadata": {},
   "source": [
    "# Week 8 - Object-oriented programming\n",
    "\n",
    "### WIM250 - Introduction to Scripting Languages \n",
    "### Instructor: Ivaldo Tributino\n",
    "\n",
    "Sources:\n",
    "- Python for Everybody Exploring Data Using Python 3 by Dr. Charles R. Severance.\n",
    "- [Real Python](https://realpython.com/python3-object-oriented-programming/)\n",
    "- [PYnative](https://pynative.com/make-python-class-json-serializable/)"
   ]
  },
  {
   "cell_type": "markdown",
   "metadata": {},
   "source": [
    "## 1. The aim of studying Object-Oriented Programming.\n",
    "\n",
    "\n",
    "At the beginning of this course, we came up with four basic programming patterns which we use to construct programs:\n",
    "\n",
    "- Sequential code\n",
    "- Conditional code (if statements) \n",
    "- Repetitive code (loops)\n",
    "- Store and reuse (functions)\n",
    "\n",
    "In more recently, we explored simple variables as well as collection data structures like lists, tuples, and dictionaries. As programs get to be millions of lines long, it becomes increasingly important to write code that is easy to understand. We need ways to break large programs into multiple smaller pieces so that we have less to look at when solving a problem, `fix a bug`, or add a `new feature`.\n",
    "\n",
    "In a way, object oriented programming is a way to `arrange your code` so that you can zoom into 50 lines of the code and understand it while ignoring the other 999,950 lines.\n",
    "\n",
    "<img src=\"images/oop.png\" style=\"width:475px;height:250px;\">\n",
    "\n",
    "[<center>Object-oriented programming<center/>](https://dzone.com/articles/5-free-courses-to-learn-object-oriented-programmin)\n"
   ]
  },
  {
   "cell_type": "markdown",
   "metadata": {},
   "source": [
    "## 2 Objects\n",
    "\n",
    "We can think of `class` as a sketch (prototype) of a house. It contains all the details about the floors, doors, windows etc. Based on these descriptions we build the house. House is the `object`.\n",
    "\n",
    "A object holds the built-in properties and methods which are default for all objects of the same classe. Example:\n"
   ]
  },
  {
   "cell_type": "code",
   "execution_count": null,
   "metadata": {},
   "outputs": [],
   "source": [
    "name = 'Scott Hahn'\n",
    "x = 2;\n",
    "print(type(name))\n",
    "print(type(x))"
   ]
  },
  {
   "cell_type": "markdown",
   "metadata": {},
   "source": [
    "We can take a look at the attributes and methods of an object by looking at the output of the `dir()` function:"
   ]
  },
  {
   "cell_type": "code",
   "execution_count": null,
   "metadata": {},
   "outputs": [],
   "source": [
    "print(dir(name))"
   ]
  },
  {
   "cell_type": "code",
   "execution_count": null,
   "metadata": {},
   "outputs": [],
   "source": [
    "print(name.islower())\n",
    "print(name.split())\n",
    "print(name.partition('tt'))\n",
    "print(name.swapcase())\n",
    "print(name.upper())"
   ]
  },
  {
   "cell_type": "markdown",
   "metadata": {},
   "source": [
    "### 2.1 The dance of objects.\n",
    "\n",
    "The key here is not to understand perfectly how this program works but to see how we build a network of interacting objects and orchestrate the movement of information between the objects to create a program. It is also important to note that when you looked at that program several classes back, you could fully understand what was going on in the program without even realizing that the program was “orchestrating the movement of data between objects.” \n",
    "\n",
    "Like what happens in the line of code below:\n",
    "\n",
    "```python\n",
    "df.groupby(['ocean_proximity'])['median_house_value'].median().plot(kind='bar')\n",
    "```\n",
    "\n",
    "<img src=\"images/dance.png\" style=\"width:400px;height:250px;\">\n",
    "\n",
    "\n",
    "\n"
   ]
  },
  {
   "cell_type": "markdown",
   "metadata": {},
   "source": [
    "If you run a cell with the following two lines, you will discover the class and find the colossal amount of methods the class dataframe   has.\n",
    "\n",
    "```python\n",
    "group = df.groupby(['ocean_proximity'])\n",
    "print(type(group))\n",
    "print(dir(group))\n",
    "```\n",
    "```python\n",
    "serie = df.groupby(['ocean_proximity'])['median_house_value'].median()\n",
    "print(type(serie))\n",
    "print(dir(serie))\n",
    "```\n",
    "```python\n",
    "plot = df.groupby(['ocean_proximity'])['median_house_value'].median().plot(kind='bar')\n",
    "print(type(plot))\n",
    "print(dir(plot))\n",
    "```\n",
    "All of these classes have a large number of methods. So, behind them, a lot of work has already been done to be able to develop new ideas.\n",
    "\n",
    "<img src=\"images/forward.png\" style=\"width:350px;height:250px;\">"
   ]
  },
  {
   "cell_type": "code",
   "execution_count": null,
   "metadata": {},
   "outputs": [],
   "source": [
    "import pandas as pd\n",
    "\n",
    "df = pd.read_csv('housing.csv')\n"
   ]
  },
  {
   "cell_type": "code",
   "execution_count": null,
   "metadata": {},
   "outputs": [],
   "source": [
    "df_GroupBy = df.groupby(['ocean_proximity'])\n",
    "print(type(df_GroupBy))\n",
    "df_GroupBy.head()"
   ]
  },
  {
   "cell_type": "code",
   "execution_count": null,
   "metadata": {},
   "outputs": [],
   "source": [
    "series_GroupBy = df_GroupBy['median_house_value']\n",
    "series = series_GroupBy.median()\n",
    "series"
   ]
  },
  {
   "cell_type": "code",
   "execution_count": null,
   "metadata": {},
   "outputs": [],
   "source": [
    "series.plot(kind='bar')"
   ]
  },
  {
   "cell_type": "code",
   "execution_count": null,
   "metadata": {
    "scrolled": true
   },
   "outputs": [],
   "source": [
    "df.groupby(['ocean_proximity'])['median_house_value'].median().plot(kind='bar')"
   ]
  },
  {
   "cell_type": "markdown",
   "metadata": {},
   "source": [
    "__Watch the interaction of the objects in the sequence below that begins with the API call that was initiated in week 7 and ends with the highest temperature of the current weather.__\n",
    "\n",
    "```python\n",
    "from openweather import current_weather\n",
    "import json\n",
    "cw_string = current_weather(id, coord={'lat': 49.273901, 'lon': -123.0021})\n",
    "cw_dic = json.loads(cw_string)\n",
    "temp_max = cw_dic['main']['temp_max']\n",
    "```\n",
    "\n",
    "\n",
    "`function ⟹ string ⟹ dictionary ⟹ float`\n"
   ]
  },
  {
   "cell_type": "code",
   "execution_count": null,
   "metadata": {},
   "outputs": [],
   "source": [
    "from openweather import current_weather\n",
    "import json"
   ]
  },
  {
   "cell_type": "code",
   "execution_count": null,
   "metadata": {},
   "outputs": [],
   "source": [
    "current_weather?"
   ]
  },
  {
   "cell_type": "code",
   "execution_count": null,
   "metadata": {},
   "outputs": [],
   "source": [
    "cw_dict = current_weather('9b17cb4356bcd811551a1c07bb4b2ab7',)\n",
    "print(cw_dict)"
   ]
  },
  {
   "cell_type": "code",
   "execution_count": null,
   "metadata": {},
   "outputs": [],
   "source": [
    "city_name = cw_dict['name']\n",
    "print(f'{\"type:\":>7} {type(city_name)}\\n  {city_name}')\n",
    "temp_max = cw_dict['main']['temp_max']\n",
    "print(f'{\"type:\":>7} {type(temp_max)}\\n  {temp_max}')"
   ]
  },
  {
   "cell_type": "markdown",
   "metadata": {},
   "source": [
    "### 2.2 Our first Python object\n",
    "\n",
    "Defining a `function` allows us to store a bit of code and give it a name and then later invoke that code using the name of the function. An `object` can contain a number of functions (which we call `methods`) as well as `data` that is used by those functions. We call `data` items that are part of the object `attributes`.\n",
    "\n",
    "All class definitions start with the class keyword, which is followed by the name of the class and a colon. Any code that is indented below the class definition is considered part of the class’s body."
   ]
  },
  {
   "cell_type": "code",
   "execution_count": null,
   "metadata": {},
   "outputs": [],
   "source": [
    "class Course:\n",
    "    \n",
    "    def __init__(self, course_name, teacher_id):\n",
    "        # creates an attribute called name and assigns to it the value of the name parameter.\n",
    "        self.course_name = course_name \n",
    "        # creates an attribute called id_teacher and assigns to it the value of the id_teacher parameter.\n",
    "        self.teacher_id = teacher_id\n",
    "   "
   ]
  },
  {
   "cell_type": "code",
   "execution_count": null,
   "metadata": {},
   "outputs": [],
   "source": [
    "WIM250 = Course('Introduction to Scripting Languages', 3363)\n",
    "print(WIM250.course_name)\n",
    "print(WIM250.teacher_id)"
   ]
  },
  {
   "cell_type": "markdown",
   "metadata": {},
   "source": [
    "A class is a `blueprint` for how something should be defined. It doesn’t actually contain any data. The course class specifies that a `course_name` and `teacher_id` are necessary for defining a course, but it doesn’t contain the `name` or `teacher_id` of any specific course.\n",
    "\n",
    "The properties that all `course` objects must have are defined in a method called `.__init__()`. Every time a new course object is created, `.__init__()` sets the initial state of the object by assigning the values of the object’s properties. \n",
    "\n",
    "You can give `.__init__()` any number of parameters, but the first parameter will always be a variable called `self`.\n",
    "\n",
    "Let’s update the course class with a class attribute called `college` with the value \"Lasalle College Vancouver\":"
   ]
  },
  {
   "cell_type": "code",
   "execution_count": null,
   "metadata": {},
   "outputs": [],
   "source": [
    "class Course:\n",
    "     # Class attribute\n",
    "    college = 'Lasalle College Vancouver'   \n",
    "    \n",
    "    def __init__(self, course_name, teacher_id):\n",
    "        # creates an attribute called name and assigns to it the value of the name parameter.\n",
    "        self.course_name = course_name \n",
    "        # creates an attribute called id_teacher and assigns to it the value of the id_teacher parameter.\n",
    "        self.teacher_id = teacher_id"
   ]
  },
  {
   "cell_type": "markdown",
   "metadata": {},
   "source": [
    "`Class attributes` are defined directly beneath the first line of the class name. They must always be assigned an initial value. When an instance of the class is created, class attributes are automatically created and assigned to their initial values.\n",
    "\n",
    "Use class attributes to define properties that should have the same value for every class instance. Use `instance attributes`, attributes created in `.__init__()`, for properties that vary from one instance to another."
   ]
  },
  {
   "cell_type": "code",
   "execution_count": null,
   "metadata": {},
   "outputs": [],
   "source": [
    "WIM250 = Course('Introduction to Scripting Languages', 3363)"
   ]
  },
  {
   "cell_type": "code",
   "execution_count": null,
   "metadata": {},
   "outputs": [],
   "source": [
    "WIM250.college "
   ]
  },
  {
   "cell_type": "code",
   "execution_count": null,
   "metadata": {},
   "outputs": [],
   "source": [
    "WIM250.course_name"
   ]
  },
  {
   "cell_type": "code",
   "execution_count": null,
   "metadata": {},
   "outputs": [],
   "source": [
    "WIM250.teacher_id"
   ]
  },
  {
   "cell_type": "code",
   "execution_count": null,
   "metadata": {},
   "outputs": [],
   "source": [
    "WIM250"
   ]
  },
  {
   "cell_type": "markdown",
   "metadata": {},
   "source": [
    "###  Instance Methods\n",
    "\n",
    "`Instance methods` are functions that are defined inside a class and can only be called from an instance of that class. Just like `.__init__()`, an instance method’s `first parameter is always self`. \n",
    "\n",
    "Let's create a instance methods called `printWeekly`, and also add two instance attributes `course_id` and `weekOut`(Weekly Outline)."
   ]
  },
  {
   "cell_type": "code",
   "execution_count": null,
   "metadata": {},
   "outputs": [],
   "source": [
    "class Course:\n",
    "    # Class attribute\n",
    "    college = 'Lasalle College Vancouver'   \n",
    "    \n",
    "    def __init__(self, course_id, course_name, weekOut=None, teacher_id=None):\n",
    "        self.course_id = course_id \n",
    "        self.course_name = course_name\n",
    "        self.weekOut = weekOut if weekOut is not None else {}\n",
    "        self.teacher_id = teacher_id\n",
    "    \n",
    "    def print_weekly(self):\n",
    "        if not self.weekOut:\n",
    "            print(\"No weekly outline was reported.\")\n",
    "        else:\n",
    "            print('**** Weekly Outline ****\\n')\n",
    "            for week, topic in sorted(self.weekOut.items()):\n",
    "                print(f\"{week} --- {topic}\")\n",
    "    \n",
    "    def __str__(self):\n",
    "        return f\"Course: {self.course_name} (ID: {self.course_id})\"\n"
   ]
  },
  {
   "cell_type": "code",
   "execution_count": null,
   "metadata": {},
   "outputs": [],
   "source": [
    "dicWO = {'Week 1': 'Algebra review', 'Week 2': 'Exponent laws & Line equations', 'Week 3': 'Inequalities'}\n",
    "couseID = 'GE091'\n",
    "courseName = 'Transitional Mathematics'\n",
    "teacher_id = 3363\n",
    "\n",
    "GE091 = Course(couseID,courseName,dicWO,teacher_id)"
   ]
  },
  {
   "cell_type": "code",
   "execution_count": null,
   "metadata": {},
   "outputs": [],
   "source": [
    "type(GE091)"
   ]
  },
  {
   "cell_type": "code",
   "execution_count": null,
   "metadata": {},
   "outputs": [],
   "source": [
    "print(dir(GE091))"
   ]
  },
  {
   "cell_type": "code",
   "execution_count": null,
   "metadata": {},
   "outputs": [],
   "source": [
    "GE091.course_name"
   ]
  },
  {
   "cell_type": "code",
   "execution_count": null,
   "metadata": {},
   "outputs": [],
   "source": [
    "GE091.weekOut"
   ]
  },
  {
   "cell_type": "markdown",
   "metadata": {},
   "source": [
    "The `.printWeekly()` method displays every week and their respective topics."
   ]
  },
  {
   "cell_type": "code",
   "execution_count": null,
   "metadata": {},
   "outputs": [],
   "source": [
    "GE091.print_weekly()"
   ]
  },
  {
   "cell_type": "markdown",
   "metadata": {},
   "source": [
    "Let’s see what happens when you `print()` the GE091 object:"
   ]
  },
  {
   "cell_type": "code",
   "execution_count": null,
   "metadata": {},
   "outputs": [],
   "source": [
    "print(GE091)"
   ]
  },
  {
   "cell_type": "markdown",
   "metadata": {},
   "source": [
    "When you `print(GE091)`, you get a message telling you that `GE091` is a course object at the memory address. This message isn’t very helpful. You can change what gets printed by defining a special instance method called `.__str__()`. Also, we can use `__dir__` to return a list of the class's attributes."
   ]
  },
  {
   "cell_type": "code",
   "execution_count": null,
   "metadata": {},
   "outputs": [],
   "source": [
    "class Course:\n",
    "    # Class attribute\n",
    "    college = 'Lasalle College Vancouver'   \n",
    "    \n",
    "    def __init__(self, course_id, course_name, weekOut=None, teacher_id=None):\n",
    "        self.course_id = course_id \n",
    "        self.course_name = course_name\n",
    "        self.weekOut = weekOut if weekOut is not None else {}\n",
    "        self.teacher_id = teacher_id\n",
    "    \n",
    "    def print_weekly(self):\n",
    "        if not self.weekOut:\n",
    "            print(\"No weekly outline was reported.\")\n",
    "        else:\n",
    "            print('**** Weekly Outline ****\\n')\n",
    "            for week, topic in sorted(self.weekOut.items()):\n",
    "                print(f\"{week} --- {topic}\")\n",
    "    \n",
    "    def __str__(self):\n",
    "        return f\"Course: {self.course_name} (ID: {self.course_id})\"\n",
    "    \n",
    "    def __dir__(self):\n",
    "        return self.__dict__.keys() "
   ]
  },
  {
   "cell_type": "code",
   "execution_count": null,
   "metadata": {},
   "outputs": [],
   "source": [
    "dicWO = {'Week 1': 'Algebra review', 'Week 2': 'Exponent laws & Line equations', 'Week 3': 'Inequalities'}\n",
    "couseID = 'GE091'\n",
    "courseName = 'Transitional Mathematics'\n",
    "id_teacher = 3363\n",
    "\n",
    "GE091 = Course(couseID,courseName,dicWO,id_teacher)\n",
    "str(GE091)"
   ]
  },
  {
   "cell_type": "code",
   "execution_count": null,
   "metadata": {},
   "outputs": [],
   "source": [
    "print(GE091)"
   ]
  },
  {
   "cell_type": "code",
   "execution_count": null,
   "metadata": {},
   "outputs": [],
   "source": [
    "dir(GE091)"
   ]
  },
  {
   "cell_type": "markdown",
   "metadata": {},
   "source": [
    "Methods like `.__init__()` and `.__str__()` are called `dunder(Magic, Special) methods` because they begin and end with double underscores. There are many dunder methods that you can use to customize classes in Python. If you want more examples of dunder methods, see [A Guide to Python's Magic Methods](https://rszalski.github.io/magicmethods/).\n",
    "\n",
    "Now, let's create another course object and then create a class called student where one of the attribute is a list of course objects."
   ]
  },
  {
   "cell_type": "code",
   "execution_count": null,
   "metadata": {},
   "outputs": [],
   "source": [
    "dicWO = {'Week 1': 'Warm-up', 'Wee 2': 'Hands-on 1', 'Week 3': 'The Golden ratio'}\n",
    "couseID = 'MTH180'\n",
    "courseName = 'Geometry'\n",
    "teacher_id = 3370\n",
    "\n",
    "MTH180 = Course(couseID,courseName,dicWO,teacher_id)\n",
    "print(MTH180)\n",
    "dir(MTH180)"
   ]
  },
  {
   "cell_type": "markdown",
   "metadata": {},
   "source": [
    "Now we are going to create a class called students where one of the attributes is a list of objects of the class course."
   ]
  },
  {
   "cell_type": "code",
   "execution_count": null,
   "metadata": {},
   "outputs": [],
   "source": [
    "class Student:\n",
    "    \n",
    "    def __init__(self, student_id, student_name, courses=None):\n",
    "        self.student_id = student_id\n",
    "        self.student_name = student_name\n",
    "        self.courses = courses if courses is not None else []\n",
    "        \n",
    "    def print_courses(self):\n",
    "        if not self.courses:\n",
    "            print('No courses have been registered yet.')\n",
    "        else:\n",
    "            print(f\"Courses for {self.student_name}:\\n\")\n",
    "            for course in self.courses:\n",
    "                print(f\"Course ID: {course.course_id} - {course.course_name}\\n\")\n",
    "                course.print_weekly()\n",
    "                print('-' * 40)\n",
    "           \n",
    "    def __str__(self):\n",
    "        return f\"Student ID: {self.student_id}\\nStudent Name: {self.student_name}\"\n",
    "\n",
    "    def __dir__(self):\n",
    "        return self.__dict__.keys()\n"
   ]
  },
  {
   "cell_type": "code",
   "execution_count": null,
   "metadata": {},
   "outputs": [],
   "source": [
    "idS = 1843567\n",
    "name = \"Jonh\"\n",
    "courses = [GE091,MTH180]\n",
    "st = Student(idS,name,courses)"
   ]
  },
  {
   "cell_type": "code",
   "execution_count": null,
   "metadata": {},
   "outputs": [],
   "source": [
    "print(st)"
   ]
  },
  {
   "cell_type": "code",
   "execution_count": null,
   "metadata": {},
   "outputs": [],
   "source": [
    "dir(st)"
   ]
  },
  {
   "cell_type": "code",
   "execution_count": null,
   "metadata": {},
   "outputs": [],
   "source": [
    "st.student_name"
   ]
  },
  {
   "cell_type": "code",
   "execution_count": null,
   "metadata": {},
   "outputs": [],
   "source": [
    "st.courses"
   ]
  },
  {
   "cell_type": "code",
   "execution_count": null,
   "metadata": {},
   "outputs": [],
   "source": [
    "[x.course_name for x in st.courses]"
   ]
  },
  {
   "cell_type": "code",
   "execution_count": null,
   "metadata": {},
   "outputs": [],
   "source": [
    "st.print_courses()"
   ]
  },
  {
   "cell_type": "markdown",
   "metadata": {},
   "source": [
    "## 3 Make a Python Class JSON Serializable"
   ]
  },
  {
   "cell_type": "code",
   "execution_count": null,
   "metadata": {},
   "outputs": [],
   "source": [
    "import json\n",
    "from json import JSONEncoder\n",
    "\n",
    "# subclass JSONEncoder\n",
    "class studentEncoder(JSONEncoder): # Inheritance, see: https://docs.python.org/3/tutorial/classes.html#inheritance\n",
    "        def default(self, o):\n",
    "            return o.__dict__"
   ]
  },
  {
   "cell_type": "code",
   "execution_count": null,
   "metadata": {},
   "outputs": [],
   "source": [
    "studentJSONData = json.dumps(st, indent=4, cls=studentEncoder)\n",
    "print(studentJSONData)"
   ]
  },
  {
   "cell_type": "code",
   "execution_count": null,
   "metadata": {},
   "outputs": [],
   "source": [
    "studentJSONData=json.dumps(st, cls=studentEncoder)\n",
    "studentJSONData"
   ]
  },
  {
   "cell_type": "code",
   "execution_count": null,
   "metadata": {},
   "outputs": [],
   "source": []
  }
 ],
 "metadata": {
  "kernelspec": {
   "display_name": "anaconda-2022.05-py39",
   "language": "python",
   "name": "conda-env-anaconda-2022.05-py39-py"
  },
  "language_info": {
   "codemirror_mode": {
    "name": "ipython",
    "version": 3
   },
   "file_extension": ".py",
   "mimetype": "text/x-python",
   "name": "python",
   "nbconvert_exporter": "python",
   "pygments_lexer": "ipython3",
   "version": "3.9.12"
  }
 },
 "nbformat": 4,
 "nbformat_minor": 4
}
