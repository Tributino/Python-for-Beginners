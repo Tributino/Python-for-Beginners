{
 "cells": [
  {
   "cell_type": "markdown",
   "metadata": {
    "editable": true,
    "slideshow": {
     "slide_type": ""
    },
    "tags": []
   },
   "source": [
    "<img src=\"images/lasalle_logo.png\" style=\"width:375px;height:110px;\">\n",
    "\n",
    "<p style=  \"text-align: right; color: blue;\"> WIM250 - Summer 2025</p>"
   ]
  },
  {
   "cell_type": "markdown",
   "metadata": {
    "tags": []
   },
   "source": [
    "# Week 1 – Variables, Expressions, and Statements\n",
    "\n",
    "### WIM250 - Introduction to Scripting Languages \n",
    "### Instructor: Ivaldo Tributino\n",
    "\n",
    "Sources:\n",
    "\n",
    "- Python for Everybody Exploring Data Using Python 3 by Dr. Charles R. Severance\n",
    "- Automate the boring stuff with Python: practical programming for total beginners. Sweigart A.\n",
    "- [What is an Expression and What are the types of Expressions?](https://www.geeksforgeeks.org/what-is-an-expression-and-what-are-the-types-of-expressions/)"
   ]
  },
  {
   "cell_type": "code",
   "execution_count": null,
   "metadata": {},
   "outputs": [],
   "source": [
    "! python --version"
   ]
  },
  {
   "cell_type": "markdown",
   "metadata": {},
   "source": [
    "## What is a Scripting Language?\n",
    "\n",
    "A **scripting language** is a type of programming language used to automate tasks, control software, or build applications quickly. These languages are typically **interpreted**, meaning they run line-by-line without needing to be compiled first.\n",
    "\n",
    "---\n",
    "\n",
    "### Key Features of Scripting Languages (e.g., Python)\n",
    "\n",
    "- **Interpreted**: No need for compilation; runs directly.\n",
    "- **Beginner-friendly**: Simple, readable syntax.\n",
    "- **Flexible**: Great for automation, web development, and data analysis.\n",
    "- **Rapid development**: Ideal for prototyping and small-to-medium applications.\n",
    "\n",
    "---\n",
    "\n",
    "### Python vs. C++: A Beginner-Friendly Comparison\n",
    "\n",
    "| Feature                  | Python (Scripting Language)                      | C++ (Compiled Language)                          |\n",
    "|--------------------------|--------------------------------------------------|--------------------------------------------------|\n",
    "| **Execution**            | Interpreted line-by-line                         | Compiled into machine code before execution      |\n",
    "| **Speed**                | Slower (due to interpretation)                  | Faster (optimized machine code)                  |\n",
    "| **Syntax**               | Simple and readable                             | More complex and strict                          |\n",
    "| **Use Case**             | Web apps, automation, data science, scripting   | Game engines, system software, performance apps  |\n",
    "| **Development Speed**    | Fast (less code, quick testing)                 | Slower (more setup and debugging)                |\n",
    "| **Memory Management**    | Automatic (garbage collection)                  | Manual (developer manages memory)                |\n",
    "\n",
    "---\n",
    "\n",
    "### Analogy\n",
    "\n",
    "> Think of **Python** like a **chef using a recipe**—you can follow the steps and cook right away.  \n",
    "> **C++** is like **building a kitchen from scratch** before you can start cooking—it gives you more control, but takes more time and effort.\n",
    "\n"
   ]
  },
  {
   "cell_type": "markdown",
   "metadata": {},
   "source": [
    "## 1. Constants\n",
    "\n",
    "- Fixed values such as `numbers`, `letters`, and `strings`, are called “constants” because their value does not change\n",
    "- Numeric constants are as you expect\n",
    "- String constants use single quotes `(')` or double quotes `(\")`\n",
    "\n",
    "A data type is a category for values, and every value belongs to exactly one data type. The most common data types in Python are: Integer, Floating-point number and String.\n",
    "\n",
    "You can get the data type of any object by using the type() function, Let's try:\n",
    "\n",
    "```python\n",
    "Student_name = \"Ivaldo\"\n",
    "Student_id = 3363\n",
    "```"
   ]
  },
  {
   "cell_type": "code",
   "execution_count": null,
   "metadata": {},
   "outputs": [],
   "source": [
    "# The print() function prints the specified message to the screen, or other standard output device.\n",
    "# type() With one argument, return the type of an object.\n",
    "Student_name = \n",
    "print(type(Student_name))\n",
    "Student_id = \n",
    "print(type(Student_id))"
   ]
  },
  {
   "cell_type": "markdown",
   "metadata": {},
   "source": [
    "## 2. Variables\n",
    "\n",
    "In Python, a variable is simply a name that refers to a value stored in memory. You don’t need to declare the type of a variable—Python figures it out for you.\n",
    "\n",
    "```python\n",
    "x = 10\n",
    "name = \"Ivaldo\"\n",
    "\n",
    "```\n",
    "\n",
    "It is helpful to think of variables as a a label or name tag attached to an object in memory. Think of a variable as a name tag you stick onto a value (object). You can move the name tag to a different object, but the original object stays where it is unless no one else is using it—then it gets cleaned up (garbage collected).\n",
    "\n",
    "**Python vs. C++: Memory and Variables**\n",
    "\n",
    "| Feature                  | **Python**                                      | **C++**                                           |\n",
    "|--------------------------|--------------------------------------------------|--------------------------------------------------|\n",
    "| **Typing**               | Dynamically typed                               | Statically typed                                 |\n",
    "| **Memory Management**    | Automatic (garbage collection)                  | Manual (you allocate and free memory)            |\n",
    "| **Variable Behavior**    | Variables are references to objects             | Variables are memory locations (values stored directly) |\n",
    "| **Performance**          | Slower (due to abstraction and GC)              | Faster (closer to hardware)                      |\n",
    "| **Pointer Access**       | Not exposed directly                            | Fully exposed (you can manipulate memory)        |\n",
    "\n",
    "**Analogy**\n",
    "- Python: Like using a valet service—you hand over your keys (variable), and Python manages the car (object) for you.\n",
    "- C++: Like parking your own car—you control where it goes and when to take it out.\n",
    "Obs: Variables in python are always references to the objects in memory.\n",
    "\n",
    "<center>\n",
    "<img src=\"images/Python_versus_C++.png\" style=\"width:350px;height:350px;\">\n",
    "<center>"
   ]
  },
  {
   "cell_type": "markdown",
   "metadata": {},
   "source": [
    "In Python, the `id()` function is a built-in function that returns the unique identifier of an object. The identifier is an integer, which represents the memory address of the object. The `id()` function is commonly used to check if two variables or objects refer to the same memory location. Source : [geeksforgeeks](https://www.geeksforgeeks.org/id-function-python/)"
   ]
  },
  {
   "cell_type": "code",
   "execution_count": null,
   "metadata": {},
   "outputs": [],
   "source": [
    "# Floats are not cached in the same way as small integers. \n",
    "a = \n",
    "print(id(a))\n",
    "b = a\n",
    "print(id(b))\n",
    "c = \n",
    "print(id(c))\n",
    "type(c)"
   ]
  },
  {
   "cell_type": "markdown",
   "metadata": {},
   "source": [
    "### 2.1 Reserved Words\n",
    "\n",
    "### You cannot use `reserved` words as variable names / identifiers\n",
    "\n",
    "|  |  |  |  |  |\n",
    "| --- | --- | --- | --- | --- |\n",
    "| False | class | return | is | Finally|\n",
    "| None | if | for | lambda | continue|\n",
    "| True | def | from | while | nonlocal|\n",
    "| and | del | global | not | with|\n",
    "| as | elif | try | or | yield|\n",
    "| assert | else | import | pass | break|\n",
    "| except | in | raise |  | |\n",
    "\n",
    "Example:\n",
    "\n",
    "```python \n",
    "    return = 100\n",
    "           ^\n",
    "SyntaxError: invalid syntax\n",
    "```"
   ]
  },
  {
   "cell_type": "code",
   "execution_count": null,
   "metadata": {},
   "outputs": [],
   "source": [
    "#Try:\n"
   ]
  },
  {
   "cell_type": "markdown",
   "metadata": {},
   "source": [
    "### 2.2 Python Variable Name Rules\n",
    "You can name a variable anything as long as it obeys the following three rules:\n",
    "\n",
    "- Must start with a letter or underscore _ \n",
    "- Must consist of letters, numbers, and underscores\n",
    "- Case Sensitive\n",
    "\n",
    "Good:    spam,    eggs,   spam23,    _speed\n",
    "\\\n",
    "Bad:     23spam,     #sign,  var.12\n",
    "\\\n",
    "Different:    spam,   Spam,   SPAM\n",
    "\n",
    "Example:\n",
    "\n",
    "```python \n",
    "23x = 10\n",
    "        ^\n",
    "SyntaxError: invalid syntax\n",
    "```"
   ]
  },
  {
   "cell_type": "code",
   "execution_count": null,
   "metadata": {},
   "outputs": [],
   "source": [
    "# Try\n"
   ]
  },
  {
   "cell_type": "markdown",
   "metadata": {},
   "source": [
    "## 3. Statements & Expressions\n",
    "\n",
    "A statement is a unit of code that the Python interpreter can execute. \n",
    "\n",
    "```python\n",
    "x = 2 # Assignment statement (An assignment statement gives a value to a variable.);\n",
    "x = x + 1 # Assignment with expression;\n",
    "print(x) # Print statement\n",
    "\n",
    "```\n",
    "`x` is a variable\n",
    "\\\n",
    "`2` is a constant\n",
    "\\\n",
    "`+` and `=` are operators\n",
    "\\\n",
    "`print(x)` is a function\n",
    "\\\n",
    "See [What is an Expression and What are the types of Expressions?](https://www.geeksforgeeks.org/what-is-an-expression-and-what-are-the-types-of-expressions/) for more details. \n",
    "\n",
    "\n",
    "#### Summary Table: Statements vs. Expressions in Python\n",
    "\n",
    "| Concept     | Description                          | Example               |\n",
    "|-------------|--------------------------------------|-----------------------|\n",
    "| **Expression**  | Produces a value                     | 3 + 4, \"Hi\" * 2   |\n",
    "| **Statement**   | Performs an action or instruction    | x = 3 + 4, if x:  |"
   ]
  },
  {
   "cell_type": "code",
   "execution_count": null,
   "metadata": {},
   "outputs": [],
   "source": [
    "# Try\n"
   ]
  },
  {
   "cell_type": "markdown",
   "metadata": {},
   "source": [
    "**Arithmetic Operators**\n",
    "\n",
    "Arithmetic operators are used in performing mathematical operations such as Addition, Subtraction, Multiplication, Division, Modulus, Floor Division, and Exponent.\n",
    "\n",
    "<img src=\"images/arithmetic_operators.png\" style=\"width:475px;height:350px;\">\n"
   ]
  },
  {
   "cell_type": "code",
   "execution_count": null,
   "metadata": {},
   "outputs": [],
   "source": [
    "pi = 3.1415926535 # The first 10 digits of pi\n",
    "pi = pi + 2 # addition\n",
    "print(pi)"
   ]
  },
  {
   "cell_type": "code",
   "execution_count": null,
   "metadata": {},
   "outputs": [],
   "source": [
    "4*3 # multiplication"
   ]
  },
  {
   "cell_type": "code",
   "execution_count": null,
   "metadata": {},
   "outputs": [],
   "source": [
    "2**4 # Exponent"
   ]
  },
  {
   "cell_type": "code",
   "execution_count": null,
   "metadata": {},
   "outputs": [],
   "source": [
    "6%2  # 23 = 5*4 + 3"
   ]
  },
  {
   "cell_type": "code",
   "execution_count": null,
   "metadata": {},
   "outputs": [],
   "source": [
    "23/5 # division"
   ]
  },
  {
   "cell_type": "code",
   "execution_count": null,
   "metadata": {},
   "outputs": [],
   "source": [
    "23//5 # division (Return the quotient)"
   ]
  },
  {
   "cell_type": "code",
   "execution_count": null,
   "metadata": {},
   "outputs": [],
   "source": [
    "# Your Turn \n"
   ]
  },
  {
   "cell_type": "markdown",
   "metadata": {},
   "source": [
    "## 4. Order of Evaluation\n",
    "\n",
    "### Highest precedence rule to lowest precedence rule:\n",
    "- Parentheses are always respected\n",
    "- Exponentiation (raise to a power)\n",
    "- Multiplication, Division, and Remainder\n",
    "- Addition and Subtraction\n",
    "- Left to right!"
   ]
  },
  {
   "cell_type": "code",
   "execution_count": null,
   "metadata": {},
   "outputs": [],
   "source": [
    "# Try\n"
   ]
  },
  {
   "cell_type": "code",
   "execution_count": null,
   "metadata": {},
   "outputs": [],
   "source": [
    "# Try\n"
   ]
  },
  {
   "cell_type": "markdown",
   "metadata": {},
   "source": [
    "## 5. What Does “Type” Mean?\n",
    "\n",
    "In Python, type refers to the kind of value a variable holds—also known as its data type. Every object in Python has a type, which determines what operations can be performed on it and how it behaves.\n",
    "\n",
    "**Why Types Matter**\n",
    "\n",
    "- They determine what operations are valid (e.g., you can’t add a string to an integer).\n",
    "- They help Python manage memory and optimize performance.\n",
    "- Python is dynamically typed, meaning you don’t need to declare the type explicitly—it’s inferred at runtime (Python knows the difference between an integer number and a string) Ex: For example “+” means `“addition”` if something is a number and `“concatenate”` if something is a string.\n",
    "\n",
    "**Common Built-in Types in Python**\n",
    "\n",
    "| Type        | Description                          | Example             |\n",
    "|-------------|--------------------------------------|---------------------|\n",
    "| int         | Integer numbers                      |  x = 10             |\n",
    "|  float      | Decimal numbers                      |  pi = 3.14          |\n",
    "|  str        | Text (string)                        |  name = \"Alice\"     |\n",
    "|  bool       | Boolean values                       |  flag = True        |\n",
    "|  list       | Ordered, mutable collection          |  nums = [1, 2, 3]   |\n",
    "|  tuple      | Ordered, immutable collection        |  coords = (1, 2)    |\n",
    "|  dict       | Key-value pairs                      |  user = {\"id\": 1}   |\n",
    "|  set        | Unordered, unique elements           |  colors = {\"red\"}   |\n",
    "|  NoneType   | Represents the absence of a value    |  x = None           |\n",
    "\n",
    "\n",
    ">**Integers:** Python integers are objects, not raw values. A small integer like 5 may take 24–28 bytes or more.\n",
    "**Floats:** Python floats are based on C double, so they typically use 24 bytes.\n",
    "**Strings, lists, dicts:** These are also objects and include metadata (like length, type, reference count), so they use much more memory than their C++ equivalents.\n",
    "\n",
    "You can check memory size in Python using `sys.getsizeof()`.\n",
    "\n",
    "```python\n",
    "import sys\n",
    "print(sys.getsizeof(5))       # ~28 bytes\n",
    "print(sys.getsizeof(3.14))    # ~24 bytes\n",
    "\n",
    "```\n"
   ]
  },
  {
   "cell_type": "code",
   "execution_count": null,
   "metadata": {},
   "outputs": [],
   "source": [
    "#Try\n"
   ]
  },
  {
   "cell_type": "markdown",
   "metadata": {},
   "source": [
    "```python\n",
    "conc = \"Hello\" + \" there\"\n",
    "print(conc)\n",
    "```\n",
    "The expression above combines the text of the two strings. However, if you try to use the `+` operator on a string and an integer value, Python will not know how to handle this, and it will display an error message."
   ]
  },
  {
   "cell_type": "code",
   "execution_count": null,
   "metadata": {},
   "outputs": [],
   "source": [
    "# Try \n",
    "'Hello' + 2"
   ]
  },
  {
   "cell_type": "markdown",
   "metadata": {},
   "source": [
    "### 5.1 Type Matters\n",
    "\n",
    "- Python knows what `“type”` everything is \n",
    "- Some operations are prohibited\n",
    "- We can ask Python what type something is by using the `type()` function"
   ]
  },
  {
   "cell_type": "code",
   "execution_count": null,
   "metadata": {},
   "outputs": [],
   "source": [
    "type(add)"
   ]
  },
  {
   "cell_type": "code",
   "execution_count": null,
   "metadata": {},
   "outputs": [],
   "source": [
    "type(conc)"
   ]
  },
  {
   "cell_type": "code",
   "execution_count": null,
   "metadata": {},
   "outputs": [],
   "source": [
    "x = 7\n",
    "print(type(x))\n",
    "print(x)\n",
    "y = str(7)\n",
    "print(y)\n",
    "print(type(y))"
   ]
  },
  {
   "cell_type": "markdown",
   "metadata": {},
   "source": [
    "**Yout turn**\n",
    "\n",
    "Type the following lines of code into the cell below.\n",
    "\n",
    "```python\n",
    "print(x)\n",
    "print(y)\n",
    "print(x == y)\n",
    "```"
   ]
  },
  {
   "cell_type": "code",
   "execution_count": null,
   "metadata": {},
   "outputs": [],
   "source": [
    "print(x)\n",
    "print(y)\n",
    "print(x == y)"
   ]
  },
  {
   "cell_type": "markdown",
   "metadata": {},
   "source": [
    "### 5.2 Several Types of Numbers\n",
    "\n",
    "- **Numbers have two main types**\n",
    " -  Integers:  `-14, -2, 0, 1, 100, 401233`\n",
    " -  Floating Point Numbers have decimal parts:  `-2.5 , 0.0, 98.6, 14.0`\n",
    "- **There are other number types - they are variations on float and integer (complex numbers)**\n"
   ]
  },
  {
   "cell_type": "code",
   "execution_count": null,
   "metadata": {},
   "outputs": [],
   "source": [
    "type(-14)"
   ]
  },
  {
   "cell_type": "code",
   "execution_count": null,
   "metadata": {},
   "outputs": [],
   "source": [
    "type(12.4)"
   ]
  },
  {
   "cell_type": "code",
   "execution_count": null,
   "metadata": {},
   "outputs": [],
   "source": [
    "type(1.0)"
   ]
  },
  {
   "cell_type": "markdown",
   "metadata": {},
   "source": [
    "### 5.3 Type Conversions\n",
    "\n",
    "- When you put an integer and floating point in an expression, the integer is implicitly converted to a float\n",
    "- You can control this with the built-in functions `int()` and `float()`\n"
   ]
  },
  {
   "cell_type": "code",
   "execution_count": null,
   "metadata": {},
   "outputs": [],
   "source": [
    "print(float(99) + 100)"
   ]
  },
  {
   "cell_type": "code",
   "execution_count": null,
   "metadata": {},
   "outputs": [],
   "source": [
    "i = 42 + 1.0\n",
    "print(i)\n",
    "type(i)"
   ]
  },
  {
   "cell_type": "code",
   "execution_count": null,
   "metadata": {},
   "outputs": [],
   "source": [
    "f = int(i)\n",
    "print(f)"
   ]
  },
  {
   "cell_type": "code",
   "execution_count": null,
   "metadata": {},
   "outputs": [],
   "source": [
    "x = 11.9\n",
    "int(x)"
   ]
  },
  {
   "cell_type": "markdown",
   "metadata": {},
   "source": [
    "### Integer Division\n",
    "\n",
    "Integer division produces a `floating point` result\n"
   ]
  },
  {
   "cell_type": "code",
   "execution_count": null,
   "metadata": {},
   "outputs": [],
   "source": [
    "print(10 / 2) "
   ]
  },
  {
   "cell_type": "code",
   "execution_count": null,
   "metadata": {},
   "outputs": [],
   "source": [
    "print(9 / 2) "
   ]
  },
  {
   "cell_type": "code",
   "execution_count": null,
   "metadata": {},
   "outputs": [],
   "source": [
    "print(99 / 100) "
   ]
  },
  {
   "cell_type": "code",
   "execution_count": null,
   "metadata": {},
   "outputs": [],
   "source": [
    "print(10.0 / 2.0)"
   ]
  },
  {
   "cell_type": "code",
   "execution_count": null,
   "metadata": {},
   "outputs": [],
   "source": [
    "print(99.0 / 100.0) "
   ]
  },
  {
   "cell_type": "markdown",
   "metadata": {},
   "source": [
    "### String Conversions\n",
    "\n",
    "- You can also use `int()` and `float()` to convert numeric characters\n",
    "- You will get an error if the string does not contain numeric characters"
   ]
  },
  {
   "cell_type": "code",
   "execution_count": null,
   "metadata": {},
   "outputs": [],
   "source": [
    "sval = '123' # string value\n",
    "type(sval)"
   ]
  },
  {
   "cell_type": "markdown",
   "metadata": {},
   "source": [
    "If we try the lines of code below, we will get an error.\n",
    "\n",
    "\n",
    "\n",
    "```python\n",
    "nsv = 'hello bob' # no string value\n",
    "niv = int(nsv)    # no integer value\n",
    "\n",
    "\n",
    "      1 nsv = 'hello bob' # no string value\n",
    "----> 2 niv = int(nsv)\n",
    "\n",
    "ValueError: invalid literal for int() with base 10: 'hello bob'\n",
    "\n",
    "```"
   ]
  },
  {
   "cell_type": "markdown",
   "metadata": {},
   "source": [
    "### Input function\n",
    "\n",
    "- We can instruct Python to pause and read data from the user using the `input()`  function\n",
    "- The `input()`  function returns a string\n"
   ]
  },
  {
   "cell_type": "code",
   "execution_count": null,
   "metadata": {},
   "outputs": [],
   "source": [
    "age = input('Enter your age')\n",
    "print(f'I am {age} years old')"
   ]
  },
  {
   "cell_type": "code",
   "execution_count": null,
   "metadata": {},
   "outputs": [],
   "source": [
    "type(age)"
   ]
  },
  {
   "cell_type": "markdown",
   "metadata": {},
   "source": [
    "If we want to read a number from the user, we must convert it from a string to a number using a type conversion function."
   ]
  },
  {
   "cell_type": "code",
   "execution_count": null,
   "metadata": {},
   "outputs": [],
   "source": [
    "age = int(age)\n",
    "type(age)"
   ]
  },
  {
   "cell_type": "markdown",
   "metadata": {},
   "source": [
    "### Comments in Python\n",
    "\n",
    "Anything after a `#`(number sign / hash / pound sign) is ignored by Python. Why comment?\n",
    " -  Describe what is going to happen in a sequence of code\n",
    " -  Document who wrote the code or other ancillary information\n",
    " -  Turn off a line of code - perhaps temporarily\n"
   ]
  },
  {
   "cell_type": "code",
   "execution_count": null,
   "metadata": {},
   "outputs": [],
   "source": [
    "# I will print the word \"welcome\"\n",
    "print(\"welcome\")"
   ]
  },
  {
   "cell_type": "markdown",
   "metadata": {},
   "source": [
    "### Your Turn\n",
    "\n",
    "#### Problem: Tip & Tax Calculator (Vancouver Edition)\n",
    "\n",
    "Create a Python program that calculates the **tip**, **tax**, and **total amount** to pay for a restaurant bill in Vancouver, BC.\n",
    "\n",
    "---\n",
    "\n",
    "#### Requirements:\n",
    "\n",
    "1. Ask the user to input:\n",
    "   - The **bill amount** (before tax and tip)\n",
    "   - The **tip percentage** they want to leave (e.g., 15 for 15%)\n",
    "\n",
    "2. Apply a **12% tax** (GST + PST + HST in Vancouver) to the bill.\n",
    "\n",
    "3. Calculate:\n",
    "   - The **tax amount**\n",
    "   - The **tip amount** (based on the original bill)\n",
    "   - The **total amount to pay** (bill + tax + tip)\n",
    "\n",
    "4. Use:\n",
    "   - `input()` to get user input\n",
    "   - `float()` and `int()` for type conversion\n",
    "   - Arithmetic **operators** to perform calculations\n",
    "\n",
    "5. Display the results clearly using `print()`.\n",
    "\n",
    "---\n",
    "\n",
    "#### Example Output:\n",
    "\n",
    "Enter the bill amount: 100 and the tip percentage: 18\\%.\n",
    "\n",
    "- Bill before tax: \\$100.00\n",
    "- Tax (12%): \\$12.00\n",
    "- Tip (18%): \\$18.00\n",
    "- Total amount to pay: \\$130.00"
   ]
  },
  {
   "cell_type": "code",
   "execution_count": null,
   "metadata": {
    "editable": true,
    "slideshow": {
     "slide_type": ""
    },
    "tags": []
   },
   "outputs": [],
   "source": [
    "# Tip & Tax Calculator \n",
    "\n",
    "# Get user input\n",
    "bill_input = \n",
    "tip_input = \n",
    "\n",
    "# Convert inputs to appropriate types\n",
    "bill = \n",
    "tip_percent = \n",
    "\n",
    "# Constants\n",
    "TAX_RATE = \n",
    "\n",
    "# Calculations\n",
    "tax_amount = \n",
    "tip_amount = \n",
    "total_amount = \n",
    "\n",
    "# Display results\n",
    "print(f\"\\nBill before tax: ${bill:.2f}\")\n",
    "print(f\"Tax (12%): ${tax_amount:.2f}\")\n",
    "print(f\"Tip ({tip_percent}%): ${tip_amount:.2f}\")\n",
    "print(f\"Total amount to pay: ${total_amount:.2f}\")\n"
   ]
  },
  {
   "cell_type": "code",
   "execution_count": null,
   "metadata": {},
   "outputs": [],
   "source": []
  }
 ],
 "metadata": {
  "kernelspec": {
   "display_name": "anaconda-2022.05-py39",
   "language": "python",
   "name": "conda-env-anaconda-2022.05-py39-py"
  },
  "language_info": {
   "codemirror_mode": {
    "name": "ipython",
    "version": 3
   },
   "file_extension": ".py",
   "mimetype": "text/x-python",
   "name": "python",
   "nbconvert_exporter": "python",
   "pygments_lexer": "ipython3",
   "version": "3.9.12"
  }
 },
 "nbformat": 4,
 "nbformat_minor": 4
}
